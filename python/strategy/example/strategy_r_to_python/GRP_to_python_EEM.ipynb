{
 "cells": [
  {
   "cell_type": "markdown",
   "metadata": {},
   "source": [
    "### 업무 수행자: 최정윤"
   ]
  },
  {
   "cell_type": "code",
   "execution_count": 1,
   "metadata": {},
   "outputs": [],
   "source": [
    "import os\n",
    "import sys"
   ]
  },
  {
   "cell_type": "code",
   "execution_count": 2,
   "metadata": {},
   "outputs": [],
   "source": [
    "import pandas as pd\n",
    "import numpy as np\n",
    "import matplotlib.pyplot as plt\n",
    "%matplotlib inline"
   ]
  },
  {
   "cell_type": "code",
   "execution_count": 3,
   "metadata": {},
   "outputs": [],
   "source": [
    "name1 = 'tests'"
   ]
  },
  {
   "cell_type": "code",
   "execution_count": 4,
   "metadata": {},
   "outputs": [],
   "source": [
    "base_path = os.path.abspath('.')\n",
    "data_path = os.path.join(base_path, 'data')"
   ]
  },
  {
   "cell_type": "markdown",
   "metadata": {},
   "source": [
    "# 1. Read Data"
   ]
  },
  {
   "cell_type": "markdown",
   "metadata": {},
   "source": [
    "- eindex, eindex1 가격 차이 남"
   ]
  },
  {
   "cell_type": "code",
   "execution_count": 5,
   "metadata": {},
   "outputs": [],
   "source": [
    "eindex_path = os.path.join(data_path, 'totindex.csv')\n",
    "eindex1_path = os.path.join(data_path, 'priceindex.csv')\n",
    "efuture_path = os.path.join(data_path, 'FutGenratio1.csv')"
   ]
  },
  {
   "cell_type": "code",
   "execution_count": 6,
   "metadata": {},
   "outputs": [],
   "source": [
    "total_ret_idx = pd.read_csv(eindex_path, header=0, index_col=0, parse_dates=True)\n",
    "total_ret = total_ret_idx.pct_change(1)\n",
    "prc_idx = pd.read_csv(eindex1_path, header=0, index_col=0, parse_dates=True)\n",
    "prc_ret = prc_idx.pct_change(1)\n",
    "fut_idx = pd.read_csv(efuture_path, header=0, index_col=0, parse_dates=True)\n",
    "fut_idx.index = pd.to_datetime(fut_idx.index, unit='D', origin=pd.Timestamp('1899-12-30'))\n",
    "fut_ret = fut_idx.pct_change(1)\n",
    "\n",
    "# 만약에 eindex에 빈 정보가 있으면 eindex1으로 대체\n",
    "no_data_dates = total_ret[(total_ret.isnull().sum(axis=1) > 0).values].index\n",
    "total_ret.loc[no_data_dates] = prc_ret.loc[no_data_dates]\n",
    "\n",
    "# 2007년까지는 eindex 2008년부터는 future 사용\n",
    "ERet = pd.concat([total_ret.loc[:'2007-12-31'], fut_ret.loc['2008-01-01':]], axis=0)\n",
    "ERet.fillna(0, inplace=True)\n",
    "Eindex = (1. + ERet).cumprod()"
   ]
  },
  {
   "cell_type": "markdown",
   "metadata": {},
   "source": [
    "# 2. Parameter Setting"
   ]
  },
  {
   "cell_type": "code",
   "execution_count": 7,
   "metadata": {},
   "outputs": [],
   "source": [
    "RBP = 3\n",
    "CSNUM = 0.35\n",
    "CSpos = 0\n",
    "\n",
    "# param setting part\n",
    "RB1 = RBP\n",
    "RB2 = RBP\n",
    "\n",
    "RET = ERet.copy()\n",
    "RETfinal = RET.copy()\n",
    "index = Eindex.copy()\n",
    "\n",
    "CSdesign = \"notional\""
   ]
  },
  {
   "cell_type": "markdown",
   "metadata": {},
   "source": [
    "# 3. Caculate Signal"
   ]
  },
  {
   "cell_type": "markdown",
   "metadata": {},
   "source": [
    "<strong>선진국 Earnimg Momentum 전략</strong>\n",
    "- Earning Momentum 높은 것 Long 낮은 것 Short\n",
    "    - Earning Momentum: (ERR - 12개월 평균 ERR) 6개월 평균\n",
    "\n"
   ]
  },
  {
   "cell_type": "code",
   "execution_count": 37,
   "metadata": {},
   "outputs": [],
   "source": [
    "for i in range(2):\n",
    "    if i == 0:\n",
    "        RET = ERet.loc[:, ERet.columns[:10]]\n",
    "    else:\n",
    "        RET = ERet.loc[:, ERet.columns[10:]]\n",
    "\n",
    "    index = Eindex.loc[:, RET.columns]\n",
    "\n",
    "    # 1. Load Data\n",
    "    err_path = os.path.join(data_path, 'ERR.csv')\n",
    "    err = pd.read_csv(err_path, header=0, index_col=0, parse_dates=True)\n",
    "    \n",
    "    # 2. Parameter Setting\n",
    "    minobs1=12\n",
    "    minobs=60\n",
    "    Ret = RET\n",
    "    Expanding=0\n",
    "    nopos=0.4##middle section->neutral zone\n",
    "    CS=CSNUM # assets to long and short\n",
    "\n",
    "    longlen=12\n",
    "    shortlen=0\n",
    "    \n",
    "    # 3. Calculate Earning momentum\n",
    "    # this month err - 12 month average err\n",
    "    Mag = err - err.rolling(window=longlen+1).mean()\n",
    "    Mag = Mag.iloc[longlen:]\n",
    "    Mag = Mag[Ret.columns]\n",
    "\n",
    "    # 6 month average\n",
    "    STDEV = Mag.rolling(window=6).mean()\n",
    "    STDEV = STDEV.iloc[5:]\n",
    "    \n",
    "    lag = 0\n",
    "    RV = STDEV\n",
    "    RV1 = RV.iloc[:len(RV)-lag]\n",
    "    RV1.index = RV.index[lag:]\n",
    "    RV = RV1\n",
    "    \n",
    "    # 4. Rank\n",
    "    pctrank = lambda x: pd.Series(x).rank(pct=True).iloc[-1]\n",
    "    RVrank = RV.expanding().apply(pctrank, raw=True) # it takes some time\n",
    "    RVrank = RVrank.iloc[minobs1-1:,]\n",
    "    \n",
    "    # 5. Long Short\n",
    "    truecount = (RVrank.notnull().sum(axis=1) * CS).apply(round)\n",
    "    tiebreaker = RVrank.rolling(5).mean().fillna(0) * 0.0000001\n",
    "\n",
    "    # 1. Cross sectional\n",
    "    CSRV = (RVrank + tiebreaker).rank(axis=1, method='first') # Short\n",
    "    CSRV1 = (-1 * RVrank -1 * tiebreaker).rank(axis=1, method='first') # Long\n",
    "\n",
    "    CSRVpos = CSRV.fillna(0) * 0\n",
    "    CSRVpos[CSRV.apply(lambda x: x <= truecount, axis=0)] = -1\n",
    "    CSRVpos[CSRV1.apply(lambda x: x <= truecount, axis=0)] = 1\n",
    "\n",
    "    # Final CS signal\n",
    "    CSRV = CSRVpos\n",
    "\n",
    "    # 2. Time Series\n",
    "    TSRV = RVrank.fillna(0) * 0\n",
    "    TSRV[RVrank > nopos + (1-nopos)/2] = 1 # Long\n",
    "    TSRV[RVrank < (1-nopos)/2] = -1 # Short\n",
    "\n",
    "    if i == 0:\n",
    "        TSRVrun1 = TSRV\n",
    "        CSRVrun1 = CSRV\n",
    "    else:\n",
    "        TSRVrun2 = TSRV\n",
    "        CSRVrun2 = CSRV"
   ]
  },
  {
   "cell_type": "markdown",
   "metadata": {},
   "source": [
    "# 4. Combine Result"
   ]
  },
  {
   "cell_type": "code",
   "execution_count": 38,
   "metadata": {},
   "outputs": [],
   "source": [
    "TSRV = pd.concat([TSRVrun1, TSRVrun2], axis=1)\n",
    "CSRV = pd.concat([CSRVrun1, CSRVrun2], axis=1)"
   ]
  },
  {
   "cell_type": "code",
   "execution_count": 39,
   "metadata": {},
   "outputs": [],
   "source": [
    "TSRV = TSRV[ERet.columns]\n",
    "CSRV = CSRV[ERet.columns]"
   ]
  },
  {
   "cell_type": "code",
   "execution_count": 43,
   "metadata": {},
   "outputs": [
    {
     "name": "stderr",
     "output_type": "stream",
     "text": [
      "c:\\programdata\\anaconda3\\envs\\project\\lib\\site-packages\\ipykernel_launcher.py:2: FutureWarning: \n",
      "Passing list-likes to .loc or [] with any missing label will raise\n",
      "KeyError in the future, you can use .reindex() as an alternative.\n",
      "\n",
      "See the documentation here:\n",
      "https://pandas.pydata.org/pandas-docs/stable/indexing.html#deprecate-loc-reindex-listlike\n",
      "  \n",
      "c:\\programdata\\anaconda3\\envs\\project\\lib\\site-packages\\ipykernel_launcher.py:3: FutureWarning: \n",
      "Passing list-likes to .loc or [] with any missing label will raise\n",
      "KeyError in the future, you can use .reindex() as an alternative.\n",
      "\n",
      "See the documentation here:\n",
      "https://pandas.pydata.org/pandas-docs/stable/indexing.html#deprecate-loc-reindex-listlike\n",
      "  This is separate from the ipykernel package so we can avoid doing imports until\n"
     ]
    }
   ],
   "source": [
    "# Align dates with Return DataFrame\n",
    "TSRV = TSRV.loc[RET.index].fillna(method='ffill').dropna(how='all')\n",
    "CSRV = CSRV.loc[RET.index].fillna(method='ffill').dropna(how='all')\n",
    "\n",
    "# Align dates with each other\n",
    "if TSRV.index[0] > CSRV.index[0]:\n",
    "    CSRV = CSRV.loc[TSRV.index[0]:]\n",
    "else:\n",
    "    TSRV = TSRV.loc[CSRV.index[0]:]"
   ]
  },
  {
   "cell_type": "markdown",
   "metadata": {},
   "source": [
    "# 5. Backtest"
   ]
  },
  {
   "cell_type": "code",
   "execution_count": 44,
   "metadata": {},
   "outputs": [],
   "source": [
    "def ex_ante_vol(df_ret, todate, weights, lookback=130, shrink_corr=0.9):\n",
    "    '''\n",
    "    Args:\n",
    "        df_ret: pandas DataFrame of returns\n",
    "        todate: date to calculate ex ante vol\n",
    "        weights: weight of strategy before ex ante vol control\n",
    "        lookback: number of days to consider for calculating cov\n",
    "        shrink_corr: weight to shrink correlation\n",
    "    '''\n",
    "    # setting data range\n",
    "    todate_loc = df_ret.index.get_loc(todate)\n",
    "    if todate_loc > lookback:\n",
    "        fromdate_loc = todate_loc - lookback\n",
    "    else:\n",
    "        fromdate_loc = 0\n",
    "    \n",
    "    # calculate corr apply shrinkage\n",
    "    corr = df_ret.iloc[fromdate_loc:todate_loc].corr()\n",
    "    corr = corr * shrink_corr + np.diag(np.ones(len(df_ret.columns))) * (1.- shrink_corr)\n",
    "    # calculate cov\n",
    "    std = df_ret.iloc[fromdate_loc:todate_loc].std()\n",
    "    cov = pd.DataFrame(np.diag(std).dot(corr).dot(np.diag(std)), index=RET.columns, columns=RET.columns)\n",
    "    # calculate ex ante vol\n",
    "    return np.sqrt(weights.dot(cov).dot(weights)) * np.sqrt(260)"
   ]
  },
  {
   "cell_type": "code",
   "execution_count": 45,
   "metadata": {},
   "outputs": [],
   "source": [
    "class GRP_bt:\n",
    "    '''\n",
    "    '''\n",
    "    def __init__(self, CSLS, RET, RB, min_vol, freq):\n",
    "        '''\n",
    "        '''\n",
    "        self.CSLS = CSLS  # Cross Sectional Exposure Type. 'vol' means volatility allocation. 'notional' means notional. \n",
    "        self.RET = RET  # \n",
    "        self.RB = RB\n",
    "        \n",
    "        self.Assetvol = 0.02 # vol control parameter for individual assets\n",
    "        self.Strategyvol = 0.02 # vol control parameter for whole strategy\n",
    "        self.factorvol = 0.02\n",
    "        self.factorsd = 260 # lookback period for calcualting factorvol\n",
    "        self.assetsd = 90 # lookback period for calculating Assetvol\n",
    "        self.statsd = 90 # lookback period for calcualting Strategyvol\n",
    "\n",
    "        self.volband = 0.05 # if controled vol is within volband, do not change vol\n",
    "        self.min_vol = min_vol # vol floor 0.04 for ir strategy, 0.15 for all otheres\n",
    "        self.freq = freq # strategy frequency setting. it only applys to Cross Sectional backtesting now.\n",
    "        \n",
    "        # Calculating volatility for assets\n",
    "        std = (self.RET.rolling(window=self.assetsd).std() * np.sqrt(260)).iloc[self.assetsd:]\n",
    "        # Adjust calculated asset volatility\n",
    "        self.std_adj = self.adjust_by_volband(std, self.volband, min_vol=self.min_vol)\n",
    "\n",
    "    def adjust_by_volband(self, df_vol, volband, min_vol=None):\n",
    "        for i in range(1, len(df_vol.index)):\n",
    "            if df_vol.iloc[i].name.weekday() == self.RB:\n",
    "                for c in range(len(df_vol.columns)):\n",
    "                    # case1. if new std is null\n",
    "                    if pd.isnull(df_vol.iloc[i, c]):\n",
    "                        df_vol.iloc[i, c] = df_vol.iloc[i-1, c]\n",
    "                    # case2. if new std within volband\n",
    "                    if abs(df_vol.iloc[i, c] - df_vol.iloc[i-1, c]) < volband * df_vol.iloc[i-1, c] :\n",
    "                        df_vol.iloc[i, c] = df_vol.iloc[i-1, c]\n",
    "            else:\n",
    "                df_vol.iloc[i] = df_vol.iloc[i-1]\n",
    "        if min_vol is not None:\n",
    "            df_vol[df_vol < min_vol] = min_vol\n",
    "\n",
    "        return df_vol\n",
    "    \n",
    "    def ts_vol_control_backtest(self, TSRV):\n",
    "        # Time Series \n",
    "        VCweight = self.Assetvol / self.std_adj\n",
    "        VCTSpos = (VCweight * TSRV).loc[TSRV.index[0]:] # Vol Control Time Series Position\n",
    "        VCTSpos.replace([np.inf, -np.inf], np.nan, inplace=True)\n",
    "        \n",
    "        # Strategy level vol control\n",
    "        # return of VC strategy\n",
    "        Strategy = ((self.RET * VCTSpos.shift(1)).sum(axis=1)).loc[TSRV.index[0]:]\n",
    "        # using average of expanding & moving window strategy risk\n",
    "        Strategyrisk_expanding = (Strategy.expanding(min_periods=self.statsd).std()*np.sqrt(260)).iloc[self.statsd:]\n",
    "        Strategyrisk_rolling = (Strategy.rolling(window=self.statsd).std()*np.sqrt(260)).iloc[self.statsd:]\n",
    "        Strategyrisk = (Strategyrisk_expanding + Strategyrisk_rolling) / 2.\n",
    "        # volband adjustment\n",
    "        bufrisk = self.adjust_by_volband(Strategyrisk.copy().to_frame(), self.volband)\n",
    "        # apply strategy level vol control to position\n",
    "        statlev = self.Strategyvol / bufrisk.iloc[:,0]\n",
    "        self.TSposition = VCTSpos.multiply(statlev, axis='index').iloc[self.statsd:]\n",
    "        self.TSposition.replace([np.inf, -np.inf], np.nan, inplace=True)\n",
    "        self.TSposition.fillna(0, inplace=True)\n",
    "        \n",
    "        # calculate daily strategy return\n",
    "        self.TSStrategy = (self.RET * self.TSposition.shift(1)).sum(axis=1).loc[TSRV.index[0]:]\n",
    "        self.TSStrategylag = (self.RET * self.TSposition.shift(2)).sum(axis=1).loc[TSRV.index[0]:]\n",
    "    \n",
    "    def cs_vol_control_backtest(self, CSRV):\n",
    "        if self.CSLS == 'vol':\n",
    "            CSRV = (CSRV * self.Assetvol / self.std_adj).loc[CSRV.index[0]:]\n",
    "        #elif self.CSLS != 'notional': # raise error\n",
    "            \n",
    "        # Calculating Ex-ante Vol and adjust to target vol which specified by 'Strategyvol'\n",
    "        if self.freq == 'week':\n",
    "            for i in range(len(CSRV.index)):\n",
    "                if CSRV.iloc[i].name.weekday() == self.RB:\n",
    "                    CSRV.iloc[i] = CSRV.iloc[i] * self.Strategyvol / ex_ante_vol(self.RET, CSRV.iloc[i].name, CSRV.iloc[i])\n",
    "                else:\n",
    "                    CSRV.iloc[i] = CSRV.iloc[i-1]\n",
    "        elif self.freq == 'month':\n",
    "            for i in range(len(CSRV.index)):\n",
    "                if CSRV.iloc[i].name.month != CSRV.iloc[i-1].name.month:\n",
    "                    CSRV.iloc[i] = CSRV.iloc[i] * self.Strategyvol / ex_ante_vol(self.RET, CSRV.iloc[i].name, CSRV.iloc[i])\n",
    "                else:\n",
    "                    CSRV.iloc[i] = CSRV.iloc[i-1]\n",
    "        #else: # raise error\n",
    "            \n",
    "        # Strategy level vol control\n",
    "        # return of VC strategy\n",
    "        CSraw = (self.RET * CSRV.shift(1)).dropna(how='all').sum(axis=1)\n",
    "        CSrisk = (CSraw.rolling(window=self.statsd).std()*np.sqrt(260)).iloc[self.statsd:]\n",
    "        \n",
    "        # volband adjustment\n",
    "        cs_bufrisk = self.adjust_by_volband(CSrisk.to_frame(), self.volband)\n",
    "        # apply strategy level vol control to position\n",
    "        cs_statlev = self.Strategyvol / cs_bufrisk.iloc[:,0]\n",
    "        self.CSposition = CSRV.multiply(cs_statlev, axis='index').iloc[self.statsd:]\n",
    "        self.CSposition.replace([np.inf, -np.inf], np.nan, inplace=True)\n",
    "        self.CSposition.fillna(0, inplace=True)\n",
    "        \n",
    "        # calculate daily strategy return\n",
    "        self.CSStrategy = (self.RET * self.CSposition.shift(1)).sum(axis=1).loc[CSRV.index[0]:]\n",
    "        self.CSStrategylag = (self.RET * self.CSposition.shift(2)).sum(axis=1).loc[CSRV.index[0]:]"
   ]
  },
  {
   "cell_type": "markdown",
   "metadata": {},
   "source": [
    "### TS"
   ]
  },
  {
   "cell_type": "code",
   "execution_count": 51,
   "metadata": {},
   "outputs": [],
   "source": [
    "RET = RETfinal"
   ]
  },
  {
   "cell_type": "code",
   "execution_count": 52,
   "metadata": {},
   "outputs": [],
   "source": [
    "GRP_bt_test = GRP_bt(CSLS=CSdesign, RET=RET, RB=RBP, min_vol=0.15, freq='month')\n",
    "GRP_bt_test.ts_vol_control_backtest(TSRV)"
   ]
  },
  {
   "cell_type": "code",
   "execution_count": 53,
   "metadata": {},
   "outputs": [
    {
     "data": {
      "text/plain": [
       "<matplotlib.axes._subplots.AxesSubplot at 0x1fe04dc09e8>"
      ]
     },
     "execution_count": 53,
     "metadata": {},
     "output_type": "execute_result"
    },
    {
     "data": {
      "image/png": "[encoded data removed]",
      "text/plain": [
       "<Figure size 432x288 with 1 Axes>"
      ]
     },
     "metadata": {
      "needs_background": "light"
     },
     "output_type": "display_data"
    }
   ],
   "source": [
    "(1. + GRP_bt_test.TSStrategy).cumprod().plot()\n",
    "(1. + GRP_bt_test.TSStrategylag).cumprod().plot()"
   ]
  },
  {
   "cell_type": "markdown",
   "metadata": {},
   "source": [
    "### CS"
   ]
  },
  {
   "cell_type": "code",
   "execution_count": 54,
   "metadata": {},
   "outputs": [],
   "source": [
    "GRP_bt_test.cs_vol_control_backtest(CSRV)"
   ]
  },
  {
   "cell_type": "code",
   "execution_count": 55,
   "metadata": {
    "scrolled": true
   },
   "outputs": [
    {
     "data": {
      "text/plain": [
       "<matplotlib.axes._subplots.AxesSubplot at 0x1fe03acf0b8>"
      ]
     },
     "execution_count": 55,
     "metadata": {},
     "output_type": "execute_result"
    },
    {
     "data": {
      "image/png": "[encoded data removed]",
      "text/plain": [
       "<Figure size 432x288 with 1 Axes>"
      ]
     },
     "metadata": {
      "needs_background": "light"
     },
     "output_type": "display_data"
    }
   ],
   "source": [
    "(1. + GRP_bt_test.CSStrategy).cumprod().plot()\n",
    "(1. + GRP_bt_test.CSStrategylag).cumprod().plot()"
   ]
  }
 ],
 "metadata": {
  "kernelspec": {
   "display_name": "Python 3",
   "language": "python",
   "name": "python3"
  },
  "language_info": {
   "codemirror_mode": {
    "name": "ipython",
    "version": 3
   },
   "file_extension": ".py",
   "mimetype": "text/x-python",
   "name": "python",
   "nbconvert_exporter": "python",
   "pygments_lexer": "ipython3",
   "version": "3.7.3"
  }
 },
 "nbformat": 4,
 "nbformat_minor": 2
}
