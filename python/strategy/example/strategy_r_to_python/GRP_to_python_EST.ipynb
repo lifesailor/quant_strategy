{
 "cells": [
  {
   "cell_type": "markdown",
   "metadata": {},
   "source": [
    "### 업무 수행자: 최정윤"
   ]
  },
  {
   "cell_type": "code",
   "execution_count": 1,
   "metadata": {},
   "outputs": [],
   "source": [
    "import os\n",
    "import sys"
   ]
  },
  {
   "cell_type": "code",
   "execution_count": 2,
   "metadata": {},
   "outputs": [],
   "source": [
    "import pandas as pd\n",
    "import numpy as np\n",
    "import matplotlib.pyplot as plt\n",
    "%matplotlib inline"
   ]
  },
  {
   "cell_type": "code",
   "execution_count": 3,
   "metadata": {},
   "outputs": [],
   "source": [
    "name1 = 'tests'"
   ]
  },
  {
   "cell_type": "code",
   "execution_count": 4,
   "metadata": {},
   "outputs": [],
   "source": [
    "base_path = os.path.abspath('.')\n",
    "data_path = os.path.join(base_path, 'data')"
   ]
  },
  {
   "cell_type": "markdown",
   "metadata": {},
   "source": [
    "# 1. Read Data"
   ]
  },
  {
   "cell_type": "markdown",
   "metadata": {},
   "source": [
    "- eindex, eindex1 가격 차이 남"
   ]
  },
  {
   "cell_type": "code",
   "execution_count": 5,
   "metadata": {},
   "outputs": [],
   "source": [
    "eindex_path = os.path.join(data_path, 'totindex.csv')\n",
    "eindex1_path = os.path.join(data_path, 'priceindex.csv')\n",
    "efuture_path = os.path.join(data_path, 'FutGenratio1.csv')"
   ]
  },
  {
   "cell_type": "code",
   "execution_count": 6,
   "metadata": {},
   "outputs": [],
   "source": [
    "total_ret_idx = pd.read_csv(eindex_path, header=0, index_col=0, parse_dates=True)\n",
    "total_ret = total_ret_idx.pct_change(1)\n",
    "prc_idx = pd.read_csv(eindex1_path, header=0, index_col=0, parse_dates=True)\n",
    "prc_ret = prc_idx.pct_change(1)\n",
    "fut_idx = pd.read_csv(efuture_path, header=0, index_col=0, parse_dates=True)\n",
    "fut_idx.index = pd.to_datetime(fut_idx.index, unit='D', origin=pd.Timestamp('1899-12-30'))\n",
    "fut_ret = fut_idx.pct_change(1)\n",
    "\n",
    "# 만약에 eindex에 빈 정보가 있으면 eindex1으로 대체\n",
    "no_data_dates = total_ret[(total_ret.isnull().sum(axis=1) > 0).values].index\n",
    "total_ret.loc[no_data_dates] = prc_ret.loc[no_data_dates]\n",
    "\n",
    "# 2007년까지는 eindex 2008년부터는 future 사용\n",
    "ERet = pd.concat([total_ret.loc[:'2007-12-31'], fut_ret.loc['2008-01-01':]], axis=0)\n",
    "ERet.fillna(0, inplace=True)\n",
    "Eindex = (1. + ERet).cumprod()"
   ]
  },
  {
   "cell_type": "markdown",
   "metadata": {},
   "source": [
    "# 2. Parameter Setting"
   ]
  },
  {
   "cell_type": "code",
   "execution_count": 7,
   "metadata": {},
   "outputs": [],
   "source": [
    "RBP = 3\n",
    "CSNUM = 0.35\n",
    "CSpos = 0\n",
    "\n",
    "# param setting part\n",
    "RB1 = RBP\n",
    "RB2 = RBP\n",
    "\n",
    "RET = ERet.copy()\n",
    "RETfinal = RET.copy()\n",
    "index = Eindex.copy()\n",
    "\n",
    "CSdesign = \"notional\""
   ]
  },
  {
   "cell_type": "markdown",
   "metadata": {},
   "source": [
    "# 3. Caculate Signal"
   ]
  },
  {
   "cell_type": "markdown",
   "metadata": {},
   "source": [
    "<strong>선진국 ST 전략</strong>\n",
    "\n",
    "- Grow Value가 높은 Equity Long 낮은 Equity Short\n",
    "    - Growth value(d+3month) / Growth value(dmonth)\n",
    "    - 변동성 고려 로직 존재"
   ]
  },
  {
   "cell_type": "code",
   "execution_count": 64,
   "metadata": {},
   "outputs": [
    {
     "data": {
      "text/plain": [
       "Index(['SPX', 'TSX', 'FTSE', 'DAX', 'CAC', 'SMI', 'MIB', 'IBEX', 'OMX', 'AEX',\n",
       "       'NKY', 'AS51', 'HSI', 'SG', 'SPXV', 'TSXV', 'FTSEV', 'DAXV', 'CACV',\n",
       "       'SMIV', 'MIBV', 'IBEXV', 'OMXV', 'AEXV', 'NKYv', 'AS51V', 'HSIV',\n",
       "       'SGV'],\n",
       "      dtype='object')"
      ]
     },
     "execution_count": 64,
     "metadata": {},
     "output_type": "execute_result"
    }
   ],
   "source": [
    "sent.columns"
   ]
  },
  {
   "cell_type": "code",
   "execution_count": 51,
   "metadata": {},
   "outputs": [],
   "source": [
    "for i in range(2):\n",
    "    if i == 0:\n",
    "        RET = ERet.loc[:, ERet.columns[:10]]\n",
    "    else:\n",
    "        RET = ERet.loc[:, ERet.columns[10:]]\n",
    "\n",
    "    index = Eindex.loc[:, RET.columns]\n",
    "\n",
    "    # 1. Load Data\n",
    "    growthvalue_path = os.path.join(data_path, 'growthvalue.csv')\n",
    "    GV = pd.read_csv(growthvalue_path, header=0, index_col=0, parse_dates=True)\n",
    "\n",
    "    # 2. Parameter Setting\n",
    "    minobs1=12\n",
    "    minobs=60\n",
    "\n",
    "    Expanding=0\n",
    "    weeklyTS=1\n",
    "    nopos=0.40##middle section->neutral zone\n",
    "\n",
    "    per=3\n",
    "    CS=CSNUM # assets to long and short\n",
    "    \n",
    "    # 3. Signal\n",
    "    Ret = RET\n",
    "    sent = pd.DataFrame(GV.iloc[per:].to_numpy() / GV.iloc[:-per].to_numpy(),\n",
    "                        columns=GV.columns,\n",
    "                        index=GV.iloc[per:].index)\n",
    "    sent = sent - 1\n",
    "    sent1 = pd.DataFrame(sent.loc[:,sent.columns[0:14]].to_numpy() - sent.loc[:, sent.columns[14:28]].to_numpy(),\n",
    "                        columns=sent.columns[0:14],\n",
    "                        index=sent.index)\n",
    "    sent1 = sent1[RET.columns]\n",
    "    RV = sent1.sub(sent1.mean(axis=1), axis=0)\n",
    "    \n",
    "    # 4. Rank\n",
    "    pctrank = lambda x: pd.Series(x).rank(pct=True).iloc[-1]\n",
    "    RVrank = RV.expanding().apply(pctrank, raw=True) # it takes some time\n",
    "    RVrank = RVrank.iloc[minobs1-1:,]\n",
    "\n",
    "    # 5. Long Short\n",
    "    truecount = (RVrank.notnull().sum(axis=1) * CS).apply(round)\n",
    "    tiebreaker = RVrank.rolling(5).mean().fillna(0) * 0.0000001\n",
    "\n",
    "    # 1. Cross sectional\n",
    "    CSRV = (RVrank + tiebreaker).rank(axis=1, method='first')\n",
    "    CSRV1 = (-1 * RVrank -1 * tiebreaker).rank(axis=1, method='first')\n",
    "\n",
    "    CSRV = (RVrank + tiebreaker).rank(axis=1, method='first') # Short\n",
    "    CSRV1 = (-1 * RVrank -1 * tiebreaker).rank(axis=1, method='first') # Long\n",
    "\n",
    "    CSRVpos = CSRV.fillna(0) * 0\n",
    "    CSRVpos[CSRV.apply(lambda x: x <= truecount, axis=0)] = -1\n",
    "    CSRVpos[CSRV1.apply(lambda x: x <= truecount, axis=0)] = 1\n",
    "\n",
    "    # Final CS signal\n",
    "    CSRV = CSRVpos\n",
    "    CSRV.fillna(0, inplace=True)\n",
    "\n",
    "\n",
    "    # 2. Time Series\n",
    "    TSRV = RVrank.fillna(0) * 0\n",
    "    TSRV[RVrank > nopos + (1-nopos)/2] = 1 # Long\n",
    "    TSRV[RVrank < (1-nopos)/2] = -1 # Short\n",
    "\n",
    "    if i == 0:\n",
    "        TSRVrun1 = TSRV\n",
    "        CSRVrun1 = CSRV\n",
    "    else:\n",
    "        TSRVrun2 = TSRV\n",
    "        CSRVrun2 = CSRV"
   ]
  },
  {
   "cell_type": "markdown",
   "metadata": {},
   "source": [
    "# 4. Combine Result"
   ]
  },
  {
   "cell_type": "code",
   "execution_count": 52,
   "metadata": {},
   "outputs": [],
   "source": [
    "TSRV = pd.concat([TSRVrun1, TSRVrun2], axis=1)\n",
    "CSRV = pd.concat([CSRVrun1, CSRVrun2], axis=1)"
   ]
  },
  {
   "cell_type": "code",
   "execution_count": 53,
   "metadata": {},
   "outputs": [],
   "source": [
    "TSRV = TSRV[ERet.columns]\n",
    "CSRV = CSRV[ERet.columns]"
   ]
  },
  {
   "cell_type": "code",
   "execution_count": 54,
   "metadata": {
    "scrolled": true
   },
   "outputs": [
    {
     "data": {
      "text/html": [
       "<div>\n",
       "<style scoped>\n",
       "    .dataframe tbody tr th:only-of-type {\n",
       "        vertical-align: middle;\n",
       "    }\n",
       "\n",
       "    .dataframe tbody tr th {\n",
       "        vertical-align: top;\n",
       "    }\n",
       "\n",
       "    .dataframe thead th {\n",
       "        text-align: right;\n",
       "    }\n",
       "</style>\n",
       "<table border=\"1\" class=\"dataframe\">\n",
       "  <thead>\n",
       "    <tr style=\"text-align: right;\">\n",
       "      <th></th>\n",
       "      <th>SPX</th>\n",
       "      <th>TSX</th>\n",
       "      <th>FTSE</th>\n",
       "      <th>DAX</th>\n",
       "      <th>CAC</th>\n",
       "      <th>SMI</th>\n",
       "      <th>MIB</th>\n",
       "      <th>IBEX</th>\n",
       "      <th>OMX</th>\n",
       "      <th>AEX</th>\n",
       "      <th>NKY</th>\n",
       "      <th>AS51</th>\n",
       "      <th>HSI</th>\n",
       "      <th>SG</th>\n",
       "    </tr>\n",
       "  </thead>\n",
       "  <tbody>\n",
       "    <tr>\n",
       "      <th>1989-03-31</th>\n",
       "      <td>0.0</td>\n",
       "      <td>1.0</td>\n",
       "      <td>1.0</td>\n",
       "      <td>-1.0</td>\n",
       "      <td>1.0</td>\n",
       "      <td>0.0</td>\n",
       "      <td>0.0</td>\n",
       "      <td>-1.0</td>\n",
       "      <td>0.0</td>\n",
       "      <td>-1.0</td>\n",
       "      <td>0.0</td>\n",
       "      <td>1.0</td>\n",
       "      <td>-1.0</td>\n",
       "      <td>0.0</td>\n",
       "    </tr>\n",
       "    <tr>\n",
       "      <th>1989-04-28</th>\n",
       "      <td>0.0</td>\n",
       "      <td>1.0</td>\n",
       "      <td>1.0</td>\n",
       "      <td>0.0</td>\n",
       "      <td>-1.0</td>\n",
       "      <td>1.0</td>\n",
       "      <td>-1.0</td>\n",
       "      <td>-1.0</td>\n",
       "      <td>0.0</td>\n",
       "      <td>0.0</td>\n",
       "      <td>0.0</td>\n",
       "      <td>1.0</td>\n",
       "      <td>0.0</td>\n",
       "      <td>-1.0</td>\n",
       "    </tr>\n",
       "    <tr>\n",
       "      <th>1989-05-31</th>\n",
       "      <td>0.0</td>\n",
       "      <td>0.0</td>\n",
       "      <td>1.0</td>\n",
       "      <td>0.0</td>\n",
       "      <td>1.0</td>\n",
       "      <td>1.0</td>\n",
       "      <td>-1.0</td>\n",
       "      <td>-1.0</td>\n",
       "      <td>0.0</td>\n",
       "      <td>-1.0</td>\n",
       "      <td>0.0</td>\n",
       "      <td>1.0</td>\n",
       "      <td>0.0</td>\n",
       "      <td>-1.0</td>\n",
       "    </tr>\n",
       "    <tr>\n",
       "      <th>1989-06-30</th>\n",
       "      <td>0.0</td>\n",
       "      <td>0.0</td>\n",
       "      <td>0.0</td>\n",
       "      <td>1.0</td>\n",
       "      <td>-1.0</td>\n",
       "      <td>1.0</td>\n",
       "      <td>-1.0</td>\n",
       "      <td>-1.0</td>\n",
       "      <td>0.0</td>\n",
       "      <td>1.0</td>\n",
       "      <td>-1.0</td>\n",
       "      <td>1.0</td>\n",
       "      <td>0.0</td>\n",
       "      <td>0.0</td>\n",
       "    </tr>\n",
       "    <tr>\n",
       "      <th>1989-07-31</th>\n",
       "      <td>0.0</td>\n",
       "      <td>0.0</td>\n",
       "      <td>-1.0</td>\n",
       "      <td>1.0</td>\n",
       "      <td>-1.0</td>\n",
       "      <td>1.0</td>\n",
       "      <td>-1.0</td>\n",
       "      <td>0.0</td>\n",
       "      <td>1.0</td>\n",
       "      <td>0.0</td>\n",
       "      <td>0.0</td>\n",
       "      <td>1.0</td>\n",
       "      <td>-1.0</td>\n",
       "      <td>0.0</td>\n",
       "    </tr>\n",
       "  </tbody>\n",
       "</table>\n",
       "</div>"
      ],
      "text/plain": [
       "            SPX  TSX  FTSE  DAX  CAC  SMI  MIB  IBEX  OMX  AEX  NKY  AS51  \\\n",
       "1989-03-31  0.0  1.0   1.0 -1.0  1.0  0.0  0.0  -1.0  0.0 -1.0  0.0   1.0   \n",
       "1989-04-28  0.0  1.0   1.0  0.0 -1.0  1.0 -1.0  -1.0  0.0  0.0  0.0   1.0   \n",
       "1989-05-31  0.0  0.0   1.0  0.0  1.0  1.0 -1.0  -1.0  0.0 -1.0  0.0   1.0   \n",
       "1989-06-30  0.0  0.0   0.0  1.0 -1.0  1.0 -1.0  -1.0  0.0  1.0 -1.0   1.0   \n",
       "1989-07-31  0.0  0.0  -1.0  1.0 -1.0  1.0 -1.0   0.0  1.0  0.0  0.0   1.0   \n",
       "\n",
       "            HSI   SG  \n",
       "1989-03-31 -1.0  0.0  \n",
       "1989-04-28  0.0 -1.0  \n",
       "1989-05-31  0.0 -1.0  \n",
       "1989-06-30  0.0  0.0  \n",
       "1989-07-31 -1.0  0.0  "
      ]
     },
     "execution_count": 54,
     "metadata": {},
     "output_type": "execute_result"
    }
   ],
   "source": [
    "CSRV.head()"
   ]
  },
  {
   "cell_type": "code",
   "execution_count": 55,
   "metadata": {
    "scrolled": true
   },
   "outputs": [
    {
     "data": {
      "text/html": [
       "<div>\n",
       "<style scoped>\n",
       "    .dataframe tbody tr th:only-of-type {\n",
       "        vertical-align: middle;\n",
       "    }\n",
       "\n",
       "    .dataframe tbody tr th {\n",
       "        vertical-align: top;\n",
       "    }\n",
       "\n",
       "    .dataframe thead th {\n",
       "        text-align: right;\n",
       "    }\n",
       "</style>\n",
       "<table border=\"1\" class=\"dataframe\">\n",
       "  <thead>\n",
       "    <tr style=\"text-align: right;\">\n",
       "      <th></th>\n",
       "      <th>SPX</th>\n",
       "      <th>TSX</th>\n",
       "      <th>FTSE</th>\n",
       "      <th>DAX</th>\n",
       "      <th>CAC</th>\n",
       "      <th>SMI</th>\n",
       "      <th>MIB</th>\n",
       "      <th>IBEX</th>\n",
       "      <th>OMX</th>\n",
       "      <th>AEX</th>\n",
       "      <th>NKY</th>\n",
       "      <th>AS51</th>\n",
       "      <th>HSI</th>\n",
       "      <th>SG</th>\n",
       "    </tr>\n",
       "  </thead>\n",
       "  <tbody>\n",
       "    <tr>\n",
       "      <th>1989-03-31</th>\n",
       "      <td>0.0</td>\n",
       "      <td>1.0</td>\n",
       "      <td>1.0</td>\n",
       "      <td>-1.0</td>\n",
       "      <td>0.0</td>\n",
       "      <td>0.0</td>\n",
       "      <td>0.0</td>\n",
       "      <td>0.0</td>\n",
       "      <td>0.0</td>\n",
       "      <td>-1.0</td>\n",
       "      <td>1.0</td>\n",
       "      <td>1.0</td>\n",
       "      <td>-1.0</td>\n",
       "      <td>0.0</td>\n",
       "    </tr>\n",
       "    <tr>\n",
       "      <th>1989-04-28</th>\n",
       "      <td>0.0</td>\n",
       "      <td>0.0</td>\n",
       "      <td>1.0</td>\n",
       "      <td>0.0</td>\n",
       "      <td>0.0</td>\n",
       "      <td>1.0</td>\n",
       "      <td>0.0</td>\n",
       "      <td>-1.0</td>\n",
       "      <td>0.0</td>\n",
       "      <td>0.0</td>\n",
       "      <td>0.0</td>\n",
       "      <td>1.0</td>\n",
       "      <td>0.0</td>\n",
       "      <td>-1.0</td>\n",
       "    </tr>\n",
       "    <tr>\n",
       "      <th>1989-05-31</th>\n",
       "      <td>0.0</td>\n",
       "      <td>0.0</td>\n",
       "      <td>1.0</td>\n",
       "      <td>1.0</td>\n",
       "      <td>1.0</td>\n",
       "      <td>1.0</td>\n",
       "      <td>-1.0</td>\n",
       "      <td>-1.0</td>\n",
       "      <td>1.0</td>\n",
       "      <td>-1.0</td>\n",
       "      <td>0.0</td>\n",
       "      <td>1.0</td>\n",
       "      <td>0.0</td>\n",
       "      <td>-1.0</td>\n",
       "    </tr>\n",
       "    <tr>\n",
       "      <th>1989-06-30</th>\n",
       "      <td>0.0</td>\n",
       "      <td>0.0</td>\n",
       "      <td>0.0</td>\n",
       "      <td>1.0</td>\n",
       "      <td>0.0</td>\n",
       "      <td>1.0</td>\n",
       "      <td>-1.0</td>\n",
       "      <td>-1.0</td>\n",
       "      <td>1.0</td>\n",
       "      <td>1.0</td>\n",
       "      <td>-1.0</td>\n",
       "      <td>1.0</td>\n",
       "      <td>0.0</td>\n",
       "      <td>0.0</td>\n",
       "    </tr>\n",
       "    <tr>\n",
       "      <th>1989-07-31</th>\n",
       "      <td>0.0</td>\n",
       "      <td>1.0</td>\n",
       "      <td>-1.0</td>\n",
       "      <td>1.0</td>\n",
       "      <td>-1.0</td>\n",
       "      <td>1.0</td>\n",
       "      <td>-1.0</td>\n",
       "      <td>-1.0</td>\n",
       "      <td>1.0</td>\n",
       "      <td>0.0</td>\n",
       "      <td>0.0</td>\n",
       "      <td>1.0</td>\n",
       "      <td>-1.0</td>\n",
       "      <td>0.0</td>\n",
       "    </tr>\n",
       "  </tbody>\n",
       "</table>\n",
       "</div>"
      ],
      "text/plain": [
       "            SPX  TSX  FTSE  DAX  CAC  SMI  MIB  IBEX  OMX  AEX  NKY  AS51  \\\n",
       "1989-03-31  0.0  1.0   1.0 -1.0  0.0  0.0  0.0   0.0  0.0 -1.0  1.0   1.0   \n",
       "1989-04-28  0.0  0.0   1.0  0.0  0.0  1.0  0.0  -1.0  0.0  0.0  0.0   1.0   \n",
       "1989-05-31  0.0  0.0   1.0  1.0  1.0  1.0 -1.0  -1.0  1.0 -1.0  0.0   1.0   \n",
       "1989-06-30  0.0  0.0   0.0  1.0  0.0  1.0 -1.0  -1.0  1.0  1.0 -1.0   1.0   \n",
       "1989-07-31  0.0  1.0  -1.0  1.0 -1.0  1.0 -1.0  -1.0  1.0  0.0  0.0   1.0   \n",
       "\n",
       "            HSI   SG  \n",
       "1989-03-31 -1.0  0.0  \n",
       "1989-04-28  0.0 -1.0  \n",
       "1989-05-31  0.0 -1.0  \n",
       "1989-06-30  0.0  0.0  \n",
       "1989-07-31 -1.0  0.0  "
      ]
     },
     "execution_count": 55,
     "metadata": {},
     "output_type": "execute_result"
    }
   ],
   "source": [
    "TSRV.head()"
   ]
  },
  {
   "cell_type": "markdown",
   "metadata": {},
   "source": [
    "# 5. Backtest"
   ]
  },
  {
   "cell_type": "code",
   "execution_count": 57,
   "metadata": {},
   "outputs": [],
   "source": [
    "def ex_ante_vol(df_ret, todate, weights, lookback=130, shrink_corr=0.9):\n",
    "    '''\n",
    "    Args:\n",
    "        df_ret: pandas DataFrame of returns\n",
    "        todate: date to calculate ex ante vol\n",
    "        weights: weight of strategy before ex ante vol control\n",
    "        lookback: number of days to consider for calculating cov\n",
    "        shrink_corr: weight to shrink correlation\n",
    "    '''\n",
    "    # setting data range\n",
    "    todate_loc = df_ret.index.get_loc(todate)\n",
    "    if todate_loc > lookback:\n",
    "        fromdate_loc = todate_loc - lookback\n",
    "    else:\n",
    "        fromdate_loc = 0\n",
    "    \n",
    "    # calculate corr apply shrinkage\n",
    "    corr = df_ret.iloc[fromdate_loc:todate_loc].corr()\n",
    "    corr = corr * shrink_corr + np.diag(np.ones(len(df_ret.columns))) * (1.- shrink_corr)\n",
    "    # calculate cov\n",
    "    std = df_ret.iloc[fromdate_loc:todate_loc].std()\n",
    "    cov = pd.DataFrame(np.diag(std).dot(corr).dot(np.diag(std)), index=RET.columns, columns=RET.columns)\n",
    "    # calculate ex ante vol\n",
    "    return np.sqrt(weights.dot(cov).dot(weights)) * np.sqrt(260)\n",
    "\n",
    "class GRP_bt:\n",
    "    '''\n",
    "    '''\n",
    "    def __init__(self, CSLS, RET, RB, min_vol, freq):\n",
    "        '''\n",
    "        '''\n",
    "        self.CSLS = CSLS  # Cross Sectional Exposure Type. 'vol' means volatility allocation. 'notional' means notional. \n",
    "        self.RET = RET  # \n",
    "        self.RB = RB\n",
    "        \n",
    "        self.Assetvol = 0.02 # vol control parameter for individual assets\n",
    "        self.Strategyvol = 0.02 # vol control parameter for whole strategy\n",
    "        self.factorvol = 0.02\n",
    "        self.factorsd = 260 # lookback period for calcualting factorvol\n",
    "        self.assetsd = 90 # lookback period for calculating Assetvol\n",
    "        self.statsd = 90 # lookback period for calcualting Strategyvol\n",
    "\n",
    "        self.volband = 0.05 # if controled vol is within volband, do not change vol\n",
    "        self.min_vol = min_vol # vol floor 0.04 for ir strategy, 0.15 for all otheres\n",
    "        self.freq = freq # strategy frequency setting. it only applys to Cross Sectional backtesting now.\n",
    "        \n",
    "        # Calculating volatility for assets\n",
    "        std = (self.RET.rolling(window=self.assetsd).std() * np.sqrt(260)).iloc[self.assetsd:]\n",
    "        # Adjust calculated asset volatility\n",
    "        self.std_adj = self.adjust_by_volband(std, self.volband, min_vol=self.min_vol)\n",
    "\n",
    "    def adjust_by_volband(self, df_vol, volband, min_vol=None):\n",
    "        for i in range(1, len(df_vol.index)):\n",
    "            if df_vol.iloc[i].name.weekday() == self.RB:\n",
    "                for c in range(len(df_vol.columns)):\n",
    "                    # case1. if new std is null\n",
    "                    if pd.isnull(df_vol.iloc[i, c]):\n",
    "                        df_vol.iloc[i, c] = df_vol.iloc[i-1, c]\n",
    "                    # case2. if new std within volband\n",
    "                    if abs(df_vol.iloc[i, c] - df_vol.iloc[i-1, c]) < volband * df_vol.iloc[i-1, c] :\n",
    "                        df_vol.iloc[i, c] = df_vol.iloc[i-1, c]\n",
    "            else:\n",
    "                df_vol.iloc[i] = df_vol.iloc[i-1]\n",
    "        if min_vol is not None:\n",
    "            df_vol[df_vol < min_vol] = min_vol\n",
    "\n",
    "        return df_vol\n",
    "    \n",
    "    def ts_vol_control_backtest(self, TSRV):\n",
    "        # Time Series \n",
    "        VCweight = self.Assetvol / self.std_adj\n",
    "        VCTSpos = (VCweight * TSRV).loc[TSRV.index[0]:] # Vol Control Time Series Position\n",
    "        VCTSpos.replace([np.inf, -np.inf], np.nan, inplace=True)\n",
    "        \n",
    "        # Strategy level vol control\n",
    "        # return of VC strategy\n",
    "        Strategy = ((self.RET * VCTSpos.shift(1)).sum(axis=1)).loc[TSRV.index[0]:]\n",
    "        # using average of expanding & moving window strategy risk\n",
    "        Strategyrisk_expanding = (Strategy.expanding(min_periods=self.statsd).std()*np.sqrt(260)).iloc[self.statsd:]\n",
    "        Strategyrisk_rolling = (Strategy.rolling(window=self.statsd).std()*np.sqrt(260)).iloc[self.statsd:]\n",
    "        Strategyrisk = (Strategyrisk_expanding + Strategyrisk_rolling) / 2.\n",
    "        # volband adjustment\n",
    "        bufrisk = self.adjust_by_volband(Strategyrisk.copy().to_frame(), self.volband)\n",
    "        # apply strategy level vol control to position\n",
    "        statlev = self.Strategyvol / bufrisk.iloc[:,0]\n",
    "        self.TSposition = VCTSpos.multiply(statlev, axis='index').iloc[self.statsd:]\n",
    "        self.TSposition.replace([np.inf, -np.inf], np.nan, inplace=True)\n",
    "        self.TSposition.fillna(0, inplace=True)\n",
    "        \n",
    "        # calculate daily strategy return\n",
    "        self.TSStrategy = (self.RET * self.TSposition.shift(1)).sum(axis=1).loc[TSRV.index[0]:]\n",
    "        self.TSStrategylag = (self.RET * self.TSposition.shift(2)).sum(axis=1).loc[TSRV.index[0]:]\n",
    "    \n",
    "    def cs_vol_control_backtest(self, CSRV):\n",
    "        if self.CSLS == 'vol':\n",
    "            CSRV = (CSRV * self.Assetvol / self.std_adj).loc[CSRV.index[0]:]\n",
    "        #elif self.CSLS != 'notional': # raise error\n",
    "            \n",
    "        # Calculating Ex-ante Vol and adjust to target vol which specified by 'Strategyvol'\n",
    "        if self.freq == 'week':\n",
    "            for i in range(len(CSRV.index)):\n",
    "                if CSRV.iloc[i].name.weekday() == self.RB:\n",
    "                    CSRV.iloc[i] = CSRV.iloc[i] * self.Strategyvol / ex_ante_vol(self.RET, CSRV.iloc[i].name, CSRV.iloc[i])\n",
    "                else:\n",
    "                    CSRV.iloc[i] = CSRV.iloc[i-1]\n",
    "        elif self.freq == 'month':\n",
    "            for i in range(len(CSRV.index)):\n",
    "                if CSRV.iloc[i].name.month != CSRV.iloc[i-1].name.month:\n",
    "                    CSRV.iloc[i] = CSRV.iloc[i] * self.Strategyvol / ex_ante_vol(self.RET, CSRV.iloc[i].name, CSRV.iloc[i])\n",
    "                else:\n",
    "                    CSRV.iloc[i] = CSRV.iloc[i-1]\n",
    "        #else: # raise error\n",
    "            \n",
    "        # Strategy level vol control\n",
    "        # return of VC strategy\n",
    "        CSraw = (self.RET * CSRV.shift(1)).dropna(how='all').sum(axis=1)\n",
    "        CSrisk = (CSraw.rolling(window=self.statsd).std()*np.sqrt(260)).iloc[self.statsd:]\n",
    "        \n",
    "        # volband adjustment\n",
    "        cs_bufrisk = self.adjust_by_volband(CSrisk.to_frame(), self.volband)\n",
    "        # apply strategy level vol control to position\n",
    "        cs_statlev = self.Strategyvol / cs_bufrisk.iloc[:,0]\n",
    "        self.CSposition = CSRV.multiply(cs_statlev, axis='index').iloc[self.statsd:]\n",
    "        self.CSposition.replace([np.inf, -np.inf], np.nan, inplace=True)\n",
    "        self.CSposition.fillna(0, inplace=True)\n",
    "        \n",
    "        # calculate daily strategy return\n",
    "        self.CSStrategy = (self.RET * self.CSposition.shift(1)).sum(axis=1).loc[CSRV.index[0]:]\n",
    "        self.CSStrategylag = (self.RET * self.CSposition.shift(2)).sum(axis=1).loc[CSRV.index[0]:]"
   ]
  },
  {
   "cell_type": "markdown",
   "metadata": {},
   "source": [
    "### TS"
   ]
  },
  {
   "cell_type": "code",
   "execution_count": 58,
   "metadata": {},
   "outputs": [],
   "source": [
    "RET = RETfinal"
   ]
  },
  {
   "cell_type": "code",
   "execution_count": 59,
   "metadata": {},
   "outputs": [],
   "source": [
    "GRP_bt_test = GRP_bt(CSLS=CSdesign, RET=RET, RB=RBP, min_vol=0.15, freq='month')\n",
    "GRP_bt_test.ts_vol_control_backtest(TSRV)"
   ]
  },
  {
   "cell_type": "code",
   "execution_count": 60,
   "metadata": {},
   "outputs": [
    {
     "data": {
      "text/plain": [
       "<matplotlib.axes._subplots.AxesSubplot at 0x1b4fac2b198>"
      ]
     },
     "execution_count": 60,
     "metadata": {},
     "output_type": "execute_result"
    },
    {
     "data": {
      "image/png": "[encoded data removed]",
      "text/plain": [
       "<Figure size 432x288 with 1 Axes>"
      ]
     },
     "metadata": {
      "needs_background": "light"
     },
     "output_type": "display_data"
    }
   ],
   "source": [
    "(1. + GRP_bt_test.TSStrategy).cumprod().plot()\n",
    "(1. + GRP_bt_test.TSStrategylag).cumprod().plot()"
   ]
  },
  {
   "cell_type": "markdown",
   "metadata": {},
   "source": [
    "### CS"
   ]
  },
  {
   "cell_type": "code",
   "execution_count": 61,
   "metadata": {},
   "outputs": [],
   "source": [
    "GRP_bt_test.cs_vol_control_backtest(CSRV)"
   ]
  },
  {
   "cell_type": "code",
   "execution_count": 62,
   "metadata": {
    "scrolled": true
   },
   "outputs": [
    {
     "data": {
      "text/plain": [
       "<matplotlib.axes._subplots.AxesSubplot at 0x1b4f9a48ef0>"
      ]
     },
     "execution_count": 62,
     "metadata": {},
     "output_type": "execute_result"
    },
    {
     "data": {
      "image/png": "[encoded data removed]",
      "text/plain": [
       "<Figure size 432x288 with 1 Axes>"
      ]
     },
     "metadata": {
      "needs_background": "light"
     },
     "output_type": "display_data"
    }
   ],
   "source": [
    "(1. + GRP_bt_test.CSStrategy).cumprod().plot()\n",
    "(1. + GRP_bt_test.CSStrategylag).cumprod().plot()"
   ]
  }
 ],
 "metadata": {
  "kernelspec": {
   "display_name": "Python 3",
   "language": "python",
   "name": "python3"
  },
  "language_info": {
   "codemirror_mode": {
    "name": "ipython",
    "version": 3
   },
   "file_extension": ".py",
   "mimetype": "text/x-python",
   "name": "python",
   "nbconvert_exporter": "python",
   "pygments_lexer": "ipython3",
   "version": "3.7.3"
  }
 },
 "nbformat": 4,
 "nbformat_minor": 2
}
