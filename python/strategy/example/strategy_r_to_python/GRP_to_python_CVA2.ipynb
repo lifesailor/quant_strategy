{
 "cells": [
  {
   "cell_type": "code",
   "execution_count": 7,
   "metadata": {},
   "outputs": [],
   "source": [
    "import os\n",
    "import sys\n",
    "\n",
    "import pandas as pd\n",
    "import numpy as np\n",
    "import matplotlib.pyplot as plt\n",
    "%matplotlib inline\n",
    "\n",
    "name1 = 'tests'\n",
    "\n",
    "base_path = os.path.abspath('../..')\n",
    "data_path = os.path.join(base_path, 'data')"
   ]
  },
  {
   "cell_type": "markdown",
   "metadata": {},
   "source": [
    "# 1. Read Data"
   ]
  },
  {
   "cell_type": "code",
   "execution_count": 8,
   "metadata": {},
   "outputs": [],
   "source": [
    "cindex_path = os.path.join(data_path, 'fut1return-com.csv')\n",
    "cindex1_path = os.path.join(data_path, 'BCOM.csv')"
   ]
  },
  {
   "cell_type": "code",
   "execution_count": 9,
   "metadata": {},
   "outputs": [],
   "source": [
    "cindex = pd.read_csv(cindex_path, header=0, index_col=0, parse_dates=True)\n",
    "cindex1 = pd.read_csv(cindex1_path, header=0, index_col=0, parse_dates=True)"
   ]
  },
  {
   "cell_type": "code",
   "execution_count": 10,
   "metadata": {},
   "outputs": [],
   "source": [
    "CRet = cindex.pct_change(periods=1).iloc[1:]\n",
    "CRet1 = cindex1.pct_change(periods=1).iloc[1:]\n",
    "Cindex = (1. + CRet).cumprod()"
   ]
  },
  {
   "cell_type": "markdown",
   "metadata": {},
   "source": [
    "# 2. Parameter Setting"
   ]
  },
  {
   "cell_type": "code",
   "execution_count": 11,
   "metadata": {},
   "outputs": [],
   "source": [
    "### parameter setting\n",
    "RBP = 3\n",
    "CSNUM = 0.35\n",
    "CSpos = 0"
   ]
  },
  {
   "cell_type": "code",
   "execution_count": 12,
   "metadata": {},
   "outputs": [],
   "source": [
    "RB1 = RBP\n",
    "RB2 = RBP\n",
    "RET = CRet\n",
    "index = Cindex\n",
    "CSdesign = \"vol\""
   ]
  },
  {
   "cell_type": "code",
   "execution_count": 13,
   "metadata": {},
   "outputs": [],
   "source": [
    "RETFinal = CRet"
   ]
  },
  {
   "cell_type": "markdown",
   "metadata": {},
   "source": [
    "# 3. Calculate Signal"
   ]
  },
  {
   "cell_type": "code",
   "execution_count": 23,
   "metadata": {},
   "outputs": [],
   "source": [
    "minobs1 = 12\n",
    "minobs = 60\n",
    "CS = 0.35\n",
    "nopos = 0.4"
   ]
  },
  {
   "cell_type": "code",
   "execution_count": 24,
   "metadata": {},
   "outputs": [],
   "source": [
    "# weather sensitive comdty group\n",
    "w_group = [\"C\",\"S\",\"SB\",\"SM\",\"W\",\"KC\",\"CT\"]\n",
    "n_w_group = [x for x in Cindex.columns if x not in w_group]\n",
    "c_groups = [w_group, n_w_group]"
   ]
  },
  {
   "cell_type": "code",
   "execution_count": 25,
   "metadata": {},
   "outputs": [],
   "source": [
    "for i in range(2):\n",
    "    if i == 0:\n",
    "        RET = CRet[w_group]\n",
    "    if i == 1:\n",
    "        RET = CRet[n_w_group]\n",
    "\n",
    "    index = Cindex[RET.columns]\n",
    "    fut1price = pd.read_csv(os.path.join(data_path, 'fut1price-com.csv'), header=0, index_col=0, parse_dates=True)\n",
    "    fx = pd.read_csv(os.path.join(data_path, 'fx.csv'), header=0, index_col=0, parse_dates=True)\n",
    "    compos1 = pd.read_csv(os.path.join(data_path, 'commo pos.csv'), header=0, index_col=0, parse_dates=True)\n",
    "    \n",
    "    Zscore= (compos1.iloc[12:] - compos1.rolling(12).mean()) / (compos1.rolling(12).std())\n",
    "    RV = -Zscore\n",
    "    \n",
    "    pctrank = lambda x: pd.Series(x).rank(pct=True).iloc[-1]\n",
    "    RVrank = RV.expanding().apply(pctrank, raw=True)  # it takes some time\n",
    "    RVrank = RVrank.iloc[minobs1 - 1:, ]\n",
    "\n",
    "    # 5. Long Short\n",
    "    truecount = (RVrank.notnull().sum(axis=1) * CS).apply(round)\n",
    "    tiebreaker = RVrank.rolling(5).mean().fillna(0) * 0.0000001\n",
    "\n",
    "    # 1. Cross sectional\n",
    "    CSRV = (RVrank + tiebreaker).rank(axis=1, method='first')  # Short\n",
    "    CSRV1 = (-1 * RVrank - 1 * tiebreaker).rank(axis=1, method='first')  # Long\n",
    "    CSRVpos = CSRV * 0\n",
    "    CSRVpos[CSRV.apply(lambda x: x <= truecount, axis=0)] = -1\n",
    "    CSRVpos[CSRV1.apply(lambda x: x <= truecount, axis=0)] = 1\n",
    "    CSRV = CSRVpos\n",
    "    CSRV.fillna(0, inplace=True)\n",
    "\n",
    "    # 2. Time Series\n",
    "    TSRV = RVrank.fillna(0) * 0\n",
    "    TSRV[RVrank > nopos + (1 - nopos) / 2] = 1  # Long\n",
    "    TSRV[RVrank < (1 - nopos) / 2] = -1  # Short\n",
    "\n",
    "    CSRV = CSRV\n",
    "    TSRV = TSRV\n",
    "\n",
    "    if i == 0:\n",
    "        TSRVrun1 = TSRV\n",
    "        CSRVrun1 = CSRV\n",
    "    else:\n",
    "        TSRVrun2 = TSRV\n",
    "        CSRVrun2 = CSRV"
   ]
  },
  {
   "cell_type": "code",
   "execution_count": 26,
   "metadata": {},
   "outputs": [],
   "source": [
    "TSRV = pd.concat([TSRVrun1, TSRVrun2], axis=1)\n",
    "CSRV = pd.concat([CSRVrun1, CSRVrun2], axis=1)"
   ]
  },
  {
   "cell_type": "code",
   "execution_count": 27,
   "metadata": {},
   "outputs": [],
   "source": [
    "TSRV = TSRV[CRet.columns]\n",
    "CSRV = CSRV[CRet.columns]"
   ]
  },
  {
   "cell_type": "code",
   "execution_count": 28,
   "metadata": {},
   "outputs": [
    {
     "name": "stderr",
     "output_type": "stream",
     "text": [
      "C:\\ProgramData\\Anaconda3\\lib\\site-packages\\ipykernel_launcher.py:2: FutureWarning: \n",
      "Passing list-likes to .loc or [] with any missing label will raise\n",
      "KeyError in the future, you can use .reindex() as an alternative.\n",
      "\n",
      "See the documentation here:\n",
      "https://pandas.pydata.org/pandas-docs/stable/user_guide/indexing.html#deprecate-loc-reindex-listlike\n",
      "  \n",
      "C:\\ProgramData\\Anaconda3\\lib\\site-packages\\ipykernel_launcher.py:3: FutureWarning: \n",
      "Passing list-likes to .loc or [] with any missing label will raise\n",
      "KeyError in the future, you can use .reindex() as an alternative.\n",
      "\n",
      "See the documentation here:\n",
      "https://pandas.pydata.org/pandas-docs/stable/user_guide/indexing.html#deprecate-loc-reindex-listlike\n",
      "  This is separate from the ipykernel package so we can avoid doing imports until\n"
     ]
    }
   ],
   "source": [
    "# Align dates with Return DataFrame\n",
    "TSRV = TSRV.loc[RET.index].fillna(method='ffill').dropna(how='all')\n",
    "CSRV = CSRV.loc[RET.index].fillna(method='ffill').dropna(how='all')\n",
    "\n",
    "# Align dates with each other\n",
    "if TSRV.index[0] > CSRV.index[0]:\n",
    "    CSRV = CSRV.loc[TSRV.index[0]:]\n",
    "else:\n",
    "    TSRV = TSRV.loc[CSRV.index[0]:]"
   ]
  },
  {
   "cell_type": "code",
   "execution_count": 38,
   "metadata": {},
   "outputs": [],
   "source": [
    "CSRV.drop_duplicates(inplace=True)"
   ]
  },
  {
   "cell_type": "markdown",
   "metadata": {},
   "source": [
    "# 4. Backtest"
   ]
  },
  {
   "cell_type": "code",
   "execution_count": 44,
   "metadata": {},
   "outputs": [],
   "source": [
    "def ex_ante_vol(df_ret, todate, weights, lookback=130, shrink_corr=0.9):\n",
    "    '''\n",
    "    Args:\n",
    "        df_ret: pandas DataFrame of returns\n",
    "        todate: date to calculate ex ante vol\n",
    "        weights: weight of strategy before ex ante vol control\n",
    "        lookback: number of days to consider for calculating cov\n",
    "        shrink_corr: weight to shrink correlation\n",
    "    '''\n",
    "    # setting data range\n",
    "    todate_loc = df_ret.index.get_loc(todate)\n",
    "    if todate_loc > lookback:\n",
    "        fromdate_loc = todate_loc - lookback\n",
    "    else:\n",
    "        fromdate_loc = 0\n",
    "    \n",
    "    # calculate corr apply shrinkage\n",
    "    corr = df_ret.iloc[fromdate_loc:todate_loc].corr()\n",
    "    corr = corr * shrink_corr + np.diag(np.ones(len(df_ret.columns))) * (1.- shrink_corr)\n",
    "    # calculate cov\n",
    "    std = df_ret.iloc[fromdate_loc:todate_loc].std()\n",
    "    cov = pd.DataFrame(np.diag(std).dot(corr).dot(np.diag(std)), index=RET.columns, columns=RET.columns)\n",
    "    # calculate ex ante vol\n",
    "    return np.sqrt(weights.dot(cov).dot(weights)) * np.sqrt(260)"
   ]
  },
  {
   "cell_type": "code",
   "execution_count": 45,
   "metadata": {},
   "outputs": [],
   "source": [
    "class GRP_bt:\n",
    "    '''\n",
    "    '''\n",
    "    def __init__(self, CSLS, RET, RB, min_vol, freq):\n",
    "        '''\n",
    "        '''\n",
    "        self.CSLS = CSLS  # Cross Sectional Exposure Type. 'vol' means volatility allocation. 'notional' means notional. \n",
    "        self.RET = RET  # \n",
    "        self.RB = RB\n",
    "        \n",
    "        self.Assetvol = 0.02 # vol control parameter for individual assets\n",
    "        self.Strategyvol = 0.02 # vol control parameter for whole strategy\n",
    "        self.factorvol = 0.02\n",
    "        self.factorsd = 260 # lookback period for calcualting factorvol\n",
    "        self.assetsd = 90 # lookback period for calculating Assetvol\n",
    "        self.statsd = 90 # lookback period for calcualting Strategyvol\n",
    "\n",
    "        self.volband = 0.05 # if controled vol is within volband, do not change vol\n",
    "        self.min_vol = min_vol # vol floor 0.04 for ir strategy, 0.15 for all otheres\n",
    "        self.freq = freq # strategy frequency setting. it only applys to Cross Sectional backtesting now.\n",
    "        \n",
    "        # Calculating volatility for assets\n",
    "        std = (self.RET.rolling(window=self.assetsd).std() * np.sqrt(260)).iloc[self.assetsd:]\n",
    "        # Adjust calculated asset volatility\n",
    "        self.std_adj = self.adjust_by_volband(std, self.volband, min_vol=self.min_vol)\n",
    "\n",
    "    def adjust_by_volband(self, df_vol, volband, min_vol=None):\n",
    "        for i in range(1, len(df_vol.index)):\n",
    "            if df_vol.iloc[i].name.weekday() == self.RB:\n",
    "                for c in range(len(df_vol.columns)):\n",
    "                    # case1. if new std is null\n",
    "                    if pd.isnull(df_vol.iloc[i, c]):\n",
    "                        df_vol.iloc[i, c] = df_vol.iloc[i-1, c]\n",
    "                    # case2. if new std within volband\n",
    "                    if abs(df_vol.iloc[i, c] - df_vol.iloc[i-1, c]) < volband * df_vol.iloc[i-1, c] :\n",
    "                        df_vol.iloc[i, c] = df_vol.iloc[i-1, c]\n",
    "            else:\n",
    "                df_vol.iloc[i] = df_vol.iloc[i-1]\n",
    "        if min_vol is not None:\n",
    "            df_vol[df_vol < min_vol] = min_vol\n",
    "\n",
    "        return df_vol\n",
    "    \n",
    "    def ts_vol_control_backtest(self, TSRV):\n",
    "        # Time Series \n",
    "        VCweight = self.Assetvol / self.std_adj\n",
    "        VCTSpos = (VCweight * TSRV).loc[TSRV.index[0]:] # Vol Control Time Series Position\n",
    "        VCTSpos.replace([np.inf, -np.inf], np.nan, inplace=True)\n",
    "        \n",
    "        # Strategy level vol control\n",
    "        # return of VC strategy\n",
    "        Strategy = ((self.RET * VCTSpos.shift(1)).sum(axis=1)).loc[TSRV.index[0]:]\n",
    "        # using average of expanding & moving window strategy risk\n",
    "        Strategyrisk_expanding = (Strategy.expanding(min_periods=self.statsd).std()*np.sqrt(260)).iloc[self.statsd:]\n",
    "        Strategyrisk_rolling = (Strategy.rolling(window=self.statsd).std()*np.sqrt(260)).iloc[self.statsd:]\n",
    "        Strategyrisk = (Strategyrisk_expanding + Strategyrisk_rolling) / 2.\n",
    "        # volband adjustment\n",
    "        bufrisk = self.adjust_by_volband(Strategyrisk.copy().to_frame(), self.volband)\n",
    "        # apply strategy level vol control to position\n",
    "        statlev = self.Strategyvol / bufrisk.iloc[:,0]\n",
    "        self.TSposition = VCTSpos.multiply(statlev, axis='index').iloc[self.statsd:]\n",
    "        self.TSposition.replace([np.inf, -np.inf], np.nan, inplace=True)\n",
    "        self.TSposition.fillna(0, inplace=True)\n",
    "        \n",
    "        # calculate daily strategy return\n",
    "        self.TSStrategy = (self.RET * self.TSposition.shift(1)).sum(axis=1).loc[TSRV.index[0]:]\n",
    "        self.TSStrategylag = (self.RET * self.TSposition.shift(2)).sum(axis=1).loc[TSRV.index[0]:]\n",
    "    \n",
    "    def cs_vol_control_backtest(self, CSRV):\n",
    "        if self.CSLS == 'vol':\n",
    "            CSRV = (CSRV * self.Assetvol / self.std_adj).loc[CSRV.index[0]:]\n",
    "        #elif self.CSLS != 'notional': # raise error\n",
    "            \n",
    "        # Calculating Ex-ante Vol and adjust to target vol which specified by 'Strategyvol'\n",
    "        if self.freq == 'week':\n",
    "            for i in range(len(CSRV.index)):\n",
    "                if CSRV.iloc[i].name.weekday() == self.RB:\n",
    "                    CSRV.iloc[i] = CSRV.iloc[i] * self.Strategyvol / ex_ante_vol(self.RET, CSRV.iloc[i].name, CSRV.iloc[i])\n",
    "                else:\n",
    "                    CSRV.iloc[i] = CSRV.iloc[i-1]\n",
    "        elif self.freq == 'month':\n",
    "            for i in range(len(CSRV.index)):\n",
    "                if CSRV.iloc[i].name.month != CSRV.iloc[i-1].name.month:\n",
    "                    CSRV.iloc[i] = CSRV.iloc[i] * self.Strategyvol / ex_ante_vol(self.RET, CSRV.iloc[i].name, CSRV.iloc[i])\n",
    "                else:\n",
    "                    CSRV.iloc[i] = CSRV.iloc[i-1]\n",
    "        #else: # raise error\n",
    "            \n",
    "        # Strategy level vol control\n",
    "        # return of VC strategy\n",
    "        CSraw = (self.RET * CSRV.shift(1)).dropna(how='all').sum(axis=1)\n",
    "        CSrisk = (CSraw.rolling(window=self.statsd).std()*np.sqrt(260)).iloc[self.statsd:]\n",
    "        \n",
    "        # volband adjustment\n",
    "        cs_bufrisk = self.adjust_by_volband(CSrisk.to_frame(), self.volband)\n",
    "        # apply strategy level vol control to position\n",
    "        cs_statlev = self.Strategyvol / cs_bufrisk.iloc[:,0]\n",
    "        self.CSposition = CSRV.multiply(cs_statlev, axis='index').iloc[self.statsd:]\n",
    "        self.CSposition.replace([np.inf, -np.inf], np.nan, inplace=True)\n",
    "        self.CSposition.fillna(0, inplace=True)\n",
    "        \n",
    "        # calculate daily strategy return\n",
    "        self.CSStrategy = (self.RET * self.CSposition.shift(1)).sum(axis=1).loc[CSRV.index[0]:]\n",
    "        self.CSStrategylag = (self.RET * self.CSposition.shift(2)).sum(axis=1).loc[CSRV.index[0]:]"
   ]
  },
  {
   "cell_type": "code",
   "execution_count": 40,
   "metadata": {},
   "outputs": [],
   "source": [
    "GRP_bt_test = GRP_bt(CSLS='vol', RET=RET, RB=RBP, min_vol=0.15, freq='month')\n",
    "GRP_bt_test.ts_vol_control_backtest(TSRV)"
   ]
  },
  {
   "cell_type": "code",
   "execution_count": 41,
   "metadata": {},
   "outputs": [
    {
     "data": {
      "text/plain": [
       "<matplotlib.axes._subplots.AxesSubplot at 0x20b345d4c50>"
      ]
     },
     "execution_count": 41,
     "metadata": {},
     "output_type": "execute_result"
    },
    {
     "data": {
      "image/png": "[encoded data removed]",
      "text/plain": [
       "<Figure size 432x288 with 1 Axes>"
      ]
     },
     "metadata": {
      "needs_background": "light"
     },
     "output_type": "display_data"
    }
   ],
   "source": [
    "(1. + GRP_bt_test.TSStrategy).cumprod().plot()\n",
    "(1. + GRP_bt_test.TSStrategylag).cumprod().plot()"
   ]
  },
  {
   "cell_type": "code",
   "execution_count": 46,
   "metadata": {},
   "outputs": [
    {
     "ename": "InvalidIndexError",
     "evalue": "Reindexing only valid with uniquely valued Index objects",
     "output_type": "error",
     "traceback": [
      "\u001b[1;31m---------------------------------------------------------------------------\u001b[0m",
      "\u001b[1;31mInvalidIndexError\u001b[0m                         Traceback (most recent call last)",
      "\u001b[1;32m<ipython-input-46-1660b29153b5>\u001b[0m in \u001b[0;36m<module>\u001b[1;34m\u001b[0m\n\u001b[1;32m----> 1\u001b[1;33m \u001b[0mGRP_bt_test\u001b[0m\u001b[1;33m.\u001b[0m\u001b[0mcs_vol_control_backtest\u001b[0m\u001b[1;33m(\u001b[0m\u001b[0mCSRV\u001b[0m\u001b[1;33m)\u001b[0m\u001b[1;33m\u001b[0m\u001b[1;33m\u001b[0m\u001b[0m\n\u001b[0m",
      "\u001b[1;32m<ipython-input-30-26ea17e7b02f>\u001b[0m in \u001b[0;36mcs_vol_control_backtest\u001b[1;34m(self, CSRV)\u001b[0m\n\u001b[0;32m     82\u001b[0m             \u001b[1;32mfor\u001b[0m \u001b[0mi\u001b[0m \u001b[1;32min\u001b[0m \u001b[0mrange\u001b[0m\u001b[1;33m(\u001b[0m\u001b[0mlen\u001b[0m\u001b[1;33m(\u001b[0m\u001b[0mCSRV\u001b[0m\u001b[1;33m.\u001b[0m\u001b[0mindex\u001b[0m\u001b[1;33m)\u001b[0m\u001b[1;33m)\u001b[0m\u001b[1;33m:\u001b[0m\u001b[1;33m\u001b[0m\u001b[1;33m\u001b[0m\u001b[0m\n\u001b[0;32m     83\u001b[0m                 \u001b[1;32mif\u001b[0m \u001b[0mCSRV\u001b[0m\u001b[1;33m.\u001b[0m\u001b[0miloc\u001b[0m\u001b[1;33m[\u001b[0m\u001b[0mi\u001b[0m\u001b[1;33m]\u001b[0m\u001b[1;33m.\u001b[0m\u001b[0mname\u001b[0m\u001b[1;33m.\u001b[0m\u001b[0mmonth\u001b[0m \u001b[1;33m!=\u001b[0m \u001b[0mCSRV\u001b[0m\u001b[1;33m.\u001b[0m\u001b[0miloc\u001b[0m\u001b[1;33m[\u001b[0m\u001b[0mi\u001b[0m\u001b[1;33m-\u001b[0m\u001b[1;36m1\u001b[0m\u001b[1;33m]\u001b[0m\u001b[1;33m.\u001b[0m\u001b[0mname\u001b[0m\u001b[1;33m.\u001b[0m\u001b[0mmonth\u001b[0m\u001b[1;33m:\u001b[0m\u001b[1;33m\u001b[0m\u001b[1;33m\u001b[0m\u001b[0m\n\u001b[1;32m---> 84\u001b[1;33m                     \u001b[0mCSRV\u001b[0m\u001b[1;33m.\u001b[0m\u001b[0miloc\u001b[0m\u001b[1;33m[\u001b[0m\u001b[0mi\u001b[0m\u001b[1;33m]\u001b[0m \u001b[1;33m=\u001b[0m \u001b[0mCSRV\u001b[0m\u001b[1;33m.\u001b[0m\u001b[0miloc\u001b[0m\u001b[1;33m[\u001b[0m\u001b[0mi\u001b[0m\u001b[1;33m]\u001b[0m \u001b[1;33m*\u001b[0m \u001b[0mself\u001b[0m\u001b[1;33m.\u001b[0m\u001b[0mStrategyvol\u001b[0m \u001b[1;33m/\u001b[0m \u001b[0mex_ante_vol\u001b[0m\u001b[1;33m(\u001b[0m\u001b[0mself\u001b[0m\u001b[1;33m.\u001b[0m\u001b[0mRET\u001b[0m\u001b[1;33m,\u001b[0m \u001b[0mCSRV\u001b[0m\u001b[1;33m.\u001b[0m\u001b[0miloc\u001b[0m\u001b[1;33m[\u001b[0m\u001b[0mi\u001b[0m\u001b[1;33m]\u001b[0m\u001b[1;33m.\u001b[0m\u001b[0mname\u001b[0m\u001b[1;33m,\u001b[0m \u001b[0mCSRV\u001b[0m\u001b[1;33m.\u001b[0m\u001b[0miloc\u001b[0m\u001b[1;33m[\u001b[0m\u001b[0mi\u001b[0m\u001b[1;33m]\u001b[0m\u001b[1;33m)\u001b[0m\u001b[1;33m\u001b[0m\u001b[1;33m\u001b[0m\u001b[0m\n\u001b[0m\u001b[0;32m     85\u001b[0m                 \u001b[1;32melse\u001b[0m\u001b[1;33m:\u001b[0m\u001b[1;33m\u001b[0m\u001b[1;33m\u001b[0m\u001b[0m\n\u001b[0;32m     86\u001b[0m                     \u001b[0mCSRV\u001b[0m\u001b[1;33m.\u001b[0m\u001b[0miloc\u001b[0m\u001b[1;33m[\u001b[0m\u001b[0mi\u001b[0m\u001b[1;33m]\u001b[0m \u001b[1;33m=\u001b[0m \u001b[0mCSRV\u001b[0m\u001b[1;33m.\u001b[0m\u001b[0miloc\u001b[0m\u001b[1;33m[\u001b[0m\u001b[0mi\u001b[0m\u001b[1;33m-\u001b[0m\u001b[1;36m1\u001b[0m\u001b[1;33m]\u001b[0m\u001b[1;33m\u001b[0m\u001b[1;33m\u001b[0m\u001b[0m\n",
      "\u001b[1;32m<ipython-input-44-b315ed2c3a85>\u001b[0m in \u001b[0;36mex_ante_vol\u001b[1;34m(df_ret, todate, weights, lookback, shrink_corr)\u001b[0m\n\u001b[0;32m     22\u001b[0m     \u001b[0mcov\u001b[0m \u001b[1;33m=\u001b[0m \u001b[0mpd\u001b[0m\u001b[1;33m.\u001b[0m\u001b[0mDataFrame\u001b[0m\u001b[1;33m(\u001b[0m\u001b[0mnp\u001b[0m\u001b[1;33m.\u001b[0m\u001b[0mdiag\u001b[0m\u001b[1;33m(\u001b[0m\u001b[0mstd\u001b[0m\u001b[1;33m)\u001b[0m\u001b[1;33m.\u001b[0m\u001b[0mdot\u001b[0m\u001b[1;33m(\u001b[0m\u001b[0mcorr\u001b[0m\u001b[1;33m)\u001b[0m\u001b[1;33m.\u001b[0m\u001b[0mdot\u001b[0m\u001b[1;33m(\u001b[0m\u001b[0mnp\u001b[0m\u001b[1;33m.\u001b[0m\u001b[0mdiag\u001b[0m\u001b[1;33m(\u001b[0m\u001b[0mstd\u001b[0m\u001b[1;33m)\u001b[0m\u001b[1;33m)\u001b[0m\u001b[1;33m,\u001b[0m \u001b[0mindex\u001b[0m\u001b[1;33m=\u001b[0m\u001b[0mRET\u001b[0m\u001b[1;33m.\u001b[0m\u001b[0mcolumns\u001b[0m\u001b[1;33m,\u001b[0m \u001b[0mcolumns\u001b[0m\u001b[1;33m=\u001b[0m\u001b[0mRET\u001b[0m\u001b[1;33m.\u001b[0m\u001b[0mcolumns\u001b[0m\u001b[1;33m)\u001b[0m\u001b[1;33m\u001b[0m\u001b[1;33m\u001b[0m\u001b[0m\n\u001b[0;32m     23\u001b[0m     \u001b[1;31m# calculate ex ante vol\u001b[0m\u001b[1;33m\u001b[0m\u001b[1;33m\u001b[0m\u001b[1;33m\u001b[0m\u001b[0m\n\u001b[1;32m---> 24\u001b[1;33m     \u001b[1;32mreturn\u001b[0m \u001b[0mnp\u001b[0m\u001b[1;33m.\u001b[0m\u001b[0msqrt\u001b[0m\u001b[1;33m(\u001b[0m\u001b[0mweights\u001b[0m\u001b[1;33m.\u001b[0m\u001b[0mdot\u001b[0m\u001b[1;33m(\u001b[0m\u001b[0mcov\u001b[0m\u001b[1;33m)\u001b[0m\u001b[1;33m.\u001b[0m\u001b[0mdot\u001b[0m\u001b[1;33m(\u001b[0m\u001b[0mweights\u001b[0m\u001b[1;33m)\u001b[0m\u001b[1;33m)\u001b[0m \u001b[1;33m*\u001b[0m \u001b[0mnp\u001b[0m\u001b[1;33m.\u001b[0m\u001b[0msqrt\u001b[0m\u001b[1;33m(\u001b[0m\u001b[1;36m260\u001b[0m\u001b[1;33m)\u001b[0m\u001b[1;33m\u001b[0m\u001b[1;33m\u001b[0m\u001b[0m\n\u001b[0m",
      "\u001b[1;32mC:\\ProgramData\\Anaconda3\\lib\\site-packages\\pandas\\core\\series.py\u001b[0m in \u001b[0;36mdot\u001b[1;34m(self, other)\u001b[0m\n\u001b[0;32m   2650\u001b[0m \u001b[1;33m\u001b[0m\u001b[0m\n\u001b[0;32m   2651\u001b[0m         \u001b[1;32mif\u001b[0m \u001b[0misinstance\u001b[0m\u001b[1;33m(\u001b[0m\u001b[0mother\u001b[0m\u001b[1;33m,\u001b[0m \u001b[1;33m(\u001b[0m\u001b[0mSeries\u001b[0m\u001b[1;33m,\u001b[0m \u001b[0mDataFrame\u001b[0m\u001b[1;33m)\u001b[0m\u001b[1;33m)\u001b[0m\u001b[1;33m:\u001b[0m\u001b[1;33m\u001b[0m\u001b[1;33m\u001b[0m\u001b[0m\n\u001b[1;32m-> 2652\u001b[1;33m             \u001b[0mcommon\u001b[0m \u001b[1;33m=\u001b[0m \u001b[0mself\u001b[0m\u001b[1;33m.\u001b[0m\u001b[0mindex\u001b[0m\u001b[1;33m.\u001b[0m\u001b[0munion\u001b[0m\u001b[1;33m(\u001b[0m\u001b[0mother\u001b[0m\u001b[1;33m.\u001b[0m\u001b[0mindex\u001b[0m\u001b[1;33m)\u001b[0m\u001b[1;33m\u001b[0m\u001b[1;33m\u001b[0m\u001b[0m\n\u001b[0m\u001b[0;32m   2653\u001b[0m             \u001b[1;32mif\u001b[0m \u001b[0mlen\u001b[0m\u001b[1;33m(\u001b[0m\u001b[0mcommon\u001b[0m\u001b[1;33m)\u001b[0m \u001b[1;33m>\u001b[0m \u001b[0mlen\u001b[0m\u001b[1;33m(\u001b[0m\u001b[0mself\u001b[0m\u001b[1;33m.\u001b[0m\u001b[0mindex\u001b[0m\u001b[1;33m)\u001b[0m \u001b[1;32mor\u001b[0m \u001b[0mlen\u001b[0m\u001b[1;33m(\u001b[0m\u001b[0mcommon\u001b[0m\u001b[1;33m)\u001b[0m \u001b[1;33m>\u001b[0m \u001b[0mlen\u001b[0m\u001b[1;33m(\u001b[0m\u001b[0mother\u001b[0m\u001b[1;33m.\u001b[0m\u001b[0mindex\u001b[0m\u001b[1;33m)\u001b[0m\u001b[1;33m:\u001b[0m\u001b[1;33m\u001b[0m\u001b[1;33m\u001b[0m\u001b[0m\n\u001b[0;32m   2654\u001b[0m                 \u001b[1;32mraise\u001b[0m \u001b[0mValueError\u001b[0m\u001b[1;33m(\u001b[0m\u001b[1;34m\"matrices are not aligned\"\u001b[0m\u001b[1;33m)\u001b[0m\u001b[1;33m\u001b[0m\u001b[1;33m\u001b[0m\u001b[0m\n",
      "\u001b[1;32mC:\\ProgramData\\Anaconda3\\lib\\site-packages\\pandas\\core\\indexes\\base.py\u001b[0m in \u001b[0;36munion\u001b[1;34m(self, other, sort)\u001b[0m\n\u001b[0;32m   2517\u001b[0m             \u001b[1;32mreturn\u001b[0m \u001b[0mself\u001b[0m\u001b[1;33m.\u001b[0m\u001b[0m_union_incompatible_dtypes\u001b[0m\u001b[1;33m(\u001b[0m\u001b[0mother\u001b[0m\u001b[1;33m,\u001b[0m \u001b[0msort\u001b[0m\u001b[1;33m=\u001b[0m\u001b[0msort\u001b[0m\u001b[1;33m)\u001b[0m\u001b[1;33m\u001b[0m\u001b[1;33m\u001b[0m\u001b[0m\n\u001b[0;32m   2518\u001b[0m \u001b[1;33m\u001b[0m\u001b[0m\n\u001b[1;32m-> 2519\u001b[1;33m         \u001b[1;32mreturn\u001b[0m \u001b[0mself\u001b[0m\u001b[1;33m.\u001b[0m\u001b[0m_union\u001b[0m\u001b[1;33m(\u001b[0m\u001b[0mother\u001b[0m\u001b[1;33m,\u001b[0m \u001b[0msort\u001b[0m\u001b[1;33m=\u001b[0m\u001b[0msort\u001b[0m\u001b[1;33m)\u001b[0m\u001b[1;33m\u001b[0m\u001b[1;33m\u001b[0m\u001b[0m\n\u001b[0m\u001b[0;32m   2520\u001b[0m \u001b[1;33m\u001b[0m\u001b[0m\n\u001b[0;32m   2521\u001b[0m     \u001b[1;32mdef\u001b[0m \u001b[0m_union\u001b[0m\u001b[1;33m(\u001b[0m\u001b[0mself\u001b[0m\u001b[1;33m,\u001b[0m \u001b[0mother\u001b[0m\u001b[1;33m,\u001b[0m \u001b[0msort\u001b[0m\u001b[1;33m)\u001b[0m\u001b[1;33m:\u001b[0m\u001b[1;33m\u001b[0m\u001b[1;33m\u001b[0m\u001b[0m\n",
      "\u001b[1;32mC:\\ProgramData\\Anaconda3\\lib\\site-packages\\pandas\\core\\indexes\\base.py\u001b[0m in \u001b[0;36m_union\u001b[1;34m(self, other, sort)\u001b[0m\n\u001b[0;32m   2566\u001b[0m                 \u001b[0mresult\u001b[0m\u001b[1;33m.\u001b[0m\u001b[0mextend\u001b[0m\u001b[1;33m(\u001b[0m\u001b[1;33m[\u001b[0m\u001b[0mx\u001b[0m \u001b[1;32mfor\u001b[0m \u001b[0mx\u001b[0m \u001b[1;32min\u001b[0m \u001b[0mrvals\u001b[0m \u001b[1;32mif\u001b[0m \u001b[0mx\u001b[0m \u001b[1;32mnot\u001b[0m \u001b[1;32min\u001b[0m \u001b[0mvalue_set\u001b[0m\u001b[1;33m]\u001b[0m\u001b[1;33m)\u001b[0m\u001b[1;33m\u001b[0m\u001b[1;33m\u001b[0m\u001b[0m\n\u001b[0;32m   2567\u001b[0m         \u001b[1;32melse\u001b[0m\u001b[1;33m:\u001b[0m\u001b[1;33m\u001b[0m\u001b[1;33m\u001b[0m\u001b[0m\n\u001b[1;32m-> 2568\u001b[1;33m             \u001b[0mindexer\u001b[0m \u001b[1;33m=\u001b[0m \u001b[0mself\u001b[0m\u001b[1;33m.\u001b[0m\u001b[0mget_indexer\u001b[0m\u001b[1;33m(\u001b[0m\u001b[0mother\u001b[0m\u001b[1;33m)\u001b[0m\u001b[1;33m\u001b[0m\u001b[1;33m\u001b[0m\u001b[0m\n\u001b[0m\u001b[0;32m   2569\u001b[0m             \u001b[0mindexer\u001b[0m\u001b[1;33m,\u001b[0m \u001b[1;33m=\u001b[0m \u001b[1;33m(\u001b[0m\u001b[0mindexer\u001b[0m \u001b[1;33m==\u001b[0m \u001b[1;33m-\u001b[0m\u001b[1;36m1\u001b[0m\u001b[1;33m)\u001b[0m\u001b[1;33m.\u001b[0m\u001b[0mnonzero\u001b[0m\u001b[1;33m(\u001b[0m\u001b[1;33m)\u001b[0m\u001b[1;33m\u001b[0m\u001b[1;33m\u001b[0m\u001b[0m\n\u001b[0;32m   2570\u001b[0m \u001b[1;33m\u001b[0m\u001b[0m\n",
      "\u001b[1;32mC:\\ProgramData\\Anaconda3\\lib\\site-packages\\pandas\\core\\indexes\\base.py\u001b[0m in \u001b[0;36mget_indexer\u001b[1;34m(self, target, method, limit, tolerance)\u001b[0m\n\u001b[0;32m   2983\u001b[0m         \u001b[1;32mif\u001b[0m \u001b[1;32mnot\u001b[0m \u001b[0mself\u001b[0m\u001b[1;33m.\u001b[0m\u001b[0mis_unique\u001b[0m\u001b[1;33m:\u001b[0m\u001b[1;33m\u001b[0m\u001b[1;33m\u001b[0m\u001b[0m\n\u001b[0;32m   2984\u001b[0m             raise InvalidIndexError(\n\u001b[1;32m-> 2985\u001b[1;33m                 \u001b[1;34m\"Reindexing only valid with uniquely\"\u001b[0m \u001b[1;34m\" valued Index objects\"\u001b[0m\u001b[1;33m\u001b[0m\u001b[1;33m\u001b[0m\u001b[0m\n\u001b[0m\u001b[0;32m   2986\u001b[0m             )\n\u001b[0;32m   2987\u001b[0m \u001b[1;33m\u001b[0m\u001b[0m\n",
      "\u001b[1;31mInvalidIndexError\u001b[0m: Reindexing only valid with uniquely valued Index objects"
     ]
    }
   ],
   "source": [
    "GRP_bt_test.cs_vol_control_backtest(CSRV)"
   ]
  },
  {
   "cell_type": "code",
   "execution_count": null,
   "metadata": {},
   "outputs": [],
   "source": [
    "(1. + GRP_bt_test.CSStrategy).cumprod().plot()\n",
    "(1. + GRP_bt_test.CSStrategylag).cumprod().plot()"
   ]
  },
  {
   "cell_type": "code",
   "execution_count": null,
   "metadata": {},
   "outputs": [],
   "source": []
  }
 ],
 "metadata": {
  "kernelspec": {
   "display_name": "Python 3",
   "language": "python",
   "name": "python3"
  },
  "language_info": {
   "codemirror_mode": {
    "name": "ipython",
    "version": 3
   },
   "file_extension": ".py",
   "mimetype": "text/x-python",
   "name": "python",
   "nbconvert_exporter": "python",
   "pygments_lexer": "ipython3",
   "version": "3.7.3"
  }
 },
 "nbformat": 4,
 "nbformat_minor": 2
}
