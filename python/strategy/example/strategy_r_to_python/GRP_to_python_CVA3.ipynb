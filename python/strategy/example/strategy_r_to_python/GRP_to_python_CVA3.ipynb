{
 "cells": [
  {
   "cell_type": "markdown",
   "metadata": {},
   "source": [
    "### 업무 수행자: 최정윤"
   ]
  },
  {
   "cell_type": "code",
   "execution_count": 1,
   "metadata": {},
   "outputs": [],
   "source": [
    "import os\n",
    "import sys"
   ]
  },
  {
   "cell_type": "code",
   "execution_count": 2,
   "metadata": {},
   "outputs": [],
   "source": [
    "import pandas as pd\n",
    "import numpy as np\n",
    "import matplotlib.pyplot as plt\n",
    "%matplotlib inline"
   ]
  },
  {
   "cell_type": "code",
   "execution_count": 3,
   "metadata": {},
   "outputs": [],
   "source": [
    "name1 = 'tests'"
   ]
  },
  {
   "cell_type": "code",
   "execution_count": 4,
   "metadata": {},
   "outputs": [],
   "source": [
    "base_path = os.path.abspath('.')\n",
    "data_path = os.path.join(base_path, 'data')"
   ]
  },
  {
   "cell_type": "markdown",
   "metadata": {},
   "source": [
    "# 1. Read Data"
   ]
  },
  {
   "cell_type": "markdown",
   "metadata": {},
   "source": [
    "Read data from two source & process them for comdty returns"
   ]
  },
  {
   "cell_type": "code",
   "execution_count": 5,
   "metadata": {},
   "outputs": [],
   "source": [
    "cindex_path = os.path.join(data_path, 'fut1return-com.csv')\n",
    "cindex1_path = os.path.join(data_path, 'BCOM.csv')"
   ]
  },
  {
   "cell_type": "code",
   "execution_count": 6,
   "metadata": {},
   "outputs": [],
   "source": [
    "cindex = pd.read_csv(cindex_path, header=0, index_col=0, parse_dates=True)\n",
    "cindex1 = pd.read_csv(cindex1_path, header=0, index_col=0, parse_dates=True)"
   ]
  },
  {
   "cell_type": "code",
   "execution_count": 7,
   "metadata": {},
   "outputs": [],
   "source": [
    "CRet = cindex.pct_change(periods=1).iloc[1:]\n",
    "CRet1 = cindex1.pct_change(periods=1).iloc[1:]\n",
    "Cindex = (1. + CRet).cumprod()"
   ]
  },
  {
   "cell_type": "markdown",
   "metadata": {},
   "source": [
    "# 2. Parameter Setting"
   ]
  },
  {
   "cell_type": "code",
   "execution_count": 8,
   "metadata": {},
   "outputs": [],
   "source": [
    "### parameter setting\n",
    "RBP = 3\n",
    "CSNUM = 0.35\n",
    "CSpos = 0"
   ]
  },
  {
   "cell_type": "code",
   "execution_count": 9,
   "metadata": {},
   "outputs": [],
   "source": [
    "RB1 = RBP\n",
    "RB2 = RBP\n",
    "RET = CRet\n",
    "index = Cindex\n",
    "CSdesign = \"vol\""
   ]
  },
  {
   "cell_type": "code",
   "execution_count": 10,
   "metadata": {},
   "outputs": [],
   "source": [
    "RETFinal = CRet"
   ]
  },
  {
   "cell_type": "markdown",
   "metadata": {},
   "source": [
    "# 3. Calculate Signal"
   ]
  },
  {
   "cell_type": "markdown",
   "metadata": {},
   "source": [
    "<strong>Commodity Value 전략</strong>\n",
    "\n",
    "- Commodity Fut1price ShortMA와 LongMA를 비교해서 투자한다.\n",
    "    - 현재 ShortMA는 1달, LongMA는 12달을 기준으로 하고 있음.\n",
    "    - LongMA > ShortMA: Long\n",
    "    - LongMA < ShortMA: Short"
   ]
  },
  {
   "cell_type": "code",
   "execution_count": 11,
   "metadata": {},
   "outputs": [],
   "source": [
    "# weather sensitive comdty group\n",
    "w_group = [\"C\",\"S\",\"SB\",\"SM\",\"W\",\"KC\",\"CT\"]\n",
    "n_w_group = [x for x in Cindex.columns if x not in w_group]\n",
    "c_groups = [w_group, n_w_group]"
   ]
  },
  {
   "cell_type": "code",
   "execution_count": 12,
   "metadata": {},
   "outputs": [],
   "source": [
    "for i in range(2):\n",
    "    if i == 0:\n",
    "        RET = CRet[w_group]\n",
    "    if i == 1:\n",
    "        RET = CRet[n_w_group]\n",
    "\n",
    "    index = Cindex[RET.columns]\n",
    "    fut1price = pd.read_csv(os.path.join(data_path, 'fut1price-com.csv'), header=0, index_col=0, parse_dates=True)\n",
    "    fx = pd.read_csv(os.path.join(data_path, 'fx.csv'), header=0, index_col=0, parse_dates=True)\n",
    "    \n",
    "    monthly_index = [index for index in fut1price.index if index in fx.index]\n",
    "    fut1price = fut1price.loc[monthly_index, index.columns]\n",
    "  \n",
    "    minobs=60\n",
    "    minobs1=12\n",
    "    nopos=0.4\n",
    "    CS=CSNUM\n",
    "\n",
    "    SMA=1\n",
    "    LMA=12\n",
    "    Lwindow=54\n",
    "    Ret=RET\n",
    "\n",
    "    # 1. Define Short ma and Long ma\n",
    "    shortma = fut1price.rolling(SMA).mean()\n",
    "    shortma = shortma.iloc[SMA-1:]\n",
    "\n",
    "    longma = fut1price.rolling(LMA).mean()\n",
    "    longma = longma.iloc[LMA-1:]\n",
    "\n",
    "    longma1 = longma.iloc[:longma.shape[0] - Lwindow + 1,:]\n",
    "    longma1.index = longma.index[longma.shape[0] - longma1.shape[0]:]\n",
    "    shortma = shortma.loc[longma1.index, :]\n",
    "    \n",
    "    # 2. Longma - Shortma 비교\n",
    "    # ratio of long ma price to short ma price\n",
    "    Rvalue = (longma1/shortma)-1\n",
    "\n",
    "    # substract average of all other comdty\n",
    "    RV = Rvalue.sub(Rvalue.mean(axis=1), axis=0)\n",
    "\n",
    "    # RV rank\n",
    "    RVrank = RV.iloc[minobs1-1:,] * 0\n",
    "    pctrank = lambda x: pd.Series(x).rank(pct=True).iloc[-1]\n",
    "    RVrank = RV.rolling(minobs, min_periods=1).apply(pctrank, raw=True) # it takes some time\n",
    "    RVrank = RVrank.iloc[minobs1-1:,]\n",
    "    \n",
    "    # 3. Cross Sectional\n",
    "    RV1 = RV.iloc[minobs1-1:,]\n",
    "    truecount = (RV1.notnull().sum(axis=1) * CS).apply(round) # number of asset to consider\n",
    "\n",
    "    CSRV = RV1.rank(axis=1, method='first')\n",
    "    CSRV1 = (RV1 * -1).rank(axis=1, method='first')\n",
    "\n",
    "    CSRVpos = CSRV * 0\n",
    "    CSRVpos[CSRV.apply(lambda x: x <= truecount, axis=0)] = -1\n",
    "    CSRVpos[CSRV1.apply(lambda x: x <= truecount, axis=0)] = 1\n",
    "    CSRV = CSRVpos.fillna(0)\n",
    "    \n",
    "    # 4. Time Series\n",
    "    TSRV = RVrank * 0 \n",
    "    TSRV[RVrank > nopos + (1-nopos)/2] = 1 # Long\n",
    "    TSRV[RVrank < (1-nopos)/2] = -1 # Short\n",
    "    \n",
    "    if i == 0:\n",
    "        TSRVrun1 = TSRV\n",
    "        CSRVrun1 = CSRV\n",
    "    else:\n",
    "        TSRVrun2 = TSRV\n",
    "        CSRVrun2 = CSRV"
   ]
  },
  {
   "cell_type": "code",
   "execution_count": 25,
   "metadata": {},
   "outputs": [
    {
     "data": {
      "text/html": [
       "<div>\n",
       "<style scoped>\n",
       "    .dataframe tbody tr th:only-of-type {\n",
       "        vertical-align: middle;\n",
       "    }\n",
       "\n",
       "    .dataframe tbody tr th {\n",
       "        vertical-align: top;\n",
       "    }\n",
       "\n",
       "    .dataframe thead th {\n",
       "        text-align: right;\n",
       "    }\n",
       "</style>\n",
       "<table border=\"1\" class=\"dataframe\">\n",
       "  <thead>\n",
       "    <tr style=\"text-align: right;\">\n",
       "      <th></th>\n",
       "      <th>GC</th>\n",
       "      <th>CL</th>\n",
       "      <th>NG</th>\n",
       "      <th>HG</th>\n",
       "      <th>SI</th>\n",
       "      <th>XBW</th>\n",
       "      <th>BO</th>\n",
       "    </tr>\n",
       "  </thead>\n",
       "  <tbody>\n",
       "    <tr>\n",
       "      <th>1998-03-31</th>\n",
       "      <td>0.750000</td>\n",
       "      <td>0.916667</td>\n",
       "      <td>0.416667</td>\n",
       "      <td>0.500000</td>\n",
       "      <td>0.250000</td>\n",
       "      <td>1.000000</td>\n",
       "      <td>0.250000</td>\n",
       "    </tr>\n",
       "    <tr>\n",
       "      <th>1998-04-30</th>\n",
       "      <td>0.692308</td>\n",
       "      <td>0.846154</td>\n",
       "      <td>1.000000</td>\n",
       "      <td>0.384615</td>\n",
       "      <td>0.384615</td>\n",
       "      <td>0.230769</td>\n",
       "      <td>0.153846</td>\n",
       "    </tr>\n",
       "    <tr>\n",
       "      <th>1998-05-29</th>\n",
       "      <td>0.714286</td>\n",
       "      <td>0.785714</td>\n",
       "      <td>0.928571</td>\n",
       "      <td>0.357143</td>\n",
       "      <td>0.500000</td>\n",
       "      <td>0.071429</td>\n",
       "      <td>0.428571</td>\n",
       "    </tr>\n",
       "    <tr>\n",
       "      <th>1998-06-30</th>\n",
       "      <td>0.600000</td>\n",
       "      <td>0.800000</td>\n",
       "      <td>0.333333</td>\n",
       "      <td>0.466667</td>\n",
       "      <td>0.400000</td>\n",
       "      <td>0.200000</td>\n",
       "      <td>0.600000</td>\n",
       "    </tr>\n",
       "    <tr>\n",
       "      <th>1998-07-31</th>\n",
       "      <td>0.500000</td>\n",
       "      <td>0.375000</td>\n",
       "      <td>1.000000</td>\n",
       "      <td>0.062500</td>\n",
       "      <td>0.375000</td>\n",
       "      <td>0.750000</td>\n",
       "      <td>0.625000</td>\n",
       "    </tr>\n",
       "  </tbody>\n",
       "</table>\n",
       "</div>"
      ],
      "text/plain": [
       "                  GC        CL        NG        HG        SI       XBW  \\\n",
       "1998-03-31  0.750000  0.916667  0.416667  0.500000  0.250000  1.000000   \n",
       "1998-04-30  0.692308  0.846154  1.000000  0.384615  0.384615  0.230769   \n",
       "1998-05-29  0.714286  0.785714  0.928571  0.357143  0.500000  0.071429   \n",
       "1998-06-30  0.600000  0.800000  0.333333  0.466667  0.400000  0.200000   \n",
       "1998-07-31  0.500000  0.375000  1.000000  0.062500  0.375000  0.750000   \n",
       "\n",
       "                  BO  \n",
       "1998-03-31  0.250000  \n",
       "1998-04-30  0.153846  \n",
       "1998-05-29  0.428571  \n",
       "1998-06-30  0.600000  \n",
       "1998-07-31  0.625000  "
      ]
     },
     "execution_count": 25,
     "metadata": {},
     "output_type": "execute_result"
    }
   ],
   "source": [
    "RVrank.head()"
   ]
  },
  {
   "cell_type": "code",
   "execution_count": 27,
   "metadata": {},
   "outputs": [
    {
     "data": {
      "text/html": [
       "<div>\n",
       "<style scoped>\n",
       "    .dataframe tbody tr th:only-of-type {\n",
       "        vertical-align: middle;\n",
       "    }\n",
       "\n",
       "    .dataframe tbody tr th {\n",
       "        vertical-align: top;\n",
       "    }\n",
       "\n",
       "    .dataframe thead th {\n",
       "        text-align: right;\n",
       "    }\n",
       "</style>\n",
       "<table border=\"1\" class=\"dataframe\">\n",
       "  <thead>\n",
       "    <tr style=\"text-align: right;\">\n",
       "      <th></th>\n",
       "      <th>GC</th>\n",
       "      <th>CL</th>\n",
       "      <th>NG</th>\n",
       "      <th>HG</th>\n",
       "      <th>C</th>\n",
       "      <th>S</th>\n",
       "      <th>SI</th>\n",
       "      <th>SB</th>\n",
       "      <th>XBW</th>\n",
       "      <th>SM</th>\n",
       "      <th>BO</th>\n",
       "      <th>W</th>\n",
       "      <th>KC</th>\n",
       "      <th>CT</th>\n",
       "    </tr>\n",
       "  </thead>\n",
       "  <tbody>\n",
       "    <tr>\n",
       "      <th>1998-03-31</th>\n",
       "      <td>1.0</td>\n",
       "      <td>1.0</td>\n",
       "      <td>0.0</td>\n",
       "      <td>0.0</td>\n",
       "      <td>0.0</td>\n",
       "      <td>0.0</td>\n",
       "      <td>-1.0</td>\n",
       "      <td>0.0</td>\n",
       "      <td>0.0</td>\n",
       "      <td>1.0</td>\n",
       "      <td>-1.0</td>\n",
       "      <td>1.0</td>\n",
       "      <td>-1.0</td>\n",
       "      <td>-1.0</td>\n",
       "    </tr>\n",
       "    <tr>\n",
       "      <th>1998-04-01</th>\n",
       "      <td>1.0</td>\n",
       "      <td>1.0</td>\n",
       "      <td>0.0</td>\n",
       "      <td>0.0</td>\n",
       "      <td>0.0</td>\n",
       "      <td>0.0</td>\n",
       "      <td>-1.0</td>\n",
       "      <td>0.0</td>\n",
       "      <td>0.0</td>\n",
       "      <td>1.0</td>\n",
       "      <td>-1.0</td>\n",
       "      <td>1.0</td>\n",
       "      <td>-1.0</td>\n",
       "      <td>-1.0</td>\n",
       "    </tr>\n",
       "    <tr>\n",
       "      <th>1998-04-02</th>\n",
       "      <td>1.0</td>\n",
       "      <td>1.0</td>\n",
       "      <td>0.0</td>\n",
       "      <td>0.0</td>\n",
       "      <td>0.0</td>\n",
       "      <td>0.0</td>\n",
       "      <td>-1.0</td>\n",
       "      <td>0.0</td>\n",
       "      <td>0.0</td>\n",
       "      <td>1.0</td>\n",
       "      <td>-1.0</td>\n",
       "      <td>1.0</td>\n",
       "      <td>-1.0</td>\n",
       "      <td>-1.0</td>\n",
       "    </tr>\n",
       "    <tr>\n",
       "      <th>1998-04-03</th>\n",
       "      <td>1.0</td>\n",
       "      <td>1.0</td>\n",
       "      <td>0.0</td>\n",
       "      <td>0.0</td>\n",
       "      <td>0.0</td>\n",
       "      <td>0.0</td>\n",
       "      <td>-1.0</td>\n",
       "      <td>0.0</td>\n",
       "      <td>0.0</td>\n",
       "      <td>1.0</td>\n",
       "      <td>-1.0</td>\n",
       "      <td>1.0</td>\n",
       "      <td>-1.0</td>\n",
       "      <td>-1.0</td>\n",
       "    </tr>\n",
       "    <tr>\n",
       "      <th>1998-04-06</th>\n",
       "      <td>1.0</td>\n",
       "      <td>1.0</td>\n",
       "      <td>0.0</td>\n",
       "      <td>0.0</td>\n",
       "      <td>0.0</td>\n",
       "      <td>0.0</td>\n",
       "      <td>-1.0</td>\n",
       "      <td>0.0</td>\n",
       "      <td>0.0</td>\n",
       "      <td>1.0</td>\n",
       "      <td>-1.0</td>\n",
       "      <td>1.0</td>\n",
       "      <td>-1.0</td>\n",
       "      <td>-1.0</td>\n",
       "    </tr>\n",
       "  </tbody>\n",
       "</table>\n",
       "</div>"
      ],
      "text/plain": [
       "             GC   CL   NG   HG    C    S   SI   SB  XBW   SM   BO    W   KC  \\\n",
       "1998-03-31  1.0  1.0  0.0  0.0  0.0  0.0 -1.0  0.0  0.0  1.0 -1.0  1.0 -1.0   \n",
       "1998-04-01  1.0  1.0  0.0  0.0  0.0  0.0 -1.0  0.0  0.0  1.0 -1.0  1.0 -1.0   \n",
       "1998-04-02  1.0  1.0  0.0  0.0  0.0  0.0 -1.0  0.0  0.0  1.0 -1.0  1.0 -1.0   \n",
       "1998-04-03  1.0  1.0  0.0  0.0  0.0  0.0 -1.0  0.0  0.0  1.0 -1.0  1.0 -1.0   \n",
       "1998-04-06  1.0  1.0  0.0  0.0  0.0  0.0 -1.0  0.0  0.0  1.0 -1.0  1.0 -1.0   \n",
       "\n",
       "             CT  \n",
       "1998-03-31 -1.0  \n",
       "1998-04-01 -1.0  \n",
       "1998-04-02 -1.0  \n",
       "1998-04-03 -1.0  \n",
       "1998-04-06 -1.0  "
      ]
     },
     "execution_count": 27,
     "metadata": {},
     "output_type": "execute_result"
    }
   ],
   "source": [
    "CSRV.head()"
   ]
  },
  {
   "cell_type": "markdown",
   "metadata": {},
   "source": [
    "# 4. Combine Result"
   ]
  },
  {
   "cell_type": "code",
   "execution_count": 13,
   "metadata": {},
   "outputs": [],
   "source": [
    "TSRV = pd.concat([TSRVrun1, TSRVrun2], axis=1)\n",
    "CSRV = pd.concat([CSRVrun1, CSRVrun2], axis=1)"
   ]
  },
  {
   "cell_type": "code",
   "execution_count": 14,
   "metadata": {},
   "outputs": [],
   "source": [
    "TSRV = TSRV[CRet.columns]\n",
    "CSRV = CSRV[CRet.columns]"
   ]
  },
  {
   "cell_type": "code",
   "execution_count": 15,
   "metadata": {},
   "outputs": [],
   "source": [
    "RET = RETFinal"
   ]
  },
  {
   "cell_type": "code",
   "execution_count": 16,
   "metadata": {},
   "outputs": [
    {
     "name": "stderr",
     "output_type": "stream",
     "text": [
      "c:\\programdata\\anaconda3\\envs\\project\\lib\\site-packages\\ipykernel_launcher.py:2: FutureWarning: \n",
      "Passing list-likes to .loc or [] with any missing label will raise\n",
      "KeyError in the future, you can use .reindex() as an alternative.\n",
      "\n",
      "See the documentation here:\n",
      "https://pandas.pydata.org/pandas-docs/stable/indexing.html#deprecate-loc-reindex-listlike\n",
      "  \n",
      "c:\\programdata\\anaconda3\\envs\\project\\lib\\site-packages\\ipykernel_launcher.py:3: FutureWarning: \n",
      "Passing list-likes to .loc or [] with any missing label will raise\n",
      "KeyError in the future, you can use .reindex() as an alternative.\n",
      "\n",
      "See the documentation here:\n",
      "https://pandas.pydata.org/pandas-docs/stable/indexing.html#deprecate-loc-reindex-listlike\n",
      "  This is separate from the ipykernel package so we can avoid doing imports until\n"
     ]
    }
   ],
   "source": [
    "# Align dates with Return DataFrame\n",
    "TSRV = TSRV.loc[RET.index].fillna(method='ffill').dropna(how='all')\n",
    "CSRV = CSRV.loc[RET.index].fillna(method='ffill').dropna(how='all')\n",
    "\n",
    "# Align dates with each other\n",
    "if TSRV.index[0] > CSRV.index[0]:\n",
    "    CSRV = CSRV.loc[TSRV.index[0]:]\n",
    "else:\n",
    "    TSRV = TSRV.loc[CSRV.index[0]:]"
   ]
  },
  {
   "cell_type": "markdown",
   "metadata": {},
   "source": [
    "# 5. Backtest"
   ]
  },
  {
   "cell_type": "code",
   "execution_count": 17,
   "metadata": {},
   "outputs": [],
   "source": [
    "def ex_ante_vol(df_ret, todate, weights, lookback=130, shrink_corr=0.9):\n",
    "    '''\n",
    "    Args:\n",
    "        df_ret: pandas DataFrame of returns\n",
    "        todate: date to calculate ex ante vol\n",
    "        weights: weight of strategy before ex ante vol control\n",
    "        lookback: number of days to consider for calculating cov\n",
    "        shrink_corr: weight to shrink correlation\n",
    "    '''\n",
    "    # setting data range\n",
    "    todate_loc = df_ret.index.get_loc(todate)\n",
    "    if todate_loc > lookback:\n",
    "        fromdate_loc = todate_loc - lookback\n",
    "    else:\n",
    "        fromdate_loc = 0\n",
    "    \n",
    "    # calculate corr apply shrinkage\n",
    "    corr = df_ret.iloc[fromdate_loc:todate_loc].corr()\n",
    "    corr = corr * shrink_corr + np.diag(np.ones(len(df_ret.columns))) * (1.- shrink_corr)\n",
    "    # calculate cov\n",
    "    std = df_ret.iloc[fromdate_loc:todate_loc].std()\n",
    "    cov = pd.DataFrame(np.diag(std).dot(corr).dot(np.diag(std)), index=RET.columns, columns=RET.columns)\n",
    "    # calculate ex ante vol\n",
    "    return np.sqrt(weights.dot(cov).dot(weights)) * np.sqrt(260)"
   ]
  },
  {
   "cell_type": "code",
   "execution_count": 18,
   "metadata": {},
   "outputs": [],
   "source": [
    "class GRP_bt:\n",
    "    '''\n",
    "    '''\n",
    "    def __init__(self, CSLS, RET, RB, min_vol, freq):\n",
    "        '''\n",
    "        '''\n",
    "        self.CSLS = CSLS  # Cross Sectional Exposure Type. 'vol' means volatility allocation. 'notional' means notional. \n",
    "        self.RET = RET  # \n",
    "        self.RB = RB\n",
    "        \n",
    "        self.Assetvol = 0.02 # vol control parameter for individual assets\n",
    "        self.Strategyvol = 0.02 # vol control parameter for whole strategy\n",
    "        self.factorvol = 0.02\n",
    "        self.factorsd = 260 # lookback period for calcualting factorvol\n",
    "        self.assetsd = 90 # lookback period for calculating Assetvol\n",
    "        self.statsd = 90 # lookback period for calcualting Strategyvol\n",
    "\n",
    "        self.volband = 0.05 # if controled vol is within volband, do not change vol\n",
    "        self.min_vol = min_vol # vol floor 0.04 for ir strategy, 0.15 for all otheres\n",
    "        self.freq = freq # strategy frequency setting. it only applys to Cross Sectional backtesting now.\n",
    "        \n",
    "        # Calculating volatility for assets\n",
    "        std = (self.RET.rolling(window=self.assetsd).std() * np.sqrt(260)).iloc[self.assetsd:]\n",
    "        # Adjust calculated asset volatility\n",
    "        self.std_adj = self.adjust_by_volband(std, self.volband, min_vol=self.min_vol)\n",
    "\n",
    "    def adjust_by_volband(self, df_vol, volband, min_vol=None):\n",
    "        for i in range(1, len(df_vol.index)):\n",
    "            if df_vol.iloc[i].name.weekday() == self.RB:\n",
    "                for c in range(len(df_vol.columns)):\n",
    "                    # case1. if new std is null\n",
    "                    if pd.isnull(df_vol.iloc[i, c]):\n",
    "                        df_vol.iloc[i, c] = df_vol.iloc[i-1, c]\n",
    "                    # case2. if new std within volband\n",
    "                    if abs(df_vol.iloc[i, c] - df_vol.iloc[i-1, c]) < volband * df_vol.iloc[i-1, c] :\n",
    "                        df_vol.iloc[i, c] = df_vol.iloc[i-1, c]\n",
    "            else:\n",
    "                df_vol.iloc[i] = df_vol.iloc[i-1]\n",
    "        if min_vol is not None:\n",
    "            df_vol[df_vol < min_vol] = min_vol\n",
    "\n",
    "        return df_vol\n",
    "    \n",
    "    def ts_vol_control_backtest(self, TSRV):\n",
    "        # Time Series \n",
    "        VCweight = self.Assetvol / self.std_adj\n",
    "        VCTSpos = (VCweight * TSRV).loc[TSRV.index[0]:] # Vol Control Time Series Position\n",
    "        VCTSpos.replace([np.inf, -np.inf], np.nan, inplace=True)\n",
    "        \n",
    "        # Strategy level vol control\n",
    "        # return of VC strategy\n",
    "        Strategy = ((self.RET * VCTSpos.shift(1)).sum(axis=1)).loc[TSRV.index[0]:]\n",
    "        # using average of expanding & moving window strategy risk\n",
    "        Strategyrisk_expanding = (Strategy.expanding(min_periods=self.statsd).std()*np.sqrt(260)).iloc[self.statsd:]\n",
    "        Strategyrisk_rolling = (Strategy.rolling(window=self.statsd).std()*np.sqrt(260)).iloc[self.statsd:]\n",
    "        Strategyrisk = (Strategyrisk_expanding + Strategyrisk_rolling) / 2.\n",
    "        # volband adjustment\n",
    "        bufrisk = self.adjust_by_volband(Strategyrisk.copy().to_frame(), self.volband)\n",
    "        # apply strategy level vol control to position\n",
    "        statlev = self.Strategyvol / bufrisk.iloc[:,0]\n",
    "        self.TSposition = VCTSpos.multiply(statlev, axis='index').iloc[self.statsd:]\n",
    "        self.TSposition.replace([np.inf, -np.inf], np.nan, inplace=True)\n",
    "        self.TSposition.fillna(0, inplace=True)\n",
    "        \n",
    "        # calculate daily strategy return\n",
    "        self.TSStrategy = (self.RET * self.TSposition.shift(1)).sum(axis=1).loc[TSRV.index[0]:]\n",
    "        self.TSStrategylag = (self.RET * self.TSposition.shift(2)).sum(axis=1).loc[TSRV.index[0]:]\n",
    "    \n",
    "    def cs_vol_control_backtest(self, CSRV):\n",
    "        if self.CSLS == 'vol':\n",
    "            CSRV = (CSRV * self.Assetvol / self.std_adj).loc[CSRV.index[0]:]\n",
    "        #elif self.CSLS != 'notional': # raise error\n",
    "            \n",
    "        # Calculating Ex-ante Vol and adjust to target vol which specified by 'Strategyvol'\n",
    "        if self.freq == 'week':\n",
    "            for i in range(len(CSRV.index)):\n",
    "                if CSRV.iloc[i].name.weekday() == self.RB:\n",
    "                    CSRV.iloc[i] = CSRV.iloc[i] * self.Strategyvol / ex_ante_vol(self.RET, CSRV.iloc[i].name, CSRV.iloc[i])\n",
    "                else:\n",
    "                    CSRV.iloc[i] = CSRV.iloc[i-1]\n",
    "        elif self.freq == 'month':\n",
    "            for i in range(len(CSRV.index)):\n",
    "                if CSRV.iloc[i].name.month != CSRV.iloc[i-1].name.month:\n",
    "                    CSRV.iloc[i] = CSRV.iloc[i] * self.Strategyvol / ex_ante_vol(self.RET, CSRV.iloc[i].name, CSRV.iloc[i])\n",
    "                else:\n",
    "                    CSRV.iloc[i] = CSRV.iloc[i-1]\n",
    "        #else: # raise error\n",
    "            \n",
    "        # Strategy level vol control\n",
    "        # return of VC strategy\n",
    "        CSraw = (self.RET * CSRV.shift(1)).dropna(how='all').sum(axis=1)\n",
    "        CSrisk = (CSraw.rolling(window=self.statsd).std()*np.sqrt(260)).iloc[self.statsd:]\n",
    "        \n",
    "        # volband adjustment\n",
    "        cs_bufrisk = self.adjust_by_volband(CSrisk.to_frame(), self.volband)\n",
    "        # apply strategy level vol control to position\n",
    "        cs_statlev = self.Strategyvol / cs_bufrisk.iloc[:,0]\n",
    "        self.CSposition = CSRV.multiply(cs_statlev, axis='index').iloc[self.statsd:]\n",
    "        self.CSposition.replace([np.inf, -np.inf], np.nan, inplace=True)\n",
    "        self.CSposition.fillna(0, inplace=True)\n",
    "        \n",
    "        # calculate daily strategy return\n",
    "        self.CSStrategy = (self.RET * self.CSposition.shift(1)).sum(axis=1).loc[CSRV.index[0]:]\n",
    "        self.CSStrategylag = (self.RET * self.CSposition.shift(2)).sum(axis=1).loc[CSRV.index[0]:]"
   ]
  },
  {
   "cell_type": "markdown",
   "metadata": {},
   "source": [
    "### TS"
   ]
  },
  {
   "cell_type": "code",
   "execution_count": 19,
   "metadata": {},
   "outputs": [],
   "source": [
    "GRP_bt_test = GRP_bt(CSLS='vol', RET=RET, RB=RBP, min_vol=0.15, freq='month')\n",
    "GRP_bt_test.ts_vol_control_backtest(TSRV)"
   ]
  },
  {
   "cell_type": "code",
   "execution_count": 20,
   "metadata": {},
   "outputs": [
    {
     "data": {
      "text/plain": [
       "<matplotlib.axes._subplots.AxesSubplot at 0x1dd0ed26b00>"
      ]
     },
     "execution_count": 20,
     "metadata": {},
     "output_type": "execute_result"
    },
    {
     "data": {
      "image/png": "[encoded data removed]",
      "text/plain": [
       "<Figure size 432x288 with 1 Axes>"
      ]
     },
     "metadata": {
      "needs_background": "light"
     },
     "output_type": "display_data"
    }
   ],
   "source": [
    "(1. + GRP_bt_test.TSStrategy).cumprod().plot()\n",
    "(1. + GRP_bt_test.TSStrategylag).cumprod().plot()"
   ]
  },
  {
   "cell_type": "markdown",
   "metadata": {},
   "source": [
    "### CS"
   ]
  },
  {
   "cell_type": "code",
   "execution_count": 21,
   "metadata": {},
   "outputs": [],
   "source": [
    "GRP_bt_test.cs_vol_control_backtest(CSRV)"
   ]
  },
  {
   "cell_type": "code",
   "execution_count": 22,
   "metadata": {
    "scrolled": false
   },
   "outputs": [
    {
     "data": {
      "text/plain": [
       "<matplotlib.axes._subplots.AxesSubplot at 0x1dd0ee4a390>"
      ]
     },
     "execution_count": 22,
     "metadata": {},
     "output_type": "execute_result"
    },
    {
     "data": {
      "image/png": "[encoded data removed]",
      "text/plain": [
       "<Figure size 432x288 with 1 Axes>"
      ]
     },
     "metadata": {
      "needs_background": "light"
     },
     "output_type": "display_data"
    }
   ],
   "source": [
    "(1. + GRP_bt_test.CSStrategy).cumprod().plot()\n",
    "(1. + GRP_bt_test.CSStrategylag).cumprod().plot()"
   ]
  }
 ],
 "metadata": {
  "kernelspec": {
   "display_name": "Python 3",
   "language": "python",
   "name": "python3"
  },
  "language_info": {
   "codemirror_mode": {
    "name": "ipython",
    "version": 3
   },
   "file_extension": ".py",
   "mimetype": "text/x-python",
   "name": "python",
   "nbconvert_exporter": "python",
   "pygments_lexer": "ipython3",
   "version": "3.7.3"
  }
 },
 "nbformat": 4,
 "nbformat_minor": 2
}
