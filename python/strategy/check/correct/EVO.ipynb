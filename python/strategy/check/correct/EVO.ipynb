{
 "cells": [
  {
   "cell_type": "code",
   "execution_count": 1,
   "metadata": {},
   "outputs": [],
   "source": [
    "import os\n",
    "import sys\n",
    "\n",
    "import numpy as np\n",
    "import pandas as pd\n",
    "from sqlalchemy import create_engine\n",
    "\n",
    "\n",
    "sys.path.append(os.path.dirname(os.path.abspath(os.path.dirname('../..'))))\n",
    "from strategy import EquityStrategy\n",
    "from tester import Tester\n",
    "\n",
    "\n",
    "base_path = os.path.abspath('../../..')\n",
    "data_path = os.path.join(base_path, 'data')\n",
    "database_path = os.path.join(data_path, 'database')\n",
    "strategy_path = os.path.join(base_path, 'strategy')\n",
    "check_path = os.path.join(strategy_path, 'check')\n",
    "sys.path.append(strategy_path)"
   ]
  },
  {
   "cell_type": "code",
   "execution_count": 2,
   "metadata": {},
   "outputs": [],
   "source": [
    "from strategy import CommodityStrategy, EquityStrategy, IRStrategy, EmergingStrategy\n",
    "from tester import Tester"
   ]
  },
  {
   "cell_type": "code",
   "execution_count": 3,
   "metadata": {},
   "outputs": [],
   "source": [
    "eindex_path = os.path.join(data_path, 'totindex.csv')\n",
    "eindex1_path = os.path.join(data_path, 'priceindex.csv')\n",
    "efuture_path = os.path.join(data_path, 'FutGenratio1.csv')"
   ]
  },
  {
   "cell_type": "code",
   "execution_count": 4,
   "metadata": {},
   "outputs": [],
   "source": [
    "eindex_path = os.path.join(data_path, 'totindex.csv')\n",
    "eindex1_path = os.path.join(data_path, 'priceindex.csv')\n",
    "efuture_path = os.path.join(data_path, 'FutGenratio1.csv')\n",
    "\n",
    "eindex = pd.read_csv(eindex_path, header=0, index_col=0, parse_dates=True)\n",
    "eindex1 = pd.read_csv(eindex1_path, header=0, index_col=0, parse_dates=True)\n",
    "efut = pd.read_csv(efuture_path, header=0, index_col=0, parse_dates=True)\n",
    "\n",
    "eindex1 = eindex1.loc[:'2008']\n",
    "ERetp = eindex1.pct_change(1).iloc[1:]\n",
    "ERett = eindex.pct_change(1).iloc[1:]\n",
    "fRet = efut.pct_change(1).iloc[1:]\n",
    "\n",
    "compRet = ERett\n",
    "compRet[compRet.isna()] = ERetp[compRet.isna()]\n",
    "ERet1 = compRet\n",
    "ERet1.drop_duplicates(inplace=True)\n",
    "fRet.drop_duplicates(inplace=True)\n",
    "ERet = pd.concat([ERet1.loc[:'2007-12-31'], fRet.loc['2008-01-01':]], axis=0)\n",
    "ERet = ERet.fillna(0)\n",
    "Eindex = (1 + ERet).cumprod()\n",
    "Eindex = Eindex / Eindex.iloc[0]"
   ]
  },
  {
   "cell_type": "code",
   "execution_count": 5,
   "metadata": {},
   "outputs": [],
   "source": [
    "minobs1=12\n",
    "minobs=60\n",
    "nopos=0.4\n",
    "cs=0.35"
   ]
  },
  {
   "cell_type": "code",
   "execution_count": 104,
   "metadata": {},
   "outputs": [],
   "source": [
    "i = 0"
   ]
  },
  {
   "cell_type": "code",
   "execution_count": 105,
   "metadata": {},
   "outputs": [],
   "source": [
    "ivol = pd.read_csv(os.path.join(data_path, \"ivol.csv\"), index_col=0, parse_dates=True)\n",
    "ivol.index.name = 'tdate'\n",
    "ivol.columns.name = 'ticker'"
   ]
  },
  {
   "cell_type": "code",
   "execution_count": 106,
   "metadata": {},
   "outputs": [],
   "source": [
    "if i == 0:\n",
    "    RET = ERet.loc[:, ['SPX', 'TSX', 'FTSE', 'DAX', 'CAC', 'SMI', 'MIB', 'IBEX', 'OMX', 'AEX']]\n",
    "else:\n",
    "    RET = ERet.loc[:, ['NKY', 'AS51', 'HSI', \"SG\"]]\n",
    "\n",
    "index = Eindex.loc[:, RET.columns]\n",
    "\n",
    "# 1. Load Data\n",
    "ivol = ivol\n",
    "ivol = ivol[[column for column in ivol.columns if column in index.columns]]\n",
    "ivol = ivol[pd.to_datetime('2002-01-01'):]"
   ]
  },
  {
   "cell_type": "code",
   "execution_count": 107,
   "metadata": {},
   "outputs": [],
   "source": [
    "ivol1 = (ivol - ivol.shift(1)).iloc[1:]\n",
    "RV = (ivol1.T - ivol1.mean(axis=1).T).T\n",
    "RVrank = RV.iloc[minobs1 - 1:] * 0"
   ]
  },
  {
   "cell_type": "code",
   "execution_count": 114,
   "metadata": {},
   "outputs": [],
   "source": [
    "pctrank = lambda x: pd.Series(x).rank(pct=True).iloc[-1]\n",
    "RVrank1 = RV.expanding().apply(pctrank, raw=True)  # it takes some time\n",
    "RVrank1 = RVrank1.iloc[minobs1 - 1:minobs - 1]"
   ]
  },
  {
   "cell_type": "code",
   "execution_count": 116,
   "metadata": {},
   "outputs": [],
   "source": [
    "pctrank = lambda x: pd.Series(x).rank(pct=True).iloc[-1]\n",
    "RVrank2 = RV.rolling(minobs).apply(pctrank, raw=True)  # it takes some time\n",
    "RVrank2 = RVrank2.iloc[minobs - 1:]\n",
    "RVrank = pd.concat((RVrank1, RVrank2), axis=0)"
   ]
  },
  {
   "cell_type": "code",
   "execution_count": 15,
   "metadata": {},
   "outputs": [],
   "source": [
    "truecount = np.round((RVrank.shape[-1] - RVrank.isna().sum(1)) * cs)\n",
    "truecount = np.repeat(truecount.values, len(RVrank.columns)).reshape(RVrank.shape)\n",
    "\n",
    "tiebreaker = RVrank.rolling(5).mean() * 0.0000001  # tie breaker what is this??\n",
    "tiebreaker.iloc[:4] = 0\n",
    "tied_RVrank = RVrank + tiebreaker\n",
    "\n",
    "CSRV = tied_RVrank.rank(1, method='first')\n",
    "CSRV1 = (CSRV.count(1).T + 1 - CSRV.T).T\n",
    "\n",
    "CSRVpos = CSRV * 0\n",
    "\n",
    "CSRVpos[CSRV <= truecount] = -1\n",
    "CSRVpos[CSRV1 <= truecount] = 1\n",
    "CSRV = CSRVpos.fillna(0)\n",
    "\n",
    "TSRV = RVrank * 0\n",
    "\n",
    "TSRV[RVrank > (nopos + (1 - nopos) / 2)] = 1\n",
    "TSRV[RVrank < ((1 - nopos) / 2)] = -1\n",
    "TSRV.fillna(0, inplace=True)"
   ]
  },
  {
   "cell_type": "code",
   "execution_count": 16,
   "metadata": {},
   "outputs": [
    {
     "data": {
      "text/html": [
       "<div>\n",
       "<style scoped>\n",
       "    .dataframe tbody tr th:only-of-type {\n",
       "        vertical-align: middle;\n",
       "    }\n",
       "\n",
       "    .dataframe tbody tr th {\n",
       "        vertical-align: top;\n",
       "    }\n",
       "\n",
       "    .dataframe thead th {\n",
       "        text-align: right;\n",
       "    }\n",
       "</style>\n",
       "<table border=\"1\" class=\"dataframe\">\n",
       "  <thead>\n",
       "    <tr style=\"text-align: right;\">\n",
       "      <th>ticker</th>\n",
       "      <th>SPX</th>\n",
       "      <th>TSX</th>\n",
       "      <th>FTSE</th>\n",
       "      <th>DAX</th>\n",
       "      <th>CAC</th>\n",
       "      <th>SMI</th>\n",
       "      <th>MIB</th>\n",
       "      <th>IBEX</th>\n",
       "      <th>OMX</th>\n",
       "      <th>AEX</th>\n",
       "    </tr>\n",
       "    <tr>\n",
       "      <th>tdate</th>\n",
       "      <th></th>\n",
       "      <th></th>\n",
       "      <th></th>\n",
       "      <th></th>\n",
       "      <th></th>\n",
       "      <th></th>\n",
       "      <th></th>\n",
       "      <th></th>\n",
       "      <th></th>\n",
       "      <th></th>\n",
       "    </tr>\n",
       "  </thead>\n",
       "  <tbody>\n",
       "    <tr>\n",
       "      <td>2003-01-31</td>\n",
       "      <td>1.0</td>\n",
       "      <td>1.0</td>\n",
       "      <td>1.0</td>\n",
       "      <td>0.0</td>\n",
       "      <td>0.0</td>\n",
       "      <td>-1.0</td>\n",
       "      <td>0.0</td>\n",
       "      <td>0.0</td>\n",
       "      <td>-1.0</td>\n",
       "      <td>0.0</td>\n",
       "    </tr>\n",
       "    <tr>\n",
       "      <td>2003-02-28</td>\n",
       "      <td>0.0</td>\n",
       "      <td>0.0</td>\n",
       "      <td>-1.0</td>\n",
       "      <td>0.0</td>\n",
       "      <td>0.0</td>\n",
       "      <td>0.0</td>\n",
       "      <td>0.0</td>\n",
       "      <td>0.0</td>\n",
       "      <td>0.0</td>\n",
       "      <td>1.0</td>\n",
       "    </tr>\n",
       "    <tr>\n",
       "      <td>2003-03-31</td>\n",
       "      <td>-1.0</td>\n",
       "      <td>0.0</td>\n",
       "      <td>1.0</td>\n",
       "      <td>-1.0</td>\n",
       "      <td>1.0</td>\n",
       "      <td>0.0</td>\n",
       "      <td>0.0</td>\n",
       "      <td>0.0</td>\n",
       "      <td>-1.0</td>\n",
       "      <td>1.0</td>\n",
       "    </tr>\n",
       "    <tr>\n",
       "      <td>2003-04-30</td>\n",
       "      <td>1.0</td>\n",
       "      <td>1.0</td>\n",
       "      <td>-1.0</td>\n",
       "      <td>-1.0</td>\n",
       "      <td>-1.0</td>\n",
       "      <td>1.0</td>\n",
       "      <td>0.0</td>\n",
       "      <td>0.0</td>\n",
       "      <td>0.0</td>\n",
       "      <td>-1.0</td>\n",
       "    </tr>\n",
       "    <tr>\n",
       "      <td>2003-05-30</td>\n",
       "      <td>0.0</td>\n",
       "      <td>0.0</td>\n",
       "      <td>1.0</td>\n",
       "      <td>1.0</td>\n",
       "      <td>0.0</td>\n",
       "      <td>0.0</td>\n",
       "      <td>0.0</td>\n",
       "      <td>0.0</td>\n",
       "      <td>0.0</td>\n",
       "      <td>-1.0</td>\n",
       "    </tr>\n",
       "  </tbody>\n",
       "</table>\n",
       "</div>"
      ],
      "text/plain": [
       "ticker      SPX  TSX  FTSE  DAX  CAC  SMI  MIB  IBEX  OMX  AEX\n",
       "tdate                                                         \n",
       "2003-01-31  1.0  1.0   1.0  0.0  0.0 -1.0  0.0   0.0 -1.0  0.0\n",
       "2003-02-28  0.0  0.0  -1.0  0.0  0.0  0.0  0.0   0.0  0.0  1.0\n",
       "2003-03-31 -1.0  0.0   1.0 -1.0  1.0  0.0  0.0   0.0 -1.0  1.0\n",
       "2003-04-30  1.0  1.0  -1.0 -1.0 -1.0  1.0  0.0   0.0  0.0 -1.0\n",
       "2003-05-30  0.0  0.0   1.0  1.0  0.0  0.0  0.0   0.0  0.0 -1.0"
      ]
     },
     "execution_count": 16,
     "metadata": {},
     "output_type": "execute_result"
    }
   ],
   "source": [
    "TSRV.head()"
   ]
  },
  {
   "cell_type": "code",
   "execution_count": 84,
   "metadata": {},
   "outputs": [],
   "source": []
  },
  {
   "cell_type": "code",
   "execution_count": 87,
   "metadata": {},
   "outputs": [],
   "source": [
    "eql.TSRV.to_csv('../past/eql_tsrv_python.csv')"
   ]
  },
  {
   "cell_type": "code",
   "execution_count": 88,
   "metadata": {},
   "outputs": [],
   "source": [
    "eql.CSRV.to_csv('../past/eql_csrv_python.csv')"
   ]
  },
  {
   "cell_type": "code",
   "execution_count": 98,
   "metadata": {},
   "outputs": [],
   "source": [
    "eql_TSRV = pd.read_csv('../past/eql_tsrv.csv', index_col=[0])\n",
    "eql_CSRV = pd.read_csv('../past/eql_csrv.csv', index_col=[0])"
   ]
  },
  {
   "cell_type": "code",
   "execution_count": 101,
   "metadata": {},
   "outputs": [],
   "source": [
    "eql_TSRV.index = pd.to_datetime(eql_TSRV.index)\n",
    "eql_CSRV.index = pd.to_datetime(eql_CSRV.index)"
   ]
  },
  {
   "cell_type": "code",
   "execution_count": 132,
   "metadata": {},
   "outputs": [],
   "source": [
    "TSRV_DIFF = (eql_TSRV - eql.TSRV)"
   ]
  },
  {
   "cell_type": "code",
   "execution_count": 133,
   "metadata": {},
   "outputs": [
    {
     "data": {
      "text/plain": [
       "SPX     0\n",
       "TSX     0\n",
       "FTSE    0\n",
       "DAX     0\n",
       "CAC     0\n",
       "SMI     0\n",
       "MIB     0\n",
       "IBEX    0\n",
       "OMX     0\n",
       "AEX     0\n",
       "NKY     0\n",
       "AS51    0\n",
       "HSI     0\n",
       "SG      0\n",
       "dtype: int64"
      ]
     },
     "execution_count": 133,
     "metadata": {},
     "output_type": "execute_result"
    }
   ],
   "source": [
    "TSRV_DIFF[np.abs(TSRV_DIFF) > 0.01].count()"
   ]
  },
  {
   "cell_type": "code",
   "execution_count": 134,
   "metadata": {},
   "outputs": [
    {
     "data": {
      "text/plain": [
       "SPX    -9.936496e-15\n",
       "TSX     1.346701e-13\n",
       "FTSE    1.331157e-13\n",
       "DAX     1.542655e-13\n",
       "CAC     8.587575e-14\n",
       "SMI     1.713074e-13\n",
       "MIB     7.044365e-14\n",
       "IBEX    9.692247e-14\n",
       "OMX     9.586776e-14\n",
       "AEX     2.448042e-14\n",
       "NKY     3.419487e-14\n",
       "AS51    1.846856e-13\n",
       "HSI     2.553513e-15\n",
       "SG     -1.591505e-13\n",
       "dtype: float64"
      ]
     },
     "execution_count": 134,
     "metadata": {},
     "output_type": "execute_result"
    }
   ],
   "source": [
    "TSRV_DIFF.sum(axis=0)"
   ]
  },
  {
   "cell_type": "code",
   "execution_count": 135,
   "metadata": {},
   "outputs": [],
   "source": [
    "CSRV_DIFF = (eql_CSRV - eql.CSRV)"
   ]
  },
  {
   "cell_type": "code",
   "execution_count": 145,
   "metadata": {},
   "outputs": [
    {
     "data": {
      "text/plain": [
       "SPX     -7.000000\n",
       "TSX    -14.666667\n",
       "FTSE     0.000000\n",
       "DAX    -14.333333\n",
       "CAC      0.000000\n",
       "SMI      0.000000\n",
       "MIB      7.000000\n",
       "IBEX     0.000000\n",
       "OMX     14.666667\n",
       "AEX     14.333333\n",
       "NKY      0.000000\n",
       "AS51     0.000000\n",
       "HSI      0.000000\n",
       "SG       0.000000\n",
       "dtype: float64"
      ]
     },
     "execution_count": 145,
     "metadata": {},
     "output_type": "execute_result"
    }
   ],
   "source": [
    "CSRV_DIFF[np.abs(CSRV_DIFF) > 0.001].sum(axis=0)"
   ]
  },
  {
   "cell_type": "code",
   "execution_count": null,
   "metadata": {},
   "outputs": [],
   "source": []
  }
 ],
 "metadata": {
  "kernelspec": {
   "display_name": "Python 3",
   "language": "python",
   "name": "python3"
  },
  "language_info": {
   "codemirror_mode": {
    "name": "ipython",
    "version": 3
   },
   "file_extension": ".py",
   "mimetype": "text/x-python",
   "name": "python",
   "nbconvert_exporter": "python",
   "pygments_lexer": "ipython3",
   "version": "3.7.3"
  }
 },
 "nbformat": 4,
 "nbformat_minor": 2
}
