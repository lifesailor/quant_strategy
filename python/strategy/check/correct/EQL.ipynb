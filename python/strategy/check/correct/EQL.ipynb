{
 "cells": [
  {
   "cell_type": "code",
   "execution_count": 1,
   "metadata": {},
   "outputs": [],
   "source": [
    "import os\n",
    "import sys\n",
    "\n",
    "import numpy as np\n",
    "import pandas as pd\n",
    "from sqlalchemy import create_engine\n",
    "\n",
    "\n",
    "sys.path.append(os.path.dirname(os.path.abspath(os.path.dirname('../..'))))\n",
    "from strategy import EquityStrategy\n",
    "from tester import Tester\n",
    "\n",
    "\n",
    "base_path = os.path.abspath('../../..')\n",
    "data_path = os.path.join(base_path, 'data')\n",
    "database_path = os.path.join(data_path, 'database')\n",
    "strategy_path = os.path.join(base_path, 'strategy')\n",
    "check_path = os.path.join(strategy_path, 'check')\n",
    "sys.path.append(strategy_path)"
   ]
  },
  {
   "cell_type": "code",
   "execution_count": 2,
   "metadata": {},
   "outputs": [],
   "source": [
    "from strategy import CommodityStrategy, EquityStrategy, IRStrategy, EmergingStrategy\n",
    "from tester import Tester"
   ]
  },
  {
   "cell_type": "code",
   "execution_count": 3,
   "metadata": {},
   "outputs": [],
   "source": [
    "eindex_path = os.path.join(data_path, 'totindex.csv')\n",
    "eindex1_path = os.path.join(data_path, 'priceindex.csv')\n",
    "efuture_path = os.path.join(data_path, 'FutGenratio1.csv')"
   ]
  },
  {
   "cell_type": "code",
   "execution_count": 4,
   "metadata": {},
   "outputs": [],
   "source": [
    "eindex_path = os.path.join(data_path, 'totindex.csv')\n",
    "eindex1_path = os.path.join(data_path, 'priceindex.csv')\n",
    "efuture_path = os.path.join(data_path, 'FutGenratio1.csv')\n",
    "\n",
    "eindex = pd.read_csv(eindex_path, header=0, index_col=0, parse_dates=True)\n",
    "eindex1 = pd.read_csv(eindex1_path, header=0, index_col=0, parse_dates=True)\n",
    "efut = pd.read_csv(efuture_path, header=0, index_col=0, parse_dates=True)\n",
    "\n",
    "eindex1 = eindex1.loc[:'2008']\n",
    "ERetp = eindex1.pct_change(1).iloc[1:]\n",
    "ERett = eindex.pct_change(1).iloc[1:]\n",
    "fRet = efut.pct_change(1).iloc[1:]\n",
    "\n",
    "compRet = ERett\n",
    "compRet[compRet.isna()] = ERetp[compRet.isna()]\n",
    "ERet1 = compRet\n",
    "ERet1.drop_duplicates(inplace=True)\n",
    "fRet.drop_duplicates(inplace=True)\n",
    "ERet = pd.concat([ERet1.loc[:'2007-12-31'], fRet.loc['2008-01-01':]], axis=0)\n",
    "ERet = ERet.fillna(0)\n",
    "Eindex = (1 + ERet).cumprod()\n",
    "Eindex = Eindex / Eindex.iloc[0]"
   ]
  },
  {
   "cell_type": "code",
   "execution_count": 5,
   "metadata": {},
   "outputs": [],
   "source": [
    "class EQL(EquityStrategy):\n",
    "    def __init__(self, strategy_name, asset_type):\n",
    "        super().__init__(strategy_name=strategy_name, asset_type=asset_type)\n",
    "        self.eps = None\n",
    "\n",
    "    def load_strategy_data(self, table='factset', origin1='ROA', origin2=\"ICR\"):\n",
    "        self.roa = self._load_strategy_data(table=table, origin=origin1)\n",
    "        self.icr = self._load_strategy_data(table=table, origin=origin2)\n",
    "\n",
    "    def calculate_signal(self, minobs1=60, nopos=0.4, CS=0.35, lag=1):\n",
    "        \"\"\"\n",
    "\n",
    "        :param cs_num: percentage of position for cross sectional signal\n",
    "        :param min_obs:\n",
    "        :param longlen: long term price momentum period\n",
    "        :param shortlen: short term price momentum period\n",
    "        :return:\n",
    "        \"\"\"\n",
    "        self.logger.info('[STEP 3] CACULATE SIGNAL')\n",
    "        for i in range(2):\n",
    "            if i == 0:\n",
    "                RET = self.ret.loc[:, ['SPX', 'TSX', 'FTSE', 'DAX', 'CAC', 'SMI', 'MIB', 'IBEX', 'OMX', 'AEX']]\n",
    "            else:\n",
    "                RET = self.ret.loc[:, ['NKY', 'AS51', 'HSI', \"SG\"]]\n",
    "\n",
    "            index = self.index.loc[:, RET.columns]\n",
    "\n",
    "            # 1. Load Data\n",
    "            roa = self.roa.copy()\n",
    "            roa = roa[index.columns]\n",
    "\n",
    "            icr = self.icr.copy()\n",
    "            icr = icr[index.columns]\n",
    "\n",
    "            # 3. RV\n",
    "            RV1 = roa\n",
    "            RV = (RV1 - RV1.shift(lag)).iloc[lag:]\n",
    "\n",
    "            # 4. rank\n",
    "            pctrank = lambda x: pd.Series(x).rank(pct=True).iloc[-1]\n",
    "            RVrank = RV.expanding().apply(pctrank, raw=True)  # it takes some time\n",
    "            RVrank = RVrank.iloc[minobs1 - 1:, ]\n",
    "\n",
    "            # 5. trade\n",
    "            truecount = (RVrank.notnull().sum(axis=1) * CS).apply(round)\n",
    "            tiebreaker = RVrank.rolling(5).mean().fillna(0) * 0.0000001\n",
    "\n",
    "            # 1. Cross sectional\n",
    "            CSRV = (RVrank + tiebreaker).rank(axis=1, method='first')  # Short\n",
    "            CSRV1 = (-1 * RVrank - 1 * tiebreaker).rank(axis=1, method='first')  # Long\n",
    "\n",
    "            CSRVpos = CSRV * 0\n",
    "            CSRVpos[CSRV.apply(lambda x: x <= truecount, axis=0)] = -1\n",
    "            CSRVpos[CSRV1.apply(lambda x: x <= truecount, axis=0)] = 1\n",
    "\n",
    "            CSRV = CSRVpos\n",
    "            CSRV.fillna(0, inplace=True)\n",
    "            CSRVone = CSRV\n",
    "\n",
    "            # 2. Time Series\n",
    "            TSRV1 = RVrank * 0\n",
    "            TSRV1[RVrank > nopos + (1 - nopos) / 2] = 1  # Long\n",
    "            TSRV1[RVrank < (1 - nopos) / 2] = -1  # Short\n",
    "\n",
    "            # 2. Signal2\n",
    "            RV1 = icr\n",
    "            RV = (RV1 - RV1.shift(lag)).iloc[lag:]\n",
    "\n",
    "            # 1. rank\n",
    "            pctrank = lambda x: pd.Series(x).rank(pct=True).iloc[-1]\n",
    "            RVrank = RV.expanding().apply(pctrank, raw=True)  # it takes some time\n",
    "            RVrank = RVrank.iloc[minobs1 - 1:, ]\n",
    "\n",
    "            # 2. trade\n",
    "            truecount = (RVrank.notnull().sum(axis=1) * CS).apply(round)\n",
    "            tiebreaker = RVrank.rolling(5).mean().fillna(0) * 0.0000001\n",
    "\n",
    "            # 1. Cross sectional\n",
    "            CSRV = (RVrank + tiebreaker).rank(axis=1, method='first')  # Short\n",
    "            CSRV1 = (-1 * RVrank - 1 * tiebreaker).rank(axis=1, method='first')  # Long\n",
    "\n",
    "            CSRVpos = CSRV * 0\n",
    "            CSRVpos[CSRV.apply(lambda x: x <= truecount, axis=0)] = -1\n",
    "            CSRVpos[CSRV1.apply(lambda x: x <= truecount, axis=0)] = 1\n",
    "\n",
    "            CSRV = CSRVpos\n",
    "            CSRV.fillna(0, inplace=True)\n",
    "            CSRVtwo = CSRV\n",
    "\n",
    "            # 2. Time Series\n",
    "            TSRV2 = RVrank.fillna(0) * 0\n",
    "            TSRV2[RVrank > nopos + (1 - nopos) / 2] = 1  # Long\n",
    "            TSRV2[RVrank < (1 - nopos) / 2] = -1  # Short\n",
    "\n",
    "            TSRV = (2 * TSRV1 + TSRV2) / 3\n",
    "            CSRV = (CSRVone + 2 * CSRVtwo) / 3\n",
    "\n",
    "            if i == 0:\n",
    "                TSRVrun1 = TSRV\n",
    "                CSRVrun1 = CSRV\n",
    "            else:\n",
    "                TSRVrun2 = TSRV\n",
    "                CSRVrun2 = CSRV\n",
    "\n",
    "        TSRV = pd.concat([TSRVrun1, TSRVrun2], axis=1)\n",
    "        CSRV = pd.concat([CSRVrun1, CSRVrun2], axis=1)\n",
    "\n",
    "        TSRV = TSRV[self.ret.columns]\n",
    "        CSRV = CSRV[self.ret.columns]\n",
    "\n",
    "        self.TSRV = TSRV.loc[self.ret.index].fillna(method='ffill').dropna(how='all')\n",
    "        self.CSRV = CSRV.loc[self.ret.index].fillna(method='ffill').dropna(how='all')\n",
    "\n",
    "        # Align dates with each other\n",
    "        if self.TSRV.index[0] > self.CSRV.index[0]:\n",
    "            self.CSRV = self.CSRV.loc[self.TSRV.index[0]:]\n",
    "        else:\n",
    "            self.TSRV = self.TSRV.loc[self.CSRV.index[0]:]"
   ]
  },
  {
   "cell_type": "code",
   "execution_count": 85,
   "metadata": {},
   "outputs": [
    {
     "name": "stderr",
     "output_type": "stream",
     "text": [
      "2019-12-20 15:16:43,240 - EQL - INFO - [STEP 0] START LOGGING EQL\n",
      "2019-12-20 15:16:43,248 - EQL - INFO - [STEP 2] SET REBALANCE PERIOD\n",
      "2019-12-20 15:16:43,249 - EQL - INFO - [STEP 3] CACULATE SIGNAL\n",
      "C:\\ProgramData\\Anaconda3\\lib\\site-packages\\ipykernel_launcher.py:111: FutureWarning: \n",
      "Passing list-likes to .loc or [] with any missing label will raise\n",
      "KeyError in the future, you can use .reindex() as an alternative.\n",
      "\n",
      "See the documentation here:\n",
      "https://pandas.pydata.org/pandas-docs/stable/user_guide/indexing.html#deprecate-loc-reindex-listlike\n",
      "C:\\ProgramData\\Anaconda3\\lib\\site-packages\\ipykernel_launcher.py:112: FutureWarning: \n",
      "Passing list-likes to .loc or [] with any missing label will raise\n",
      "KeyError in the future, you can use .reindex() as an alternative.\n",
      "\n",
      "See the documentation here:\n",
      "https://pandas.pydata.org/pandas-docs/stable/user_guide/indexing.html#deprecate-loc-reindex-listlike\n"
     ]
    }
   ],
   "source": [
    "eql = EQL(strategy_name=\"EQL\", asset_type=\"EQUITY\")\n",
    "eql.index = Eindex.copy()\n",
    "eql.ret = ERet.copy()\n",
    "\n",
    "# eql.load_index_and_return(from_db=False, save_file=False)\n",
    "# eql.load_strategy_data(table='FS', origin1='ROA', origin2='ICR')\n",
    "roa = pd.read_csv(os.path.join(data_path, \"ROA.csv\"), index_col=0, parse_dates=True)\n",
    "roa.index.name = 'tdate'\n",
    "roa.columns.name = 'ticker'\n",
    "eql.roa = roa\n",
    "\n",
    "icr = pd.read_csv(os.path.join(data_path, \"ICR.csv\"), index_col=0, parse_dates=True)\n",
    "icr.index.name = 'tdate'\n",
    "icr.columns.name = 'ticker'\n",
    "eql.icr = icr\n",
    "\n",
    "eql.set_rebalance_period(freq='month')  # rebalance_day: monday = 0, sunday = 6\n",
    "eql.calculate_signal(minobs1=12, nopos=0.4, CS=0.35, lag=1)"
   ]
  },
  {
   "cell_type": "code",
   "execution_count": 87,
   "metadata": {},
   "outputs": [],
   "source": [
    "eql.TSRV.to_csv('../past/eql_tsrv_python.csv')"
   ]
  },
  {
   "cell_type": "code",
   "execution_count": 88,
   "metadata": {},
   "outputs": [],
   "source": [
    "eql.CSRV.to_csv('../past/eql_csrv_python.csv')"
   ]
  },
  {
   "cell_type": "code",
   "execution_count": 98,
   "metadata": {},
   "outputs": [],
   "source": [
    "eql_TSRV = pd.read_csv('../past/eql_tsrv.csv', index_col=[0])\n",
    "eql_CSRV = pd.read_csv('../past/eql_csrv.csv', index_col=[0])"
   ]
  },
  {
   "cell_type": "code",
   "execution_count": 101,
   "metadata": {},
   "outputs": [],
   "source": [
    "eql_TSRV.index = pd.to_datetime(eql_TSRV.index)\n",
    "eql_CSRV.index = pd.to_datetime(eql_CSRV.index)"
   ]
  },
  {
   "cell_type": "code",
   "execution_count": 132,
   "metadata": {},
   "outputs": [],
   "source": [
    "TSRV_DIFF = (eql_TSRV - eql.TSRV)"
   ]
  },
  {
   "cell_type": "code",
   "execution_count": 133,
   "metadata": {},
   "outputs": [
    {
     "data": {
      "text/plain": [
       "SPX     0\n",
       "TSX     0\n",
       "FTSE    0\n",
       "DAX     0\n",
       "CAC     0\n",
       "SMI     0\n",
       "MIB     0\n",
       "IBEX    0\n",
       "OMX     0\n",
       "AEX     0\n",
       "NKY     0\n",
       "AS51    0\n",
       "HSI     0\n",
       "SG      0\n",
       "dtype: int64"
      ]
     },
     "execution_count": 133,
     "metadata": {},
     "output_type": "execute_result"
    }
   ],
   "source": [
    "TSRV_DIFF[np.abs(TSRV_DIFF) > 0.01].count()"
   ]
  },
  {
   "cell_type": "code",
   "execution_count": 134,
   "metadata": {},
   "outputs": [
    {
     "data": {
      "text/plain": [
       "SPX    -9.936496e-15\n",
       "TSX     1.346701e-13\n",
       "FTSE    1.331157e-13\n",
       "DAX     1.542655e-13\n",
       "CAC     8.587575e-14\n",
       "SMI     1.713074e-13\n",
       "MIB     7.044365e-14\n",
       "IBEX    9.692247e-14\n",
       "OMX     9.586776e-14\n",
       "AEX     2.448042e-14\n",
       "NKY     3.419487e-14\n",
       "AS51    1.846856e-13\n",
       "HSI     2.553513e-15\n",
       "SG     -1.591505e-13\n",
       "dtype: float64"
      ]
     },
     "execution_count": 134,
     "metadata": {},
     "output_type": "execute_result"
    }
   ],
   "source": [
    "TSRV_DIFF.sum(axis=0)"
   ]
  },
  {
   "cell_type": "code",
   "execution_count": 135,
   "metadata": {},
   "outputs": [],
   "source": [
    "CSRV_DIFF = (eql_CSRV - eql.CSRV)"
   ]
  },
  {
   "cell_type": "code",
   "execution_count": 145,
   "metadata": {},
   "outputs": [
    {
     "data": {
      "text/plain": [
       "SPX     -7.000000\n",
       "TSX    -14.666667\n",
       "FTSE     0.000000\n",
       "DAX    -14.333333\n",
       "CAC      0.000000\n",
       "SMI      0.000000\n",
       "MIB      7.000000\n",
       "IBEX     0.000000\n",
       "OMX     14.666667\n",
       "AEX     14.333333\n",
       "NKY      0.000000\n",
       "AS51     0.000000\n",
       "HSI      0.000000\n",
       "SG       0.000000\n",
       "dtype: float64"
      ]
     },
     "execution_count": 145,
     "metadata": {},
     "output_type": "execute_result"
    }
   ],
   "source": [
    "CSRV_DIFF[np.abs(CSRV_DIFF) > 0.001].sum(axis=0)"
   ]
  },
  {
   "cell_type": "code",
   "execution_count": null,
   "metadata": {},
   "outputs": [],
   "source": []
  }
 ],
 "metadata": {
  "kernelspec": {
   "display_name": "Python 3",
   "language": "python",
   "name": "python3"
  },
  "language_info": {
   "codemirror_mode": {
    "name": "ipython",
    "version": 3
   },
   "file_extension": ".py",
   "mimetype": "text/x-python",
   "name": "python",
   "nbconvert_exporter": "python",
   "pygments_lexer": "ipython3",
   "version": "3.7.3"
  }
 },
 "nbformat": 4,
 "nbformat_minor": 2
}
