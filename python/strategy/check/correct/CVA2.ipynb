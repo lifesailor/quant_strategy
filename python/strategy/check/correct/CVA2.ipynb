{
 "cells": [
  {
   "cell_type": "code",
   "execution_count": 1,
   "metadata": {},
   "outputs": [
    {
     "data": {
      "text/html": [
       "        <script type=\"text/javascript\">\n",
       "        window.PlotlyConfig = {MathJaxConfig: 'local'};\n",
       "        if (window.MathJax) {MathJax.Hub.Config({SVG: {font: \"STIX-Web\"}});}\n",
       "        if (typeof require !== 'undefined') {\n",
       "        require.undef(\"plotly\");\n",
       "        requirejs.config({\n",
       "            paths: {\n",
       "                'plotly': ['https://cdn.plot.ly/plotly-latest.min']\n",
       "            }\n",
       "        });\n",
       "        require(['plotly'], function(Plotly) {\n",
       "            window._Plotly = Plotly;\n",
       "        });\n",
       "        }\n",
       "        </script>\n",
       "        "
      ]
     },
     "metadata": {},
     "output_type": "display_data"
    },
    {
     "data": {
      "text/html": [
       "        <script type=\"text/javascript\">\n",
       "        window.PlotlyConfig = {MathJaxConfig: 'local'};\n",
       "        if (window.MathJax) {MathJax.Hub.Config({SVG: {font: \"STIX-Web\"}});}\n",
       "        if (typeof require !== 'undefined') {\n",
       "        require.undef(\"plotly\");\n",
       "        requirejs.config({\n",
       "            paths: {\n",
       "                'plotly': ['https://cdn.plot.ly/plotly-latest.min']\n",
       "            }\n",
       "        });\n",
       "        require(['plotly'], function(Plotly) {\n",
       "            window._Plotly = Plotly;\n",
       "        });\n",
       "        }\n",
       "        </script>\n",
       "        "
      ]
     },
     "metadata": {},
     "output_type": "display_data"
    }
   ],
   "source": [
    "import os\n",
    "import sys\n",
    "import numpy as np\n",
    "import pandas as pd\n",
    "pd.set_option('display.max_columns', 50)\n",
    "\n",
    "from matplotlib import pyplot as plt\n",
    "import seaborn as sns\n",
    "%matplotlib inline\n",
    "\n",
    "import plotly\n",
    "import plotly.graph_objs as go\n",
    "import cufflinks as cf\n",
    "cf.set_config_file(offline=True)"
   ]
  },
  {
   "cell_type": "code",
   "execution_count": 2,
   "metadata": {},
   "outputs": [
    {
     "data": {
      "text/html": [
       "        <script type=\"text/javascript\">\n",
       "        window.PlotlyConfig = {MathJaxConfig: 'local'};\n",
       "        if (window.MathJax) {MathJax.Hub.Config({SVG: {font: \"STIX-Web\"}});}\n",
       "        if (typeof require !== 'undefined') {\n",
       "        require.undef(\"plotly\");\n",
       "        requirejs.config({\n",
       "            paths: {\n",
       "                'plotly': ['https://cdn.plot.ly/plotly-latest.min']\n",
       "            }\n",
       "        });\n",
       "        require(['plotly'], function(Plotly) {\n",
       "            window._Plotly = Plotly;\n",
       "        });\n",
       "        }\n",
       "        </script>\n",
       "        "
      ]
     },
     "metadata": {},
     "output_type": "display_data"
    }
   ],
   "source": [
    "import os\n",
    "import sys\n",
    "import numpy as np\n",
    "import pandas as pd\n",
    "pd.set_option('display.max_columns', 50)\n",
    "\n",
    "from matplotlib import pyplot as plt\n",
    "import seaborn as sns\n",
    "%matplotlib inline\n",
    "\n",
    "import plotly\n",
    "import plotly.graph_objs as go\n",
    "import cufflinks as cf\n",
    "cf.set_config_file(offline=True)"
   ]
  },
  {
   "cell_type": "code",
   "execution_count": 3,
   "metadata": {},
   "outputs": [],
   "source": [
    "base_path = os.path.abspath('../../..')\n",
    "data_path = os.path.join(base_path, 'data')\n",
    "database_path = os.path.join(data_path, 'database')\n",
    "strategy_path = os.path.join(base_path, 'strategy')\n",
    "check_path = os.path.join(strategy_path, 'check')\n",
    "sys.path.append(strategy_path)"
   ]
  },
  {
   "cell_type": "code",
   "execution_count": 4,
   "metadata": {},
   "outputs": [],
   "source": [
    "from strategy import CommodityStrategy, EquityStrategy, IRStrategy, EmergingStrategy\n",
    "from tester import Tester"
   ]
  },
  {
   "cell_type": "code",
   "execution_count": 5,
   "metadata": {},
   "outputs": [],
   "source": [
    "# Comdty data\n",
    "cindex_path = os.path.join(data_path, 'fut1return-com.csv')\n",
    "cindex2_path = os.path.join(data_path, 'BCOM.csv')\n",
    "\n",
    "cindex = pd.read_csv(cindex_path, header=0, index_col=0, parse_dates=True)\n",
    "cindex2 = pd.read_csv(cindex2_path, header=0, index_col=0, parse_dates=True)\n",
    "\n",
    "CRet = cindex.pct_change(1).iloc[1:]\n",
    "CRet2 = cindex2.pct_change(1).iloc[1:]\n",
    "Cindex = (1. + CRet).cumprod()"
   ]
  },
  {
   "cell_type": "code",
   "execution_count": 14,
   "metadata": {},
   "outputs": [],
   "source": [
    "class CVA2(CommodityStrategy):\n",
    "    def __init__(self, strategy_name, asset_type):\n",
    "        super().__init__(strategy_name=strategy_name, asset_type=asset_type)\n",
    "        self.commopos = None\n",
    "\n",
    "    def load_strategy_data(self, table='bloom', origin='commo pos'):\n",
    "        self._connect_database()\n",
    "        source = table.upper()\n",
    "        metadata = sqlalchemy.MetaData(bind=self.engine)\n",
    "        table = sqlalchemy.Table('GRP_{}'.format(source), metadata, autoload=True)\n",
    "        query = \"select * from info_bloom\"\n",
    "        info = self.engine.execute(query)\n",
    "        rows = [row for row in info]\n",
    "        columns = info.keys()\n",
    "        info = pd.DataFrame(rows, columns=columns)\n",
    "        data_info = info[info.origin == origin].set_index('ticker')\n",
    "        query = sqlalchemy.select('*').where(table.c.ticker.in_(data_info.index.str.upper()))\n",
    "        db_data = pd.read_sql(query, self.engine)\n",
    "        db_data = db_data.pivot_table('value', 'tdate', 'ticker')\n",
    "        grp = pd.unique(data_info.grp_ticker)\n",
    "\n",
    "        commo = []\n",
    "        for g in grp:\n",
    "            tickers_ = data_info[data_info.grp_ticker == g].index\n",
    "\n",
    "            for ticker in tickers_:\n",
    "                if ticker.split(' ')[0][-2:].upper() == 'CN':\n",
    "                    ticker1 = ticker\n",
    "                if ticker.split(' ')[0][-2:].upper() == 'CS':\n",
    "                    ticker2 = ticker\n",
    "\n",
    "            k = db_data[ticker1.upper()] / db_data[ticker2.upper()]\n",
    "            commo.append(k)\n",
    "\n",
    "        commo = pd.concat(commo, 1)\n",
    "        commo.columns = grp\n",
    "        commo.index = pd.to_datetime(commo.index)\n",
    "        commo.index.name = 'tdate'\n",
    "        self.commopos = commo.shift(1)\n",
    "\n",
    "    def calculate_signal(self, CS=0.35, nopos=0.4, minobs1=12):\n",
    "        \"\"\"\n",
    "\n",
    "        :param cs_num: Percent of positions for Cross Sectional Signal\n",
    "        :param no_pos: no position zone in the middle of two extreme\n",
    "        :param lookback_period: lookback period for calculating stdev\n",
    "        :return:\n",
    "        \"\"\"\n",
    "        self.logger.info('[STEP 3] CACULATE SIGNAL')\n",
    "\n",
    "        for i in range(2):\n",
    "            if i == 0:\n",
    "                cret = self.ret[CommodityStrategy.BLOOM_COMMODITY_WEATHER_GROUP]\n",
    "            if i == 1:\n",
    "                cret = self.ret[CommodityStrategy.BLOOM_COMMODITY_NOTWEATHER_GROUP]\n",
    "\n",
    "            compos1 = self.commopos[cret.columns]\n",
    "            compos1 = compos1.iloc[\n",
    "                compos1.reset_index().groupby(compos1.index.to_period('M'))[compos1.index.name].idxmax()]\n",
    "            compos1 = compos1[\"1998\":]\n",
    "            Zscore = (compos1.iloc[minobs1:] - compos1.rolling(minobs1).mean()) / (compos1.rolling(minobs1).std())\n",
    "            Zscore = Zscore.iloc[minobs1:]\n",
    "            RV = -Zscore\n",
    "\n",
    "            pctrank = lambda x: pd.Series(x).rank(pct=True).iloc[-1]\n",
    "            RVrank = RV.expanding().apply(pctrank, raw=True)  # it takes some time\n",
    "            RVrank = RVrank.iloc[minobs1 - 1:, ]\n",
    "\n",
    "            # 5. Long Short\n",
    "            truecount = (RVrank.notnull().sum(axis=1) * CS).apply(round)\n",
    "            tiebreaker = RVrank.rolling(5).mean().fillna(0) * 0.0000001\n",
    "\n",
    "            # 1. Cross sectional\n",
    "            CSRV = (RVrank + tiebreaker).rank(axis=1, method='first')  # Short\n",
    "            CSRV1 = (-1 * RVrank - 1 * tiebreaker).rank(axis=1, method='first')  # Long\n",
    "            \n",
    "            CSRVpos = CSRV * 0\n",
    "            CSRVpos[CSRV.apply(lambda x: x <= truecount, axis=0)] = -1\n",
    "            CSRVpos[CSRV1.apply(lambda x: x <= truecount, axis=0)] = 1\n",
    "            CSRV = CSRVpos\n",
    "            CSRV.fillna(0, inplace=True)\n",
    "\n",
    "            # 2. Time Series\n",
    "            TSRV = RVrank.fillna(0) * 0\n",
    "            TSRV[RVrank > nopos + (1 - nopos) / 2] = 1  # Long\n",
    "            TSRV[RVrank < (1 - nopos) / 2] = -1  # Short\n",
    "            \n",
    "            CSRV = CSRV * 1/2\n",
    "            TSRV = TSRV * 1/2\n",
    "\n",
    "            if i == 0:\n",
    "                TSRVrun1 = TSRV\n",
    "                CSRVrun1 = CSRV\n",
    "            else:\n",
    "                TSRVrun2 = TSRV\n",
    "                CSRVrun2 = CSRV\n",
    "\n",
    "        TSRV = pd.concat([TSRVrun1, TSRVrun2], axis=1)\n",
    "        CSRV = pd.concat([CSRVrun1, CSRVrun2], axis=1)\n",
    "\n",
    "        TSRV = TSRV[self.ret.columns]\n",
    "        CSRV = CSRV[self.ret.columns]\n",
    "\n",
    "        self.TSRV = TSRV.loc[self.ret.index].fillna(method='ffill').dropna(how='all')\n",
    "        self.CSRV = CSRV.loc[self.ret.index].fillna(method='ffill').dropna(how='all')\n",
    "\n",
    "        # Align dates with each other\n",
    "        if self.TSRV.index[0] > self.CSRV.index[0]:\n",
    "            self.CSRV = self.CSRV.loc[self.TSRV.index[0]:]\n",
    "        else:\n",
    "            self.TSRV = self.TSRV.loc[self.CSRV.index[0]:]"
   ]
  },
  {
   "cell_type": "code",
   "execution_count": 15,
   "metadata": {},
   "outputs": [
    {
     "name": "stderr",
     "output_type": "stream",
     "text": [
      "2019-12-20 16:09:50,593 - CVA2 - INFO - [STEP 0] START LOGGING CVA2\n",
      "2019-12-20 16:09:50,593 - CVA2 - INFO - [STEP 0] START LOGGING CVA2\n",
      "2019-12-20 16:09:50,595 - CVA2 - INFO - [STEP 2] SET REBALANCE PERIOD\n",
      "2019-12-20 16:09:50,595 - CVA2 - INFO - [STEP 2] SET REBALANCE PERIOD\n",
      "2019-12-20 16:09:50,608 - CVA2 - INFO - [STEP 3] CACULATE SIGNAL\n",
      "2019-12-20 16:09:50,608 - CVA2 - INFO - [STEP 3] CACULATE SIGNAL\n",
      "C:\\ProgramData\\Anaconda3\\lib\\site-packages\\ipykernel_launcher.py:103: FutureWarning:\n",
      "\n",
      "\n",
      "Passing list-likes to .loc or [] with any missing label will raise\n",
      "KeyError in the future, you can use .reindex() as an alternative.\n",
      "\n",
      "See the documentation here:\n",
      "https://pandas.pydata.org/pandas-docs/stable/user_guide/indexing.html#deprecate-loc-reindex-listlike\n",
      "\n",
      "C:\\ProgramData\\Anaconda3\\lib\\site-packages\\ipykernel_launcher.py:104: FutureWarning:\n",
      "\n",
      "\n",
      "Passing list-likes to .loc or [] with any missing label will raise\n",
      "KeyError in the future, you can use .reindex() as an alternative.\n",
      "\n",
      "See the documentation here:\n",
      "https://pandas.pydata.org/pandas-docs/stable/user_guide/indexing.html#deprecate-loc-reindex-listlike\n",
      "\n"
     ]
    }
   ],
   "source": [
    "cva2 = CVA2(strategy_name=\"CVA2\", asset_type=\"COMMODITY\")\n",
    "# cva2.load_index_and_return(from_db=False, save_file=False)\n",
    "cva2.index = Cindex.copy()\n",
    "cva2.ret = CRet.copy()\n",
    "\n",
    "cva2.set_rebalance_period(freq='month')\n",
    "# cva2.load_strategy_data(table='bloom', origin='commo pos')\n",
    "\n",
    "commopos = pd.read_csv(os.path.join(data_path, \"commo pos.csv\"), index_col=0, parse_dates=True)\n",
    "commopos.index.name = 'tdate'\n",
    "commopos.columns.name = 'ticker'\n",
    "\n",
    "cva2.commopos = commopos\n",
    "cva2.calculate_signal(CS=0.35, nopos=0.4, minobs1=12)"
   ]
  },
  {
   "cell_type": "code",
   "execution_count": 16,
   "metadata": {},
   "outputs": [],
   "source": [
    "cva2_TSRV = pd.read_csv('../past/cva2_tsrv.csv', index_col=[0])\n",
    "cva2_CSRV = pd.read_csv('../past/cva2_csrv.csv', index_col=[0])\n",
    "\n",
    "cva2_TSRV.index = pd.to_datetime(cva2_TSRV.index)\n",
    "cva2_CSRV.index = pd.to_datetime(cva2_CSRV.index)"
   ]
  },
  {
   "cell_type": "code",
   "execution_count": 18,
   "metadata": {},
   "outputs": [],
   "source": [
    "TSRV_DIFF = (cva2_TSRV - cva2.TSRV)"
   ]
  },
  {
   "cell_type": "code",
   "execution_count": 19,
   "metadata": {},
   "outputs": [
    {
     "data": {
      "text/plain": [
       "GC       0\n",
       "CL     131\n",
       "NG      23\n",
       "HG      45\n",
       "C       42\n",
       "S       21\n",
       "SI      67\n",
       "SB      44\n",
       "XBW      0\n",
       "SM      66\n",
       "BO     152\n",
       "W       42\n",
       "KC      61\n",
       "CT      21\n",
       "dtype: int64"
      ]
     },
     "execution_count": 19,
     "metadata": {},
     "output_type": "execute_result"
    }
   ],
   "source": [
    "TSRV_DIFF[np.abs(TSRV_DIFF) > 0.01].count()"
   ]
  },
  {
   "cell_type": "code",
   "execution_count": 23,
   "metadata": {},
   "outputs": [],
   "source": [
    "i = 0"
   ]
  },
  {
   "cell_type": "code",
   "execution_count": 26,
   "metadata": {},
   "outputs": [],
   "source": [
    "ret = CRet\n",
    "index = Cindex"
   ]
  },
  {
   "cell_type": "code",
   "execution_count": 28,
   "metadata": {},
   "outputs": [],
   "source": [
    "minobs1 = 12"
   ]
  },
  {
   "cell_type": "code",
   "execution_count": 40,
   "metadata": {},
   "outputs": [],
   "source": [
    "if i == 0:\n",
    "    cret = ret[CommodityStrategy.BLOOM_COMMODITY_WEATHER_GROUP]\n",
    "if i == 1:\n",
    "    cret = ret[CommodityStrategy.BLOOM_COMMODITY_NOTWEATHER_GROUP]\n",
    "\n",
    "compos1 = commopos[cret.columns]\n",
    "compos1 = compos1.iloc[\n",
    "    compos1.reset_index().groupby(compos1.index.to_period('M'))[compos1.index.name].idxmax()]\n",
    "compos1 = compos1[\"1998\":]\n",
    "Zscore = (compos1.iloc[minobs1:] - compos1.rolling(minobs1).mean()) / (compos1.rolling(minobs1).std())\n",
    "Zscore = Zscore.iloc[minobs1:]\n",
    "RV = -Zscore"
   ]
  },
  {
   "cell_type": "code",
   "execution_count": null,
   "metadata": {},
   "outputs": [],
   "source": []
  }
 ],
 "metadata": {
  "kernelspec": {
   "display_name": "Python 3",
   "language": "python",
   "name": "python3"
  },
  "language_info": {
   "codemirror_mode": {
    "name": "ipython",
    "version": 3
   },
   "file_extension": ".py",
   "mimetype": "text/x-python",
   "name": "python",
   "nbconvert_exporter": "python",
   "pygments_lexer": "ipython3",
   "version": "3.7.3"
  }
 },
 "nbformat": 4,
 "nbformat_minor": 2
}
