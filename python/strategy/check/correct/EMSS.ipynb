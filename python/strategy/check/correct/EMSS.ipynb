{
 "cells": [
  {
   "cell_type": "code",
   "execution_count": 1,
   "metadata": {},
   "outputs": [
    {
     "data": {
      "text/html": [
       "        <script type=\"text/javascript\">\n",
       "        window.PlotlyConfig = {MathJaxConfig: 'local'};\n",
       "        if (window.MathJax) {MathJax.Hub.Config({SVG: {font: \"STIX-Web\"}});}\n",
       "        if (typeof require !== 'undefined') {\n",
       "        require.undef(\"plotly\");\n",
       "        requirejs.config({\n",
       "            paths: {\n",
       "                'plotly': ['https://cdn.plot.ly/plotly-latest.min']\n",
       "            }\n",
       "        });\n",
       "        require(['plotly'], function(Plotly) {\n",
       "            window._Plotly = Plotly;\n",
       "        });\n",
       "        }\n",
       "        </script>\n",
       "        "
      ]
     },
     "metadata": {},
     "output_type": "display_data"
    },
    {
     "data": {
      "text/html": [
       "        <script type=\"text/javascript\">\n",
       "        window.PlotlyConfig = {MathJaxConfig: 'local'};\n",
       "        if (window.MathJax) {MathJax.Hub.Config({SVG: {font: \"STIX-Web\"}});}\n",
       "        if (typeof require !== 'undefined') {\n",
       "        require.undef(\"plotly\");\n",
       "        requirejs.config({\n",
       "            paths: {\n",
       "                'plotly': ['https://cdn.plot.ly/plotly-latest.min']\n",
       "            }\n",
       "        });\n",
       "        require(['plotly'], function(Plotly) {\n",
       "            window._Plotly = Plotly;\n",
       "        });\n",
       "        }\n",
       "        </script>\n",
       "        "
      ]
     },
     "metadata": {},
     "output_type": "display_data"
    }
   ],
   "source": [
    "import os\n",
    "import sys\n",
    "import numpy as np\n",
    "import pandas as pd\n",
    "pd.set_option('display.max_columns', 50)\n",
    "\n",
    "from matplotlib import pyplot as plt\n",
    "import seaborn as sns\n",
    "%matplotlib inline\n",
    "\n",
    "import plotly\n",
    "import plotly.graph_objs as go\n",
    "import cufflinks as cf\n",
    "cf.set_config_file(offline=True)"
   ]
  },
  {
   "cell_type": "code",
   "execution_count": 4,
   "metadata": {},
   "outputs": [],
   "source": [
    "base_path = os.path.abspath('../../..')\n",
    "data_path = os.path.join(base_path, 'data')\n",
    "database_path = os.path.join(data_path, 'database')\n",
    "strategy_path = os.path.join(base_path, 'strategy')\n",
    "check_path = os.path.join(strategy_path, 'check')\n",
    "sys.path.append(strategy_path)"
   ]
  },
  {
   "cell_type": "code",
   "execution_count": 5,
   "metadata": {},
   "outputs": [],
   "source": [
    "from strategy import CommodityStrategy, EquityStrategy, IRStrategy, EmergingStrategy\n",
    "from tester import Tester"
   ]
  },
  {
   "cell_type": "code",
   "execution_count": 6,
   "metadata": {},
   "outputs": [],
   "source": [
    "from EMDY import EMDY\n",
    "from EMPE import EMPE\n",
    "from EMPM import EMPM\n",
    "from EMSS import EMSS\n",
    "from EMCA import EMCA"
   ]
  },
  {
   "cell_type": "code",
   "execution_count": 7,
   "metadata": {},
   "outputs": [],
   "source": [
    "# EM equity data\n",
    "emindex = pd.read_csv(os.path.join(data_path, 'totindex-em.csv'), header=0, index_col=0, parse_dates=True)\n",
    "emindex1 = pd.read_csv(os.path.join(data_path, 'priceindex-em.csv'), header=0, index_col=0, parse_dates=True)\n",
    "emfut = pd.read_csv(os.path.join(data_path, 'fut1return-em.CSV'), header=0, index_col=0, parse_dates=True)\n",
    "\n",
    "total_em_ret = emindex.pct_change()\n",
    "prc_em_ret = emindex1.pct_change()\n",
    "fut_em_ret = emfut.pct_change()\n",
    "fut_em_ret = fut_em_ret.reindex(pd.date_range(fut_em_ret.index[0], fut_em_ret.index[-1], freq ='B')) # bizday로 변환\n",
    "\n",
    "prc_em_ret.loc[total_em_ret.index] = total_em_ret\n",
    "raw_index = pd.concat([emindex1.loc[:'2012-12-31'], emfut.loc['2013-01-01':]]).iloc[1:]\n",
    "EMRet = pd.concat([prc_em_ret.loc[:'2012-12-31'], fut_em_ret.loc['2013-01-01':]]).iloc[1:]\n",
    "\n",
    "EMRet.fillna(0, inplace = True)\n",
    "EMindex = EMRet\n",
    "EMindex.iloc[0] = 0\n",
    "EMindex = (1+ EMindex).cumprod()\n",
    "EMindex = EMindex / EMindex.iloc[0]\n",
    "\n",
    "raw_index.index.name = 'tdate'\n",
    "raw_index.columns.name = 'ticker'\n",
    "\n",
    "EMindex.index.name = 'tdate'\n",
    "EMRet.index.name = 'tdate'\n",
    "\n",
    "EMindex.columns.name = 'ticker'\n",
    "EMRet.columns.name = 'ticker'\n",
    "\n",
    "raw_index = pd.read_csv(os.path.join(data_path,'priceindex-mon-em.csv') ,header=0, index_col=0, parse_dates=True)\n",
    "raw_index.index.name = 'tdate'\n",
    "raw_index.columns.name = 'ticker'"
   ]
  },
  {
   "cell_type": "markdown",
   "metadata": {},
   "source": [
    "# 1. EMSS"
   ]
  },
  {
   "cell_type": "code",
   "execution_count": 58,
   "metadata": {},
   "outputs": [
    {
     "name": "stderr",
     "output_type": "stream",
     "text": [
      "2020-01-21 10:53:04,358 - EMSS - INFO - [STEP 0] START LOGGING EMSS\n",
      "2020-01-21 10:53:04,358 - EMSS - INFO - [STEP 0] START LOGGING EMSS\n",
      "2020-01-21 10:53:04,358 - EMSS - INFO - [STEP 0] START LOGGING EMSS\n",
      "2020-01-21 10:53:04,358 - EMSS - INFO - [STEP 0] START LOGGING EMSS\n",
      "2020-01-21 10:53:04,360 - EMSS - INFO - [STEP 1] LOAD DATA\n",
      "2020-01-21 10:53:04,360 - EMSS - INFO - [STEP 1] LOAD DATA\n",
      "2020-01-21 10:53:04,360 - EMSS - INFO - [STEP 1] LOAD DATA\n",
      "2020-01-21 10:53:04,360 - EMSS - INFO - [STEP 1] LOAD DATA\n",
      "2020-01-21 10:53:04,361 - EMSS - INFO - [STEP 1 - 1] CONNECT TO BLOOM DATABASE\n",
      "2020-01-21 10:53:04,361 - EMSS - INFO - [STEP 1 - 1] CONNECT TO BLOOM DATABASE\n",
      "2020-01-21 10:53:04,361 - EMSS - INFO - [STEP 1 - 1] CONNECT TO BLOOM DATABASE\n",
      "2020-01-21 10:53:04,361 - EMSS - INFO - [STEP 1 - 1] CONNECT TO BLOOM DATABASE\n",
      "2020-01-21 10:53:04,363 - EMSS - INFO - [STEP 1 - 3] CHANGE BLOOM AND PAST DATA INTO STANDARD FORMAT\n",
      "2020-01-21 10:53:04,363 - EMSS - INFO - [STEP 1 - 3] CHANGE BLOOM AND PAST DATA INTO STANDARD FORMAT\n",
      "2020-01-21 10:53:04,363 - EMSS - INFO - [STEP 1 - 3] CHANGE BLOOM AND PAST DATA INTO STANDARD FORMAT\n",
      "2020-01-21 10:53:04,363 - EMSS - INFO - [STEP 1 - 3] CHANGE BLOOM AND PAST DATA INTO STANDARD FORMAT\n",
      "2020-01-21 10:53:07,497 - EMSS - INFO - [STEP 1 - 3] CHANGE BLOOM DATA INTO STANDARD FORMAT\n",
      "2020-01-21 10:53:07,497 - EMSS - INFO - [STEP 1 - 3] CHANGE BLOOM DATA INTO STANDARD FORMAT\n",
      "2020-01-21 10:53:07,497 - EMSS - INFO - [STEP 1 - 3] CHANGE BLOOM DATA INTO STANDARD FORMAT\n",
      "2020-01-21 10:53:07,497 - EMSS - INFO - [STEP 1 - 3] CHANGE BLOOM DATA INTO STANDARD FORMAT\n",
      "2020-01-21 10:53:11,070 - EMSS - INFO - [STEP 1 - 3] CHANGE BLOOM DATA INTO STANDARD FORMAT\n",
      "2020-01-21 10:53:11,070 - EMSS - INFO - [STEP 1 - 3] CHANGE BLOOM DATA INTO STANDARD FORMAT\n",
      "2020-01-21 10:53:11,070 - EMSS - INFO - [STEP 1 - 3] CHANGE BLOOM DATA INTO STANDARD FORMAT\n",
      "2020-01-21 10:53:11,070 - EMSS - INFO - [STEP 1 - 3] CHANGE BLOOM DATA INTO STANDARD FORMAT\n",
      "2020-01-21 10:53:31,136 - EMSS - INFO - [STEP 1 - 4] MERGE BLOOM AND PAST DATA\n",
      "2020-01-21 10:53:31,136 - EMSS - INFO - [STEP 1 - 4] MERGE BLOOM AND PAST DATA\n",
      "2020-01-21 10:53:31,136 - EMSS - INFO - [STEP 1 - 4] MERGE BLOOM AND PAST DATA\n",
      "2020-01-21 10:53:31,136 - EMSS - INFO - [STEP 1 - 4] MERGE BLOOM AND PAST DATA\n",
      "2020-01-21 10:53:31,144 - EMSS - INFO - [STEP 1 - 5] SAVE RETURN DATA INTO CSV FORMAT\n",
      "2020-01-21 10:53:31,144 - EMSS - INFO - [STEP 1 - 5] SAVE RETURN DATA INTO CSV FORMAT\n",
      "2020-01-21 10:53:31,144 - EMSS - INFO - [STEP 1 - 5] SAVE RETURN DATA INTO CSV FORMAT\n",
      "2020-01-21 10:53:31,144 - EMSS - INFO - [STEP 1 - 5] SAVE RETURN DATA INTO CSV FORMAT\n",
      "2020-01-21 10:53:31,322 - EMSS - INFO - [STEP 2] SET REBALANCE PERIOD\n",
      "2020-01-21 10:53:31,322 - EMSS - INFO - [STEP 2] SET REBALANCE PERIOD\n",
      "2020-01-21 10:53:31,322 - EMSS - INFO - [STEP 2] SET REBALANCE PERIOD\n",
      "2020-01-21 10:53:31,322 - EMSS - INFO - [STEP 2] SET REBALANCE PERIOD\n"
     ]
    }
   ],
   "source": [
    "emss = EMSS(strategy_name=\"EMSS\", asset_type=\"EMERGING\")\n",
    "emss.load_index_and_return(from_db=True, save_file=True)\n",
    "emss.set_rebalance_period(ts_freq='month', cs_freq='month')  # rebalance_day: monday = 0, sunday = 6"
   ]
  },
  {
   "cell_type": "code",
   "execution_count": 59,
   "metadata": {},
   "outputs": [],
   "source": [
    "# emss.index = EMindex\n",
    "# emss.ret = EMRet"
   ]
  },
  {
   "cell_type": "code",
   "execution_count": 60,
   "metadata": {},
   "outputs": [],
   "source": [
    "CS=0.35\n",
    "short=0.2\n",
    "day1=24\n",
    "fundwgt=1\n",
    "statwgt=1"
   ]
  },
  {
   "cell_type": "code",
   "execution_count": 61,
   "metadata": {},
   "outputs": [],
   "source": [
    "group_1 = ['CN', 'KR', 'TW', 'IN']\n",
    "group_2 = ['MY', 'BR', 'MX', 'RU', 'SA']\n",
    "\n",
    "for type in range(2):\n",
    "    if type == 0:\n",
    "        RET = emss.ret.loc[:, group_1]\n",
    "        index = emss.index.loc[:, RET.columns]\n",
    "    else:\n",
    "        RET = emss.ret.loc[:, group_2]\n",
    "        index = emss.index.loc[:, RET.columns]\n",
    "    Ret = RET\n",
    "\n",
    "    TOM = (RET.index + pd.tseries.offsets.BDay(1)).day\n",
    "    TOM2 = pd.DataFrame([-short] * len(TOM), index=Ret.index)\n",
    "    TOM2[TOM >= day1] = 1\n",
    "    SIG = Ret * 0 + 1\n",
    "    SIG = pd.DataFrame(SIG.values * TOM2.values, index=TOM2.index, columns=Ret.columns)\n",
    "    TSRV1 = SIG * fundwgt\n",
    "\n",
    "    short = 0\n",
    "    CSRV = index * 0\n",
    "\n",
    "    statday = (Ret.index + pd.tseries.offsets.DateOffset(months=1)).strftime('%Y-%m').unique()\n",
    "    bible_idx = statday[36 - short:len(statday) - short]\n",
    "    bible_ls = []\n",
    "\n",
    "    for i in range(len(bible_idx)):\n",
    "        ave = np.mean(Ret[(Ret.index < bible_idx[i]) & (Ret.index >= statday[i]) & (\n",
    "                    Ret.index.month != pd.to_datetime(bible_idx[i]).month)], axis=0)\n",
    "        ave = ave.iloc[:len(index.columns)]\n",
    "        bible_temp = np.mean(Ret[(Ret.index < bible_idx[i]) & (Ret.index >= statday[i]) & (\n",
    "                    Ret.index.month == pd.to_datetime(bible_idx[i]).month)], axis=0) / \\\n",
    "                     np.std(Ret[(Ret.index < bible_idx[i]) & (Ret.index >= statday[i]) & (\n",
    "                                 Ret.index.month == pd.to_datetime(bible_idx[i]).month)], axis=0)\n",
    "        bible_ls.append(bible_temp.iloc[:len(index.columns)])\n",
    "\n",
    "    bible = pd.DataFrame(bible_ls, index=bible_idx)\n",
    "    RV1 = bible.iloc[:, :len(index.columns)]\n",
    "\n",
    "    truecount = np.round(RV1.notnull().sum(axis=1)*CS)\n",
    "    truecount = np.transpose(np.tile(truecount, (len(RV1.columns), 1)))\n",
    "\n",
    "    bibleRV = RV1.rank(axis=1, method='first')\n",
    "    bibleRV1 = -1* bibleRV.sub(RV1.count(axis=1), axis=0) +1\n",
    "    bibleRVpos = bibleRV * 0\n",
    "    bibleRVpos[bibleRV <= truecount] = -1\n",
    "    bibleRVpos[bibleRV1 <= truecount] = 1\n",
    "\n",
    "    for i in range(len(bible)):\n",
    "        CSRV_ym = (pd.to_datetime(bible_idx[i]) - pd.tseries.offsets.DateOffset(months=1)).strftime('%Y-%m')\n",
    "        CSRV_range = CSRV[CSRV.index.strftime('%Y-%m') == CSRV_ym]\n",
    "        CSRV[CSRV.index.strftime('%Y-%m') == CSRV_ym] = np.tile(bibleRVpos.iloc[i].values * statwgt, (CSRV_range.shape[0], 1))\n",
    "\n",
    "    bibleTS1 = bible\n",
    "    bibleTS = bibleTS1 * 0\n",
    "    bibleTS[bibleTS1 < (-0.5)] = -1\n",
    "    bibleTS[bibleTS1 > (0.5)] = 1\n",
    "    TSRV = CSRV * 0\n",
    "\n",
    "    for i in range(len(bible)):\n",
    "        TSRV_ym = (pd.to_datetime(bible_idx[i])).strftime('%Y-%m')\n",
    "        TSRV_range = TSRV[TSRV.index.strftime('%Y-%m') == TSRV_ym]\n",
    "        TSRV[TSRV.index.strftime('%Y-%m') == TSRV_ym] = [bibleTS.iloc[i, :]] * TSRV_range.shape[0]\n",
    "\n",
    "    AAA = [x for x in TSRV1 if x in TSRV]\n",
    "    TSRV1 = TSRV1.loc[:, AAA]\n",
    "    TSRV = TSRV.loc[:, AAA]\n",
    "\n",
    "    TSRV = TSRV1 * 1 + TSRV * 0\n",
    "\n",
    "    if type == 0:\n",
    "        TSRVrun1 = TSRV\n",
    "        CSRVrun1 = CSRV\n",
    "    else:\n",
    "        TSRVrun2 = TSRV\n",
    "        CSRVrun2 = CSRV"
   ]
  },
  {
   "cell_type": "code",
   "execution_count": 62,
   "metadata": {},
   "outputs": [
    {
     "data": {
      "text/plain": [
       "'2019-12'"
      ]
     },
     "execution_count": 62,
     "metadata": {},
     "output_type": "execute_result"
    }
   ],
   "source": [
    "TSRV_ym"
   ]
  },
  {
   "cell_type": "code",
   "execution_count": 63,
   "metadata": {},
   "outputs": [
    {
     "data": {
      "text/html": [
       "<div>\n",
       "<style scoped>\n",
       "    .dataframe tbody tr th:only-of-type {\n",
       "        vertical-align: middle;\n",
       "    }\n",
       "\n",
       "    .dataframe tbody tr th {\n",
       "        vertical-align: top;\n",
       "    }\n",
       "\n",
       "    .dataframe thead th {\n",
       "        text-align: right;\n",
       "    }\n",
       "</style>\n",
       "<table border=\"1\" class=\"dataframe\">\n",
       "  <thead>\n",
       "    <tr style=\"text-align: right;\">\n",
       "      <th>ticker</th>\n",
       "      <th>MY</th>\n",
       "      <th>BR</th>\n",
       "      <th>MX</th>\n",
       "      <th>RU</th>\n",
       "      <th>SA</th>\n",
       "    </tr>\n",
       "    <tr>\n",
       "      <th>tdate</th>\n",
       "      <th></th>\n",
       "      <th></th>\n",
       "      <th></th>\n",
       "      <th></th>\n",
       "      <th></th>\n",
       "    </tr>\n",
       "  </thead>\n",
       "  <tbody>\n",
       "    <tr>\n",
       "      <td>2019-11-19</td>\n",
       "      <td>0.0</td>\n",
       "      <td>0.0</td>\n",
       "      <td>0.0</td>\n",
       "      <td>0.0</td>\n",
       "      <td>0.0</td>\n",
       "    </tr>\n",
       "    <tr>\n",
       "      <td>2019-11-20</td>\n",
       "      <td>0.0</td>\n",
       "      <td>0.0</td>\n",
       "      <td>0.0</td>\n",
       "      <td>0.0</td>\n",
       "      <td>0.0</td>\n",
       "    </tr>\n",
       "    <tr>\n",
       "      <td>2019-11-21</td>\n",
       "      <td>0.0</td>\n",
       "      <td>0.0</td>\n",
       "      <td>0.0</td>\n",
       "      <td>0.0</td>\n",
       "      <td>0.0</td>\n",
       "    </tr>\n",
       "    <tr>\n",
       "      <td>2019-11-22</td>\n",
       "      <td>1.0</td>\n",
       "      <td>1.0</td>\n",
       "      <td>1.0</td>\n",
       "      <td>1.0</td>\n",
       "      <td>1.0</td>\n",
       "    </tr>\n",
       "    <tr>\n",
       "      <td>2019-11-25</td>\n",
       "      <td>1.0</td>\n",
       "      <td>1.0</td>\n",
       "      <td>1.0</td>\n",
       "      <td>1.0</td>\n",
       "      <td>1.0</td>\n",
       "    </tr>\n",
       "  </tbody>\n",
       "</table>\n",
       "</div>"
      ],
      "text/plain": [
       "ticker       MY   BR   MX   RU   SA\n",
       "tdate                              \n",
       "2019-11-19  0.0  0.0  0.0  0.0  0.0\n",
       "2019-11-20  0.0  0.0  0.0  0.0  0.0\n",
       "2019-11-21  0.0  0.0  0.0  0.0  0.0\n",
       "2019-11-22  1.0  1.0  1.0  1.0  1.0\n",
       "2019-11-25  1.0  1.0  1.0  1.0  1.0"
      ]
     },
     "execution_count": 63,
     "metadata": {},
     "output_type": "execute_result"
    }
   ],
   "source": [
    "TSRV.tail()"
   ]
  },
  {
   "cell_type": "code",
   "execution_count": 64,
   "metadata": {},
   "outputs": [
    {
     "data": {
      "text/html": [
       "<div>\n",
       "<style scoped>\n",
       "    .dataframe tbody tr th:only-of-type {\n",
       "        vertical-align: middle;\n",
       "    }\n",
       "\n",
       "    .dataframe tbody tr th {\n",
       "        vertical-align: top;\n",
       "    }\n",
       "\n",
       "    .dataframe thead th {\n",
       "        text-align: right;\n",
       "    }\n",
       "</style>\n",
       "<table border=\"1\" class=\"dataframe\">\n",
       "  <thead>\n",
       "    <tr style=\"text-align: right;\">\n",
       "      <th>ticker</th>\n",
       "      <th>MY</th>\n",
       "      <th>BR</th>\n",
       "      <th>MX</th>\n",
       "      <th>RU</th>\n",
       "      <th>SA</th>\n",
       "    </tr>\n",
       "    <tr>\n",
       "      <th>tdate</th>\n",
       "      <th></th>\n",
       "      <th></th>\n",
       "      <th></th>\n",
       "      <th></th>\n",
       "      <th></th>\n",
       "    </tr>\n",
       "  </thead>\n",
       "  <tbody>\n",
       "    <tr>\n",
       "      <td>2019-11-19</td>\n",
       "      <td>1.0</td>\n",
       "      <td>-1.0</td>\n",
       "      <td>1.0</td>\n",
       "      <td>-1.0</td>\n",
       "      <td>0.0</td>\n",
       "    </tr>\n",
       "    <tr>\n",
       "      <td>2019-11-20</td>\n",
       "      <td>1.0</td>\n",
       "      <td>-1.0</td>\n",
       "      <td>1.0</td>\n",
       "      <td>-1.0</td>\n",
       "      <td>0.0</td>\n",
       "    </tr>\n",
       "    <tr>\n",
       "      <td>2019-11-21</td>\n",
       "      <td>1.0</td>\n",
       "      <td>-1.0</td>\n",
       "      <td>1.0</td>\n",
       "      <td>-1.0</td>\n",
       "      <td>0.0</td>\n",
       "    </tr>\n",
       "    <tr>\n",
       "      <td>2019-11-22</td>\n",
       "      <td>1.0</td>\n",
       "      <td>-1.0</td>\n",
       "      <td>1.0</td>\n",
       "      <td>-1.0</td>\n",
       "      <td>0.0</td>\n",
       "    </tr>\n",
       "    <tr>\n",
       "      <td>2019-11-25</td>\n",
       "      <td>1.0</td>\n",
       "      <td>-1.0</td>\n",
       "      <td>1.0</td>\n",
       "      <td>-1.0</td>\n",
       "      <td>0.0</td>\n",
       "    </tr>\n",
       "  </tbody>\n",
       "</table>\n",
       "</div>"
      ],
      "text/plain": [
       "ticker       MY   BR   MX   RU   SA\n",
       "tdate                              \n",
       "2019-11-19  1.0 -1.0  1.0 -1.0  0.0\n",
       "2019-11-20  1.0 -1.0  1.0 -1.0  0.0\n",
       "2019-11-21  1.0 -1.0  1.0 -1.0  0.0\n",
       "2019-11-22  1.0 -1.0  1.0 -1.0  0.0\n",
       "2019-11-25  1.0 -1.0  1.0 -1.0  0.0"
      ]
     },
     "execution_count": 64,
     "metadata": {},
     "output_type": "execute_result"
    }
   ],
   "source": [
    "CSRV.tail()"
   ]
  },
  {
   "cell_type": "code",
   "execution_count": null,
   "metadata": {},
   "outputs": [],
   "source": []
  },
  {
   "cell_type": "code",
   "execution_count": null,
   "metadata": {},
   "outputs": [],
   "source": []
  },
  {
   "cell_type": "code",
   "execution_count": null,
   "metadata": {},
   "outputs": [],
   "source": []
  },
  {
   "cell_type": "code",
   "execution_count": null,
   "metadata": {},
   "outputs": [],
   "source": []
  },
  {
   "cell_type": "code",
   "execution_count": null,
   "metadata": {},
   "outputs": [],
   "source": []
  },
  {
   "cell_type": "code",
   "execution_count": null,
   "metadata": {},
   "outputs": [],
   "source": []
  },
  {
   "cell_type": "code",
   "execution_count": null,
   "metadata": {},
   "outputs": [],
   "source": []
  },
  {
   "cell_type": "code",
   "execution_count": null,
   "metadata": {},
   "outputs": [],
   "source": []
  },
  {
   "cell_type": "code",
   "execution_count": null,
   "metadata": {},
   "outputs": [],
   "source": []
  },
  {
   "cell_type": "code",
   "execution_count": 25,
   "metadata": {},
   "outputs": [
    {
     "data": {
      "text/plain": [
       "'2019-11'"
      ]
     },
     "execution_count": 25,
     "metadata": {},
     "output_type": "execute_result"
    }
   ],
   "source": [
    "bible_idx[-2]"
   ]
  },
  {
   "cell_type": "code",
   "execution_count": 21,
   "metadata": {},
   "outputs": [
    {
     "data": {
      "text/plain": [
       "'2019-11'"
      ]
     },
     "execution_count": 21,
     "metadata": {},
     "output_type": "execute_result"
    }
   ],
   "source": [
    "CSRV_ym"
   ]
  },
  {
   "cell_type": "code",
   "execution_count": 15,
   "metadata": {},
   "outputs": [
    {
     "data": {
      "text/plain": [
       "'2019-12'"
      ]
     },
     "execution_count": 15,
     "metadata": {},
     "output_type": "execute_result"
    }
   ],
   "source": [
    "TSRV_ym"
   ]
  },
  {
   "cell_type": "code",
   "execution_count": 16,
   "metadata": {},
   "outputs": [
    {
     "data": {
      "text/html": [
       "<div>\n",
       "<style scoped>\n",
       "    .dataframe tbody tr th:only-of-type {\n",
       "        vertical-align: middle;\n",
       "    }\n",
       "\n",
       "    .dataframe tbody tr th {\n",
       "        vertical-align: top;\n",
       "    }\n",
       "\n",
       "    .dataframe thead th {\n",
       "        text-align: right;\n",
       "    }\n",
       "</style>\n",
       "<table border=\"1\" class=\"dataframe\">\n",
       "  <thead>\n",
       "    <tr style=\"text-align: right;\">\n",
       "      <th>ticker</th>\n",
       "      <th>MY</th>\n",
       "      <th>ID</th>\n",
       "      <th>BR</th>\n",
       "      <th>MX</th>\n",
       "      <th>RU</th>\n",
       "      <th>SA</th>\n",
       "    </tr>\n",
       "    <tr>\n",
       "      <th>tdate</th>\n",
       "      <th></th>\n",
       "      <th></th>\n",
       "      <th></th>\n",
       "      <th></th>\n",
       "      <th></th>\n",
       "      <th></th>\n",
       "    </tr>\n",
       "  </thead>\n",
       "  <tbody>\n",
       "  </tbody>\n",
       "</table>\n",
       "</div>"
      ],
      "text/plain": [
       "Empty DataFrame\n",
       "Columns: [MY, ID, BR, MX, RU, SA]\n",
       "Index: []"
      ]
     },
     "execution_count": 16,
     "metadata": {},
     "output_type": "execute_result"
    }
   ],
   "source": [
    "TSRV_range"
   ]
  },
  {
   "cell_type": "code",
   "execution_count": 17,
   "metadata": {},
   "outputs": [
    {
     "data": {
      "text/html": [
       "<div>\n",
       "<style scoped>\n",
       "    .dataframe tbody tr th:only-of-type {\n",
       "        vertical-align: middle;\n",
       "    }\n",
       "\n",
       "    .dataframe tbody tr th {\n",
       "        vertical-align: top;\n",
       "    }\n",
       "\n",
       "    .dataframe thead th {\n",
       "        text-align: right;\n",
       "    }\n",
       "</style>\n",
       "<table border=\"1\" class=\"dataframe\">\n",
       "  <thead>\n",
       "    <tr style=\"text-align: right;\">\n",
       "      <th>ticker</th>\n",
       "      <th>MY</th>\n",
       "      <th>ID</th>\n",
       "      <th>BR</th>\n",
       "      <th>MX</th>\n",
       "      <th>RU</th>\n",
       "      <th>SA</th>\n",
       "    </tr>\n",
       "    <tr>\n",
       "      <th>tdate</th>\n",
       "      <th></th>\n",
       "      <th></th>\n",
       "      <th></th>\n",
       "      <th></th>\n",
       "      <th></th>\n",
       "      <th></th>\n",
       "    </tr>\n",
       "  </thead>\n",
       "  <tbody>\n",
       "    <tr>\n",
       "      <td>2019-11-19</td>\n",
       "      <td>-0.0</td>\n",
       "      <td>NaN</td>\n",
       "      <td>-0.0</td>\n",
       "      <td>-0.0</td>\n",
       "      <td>0.0</td>\n",
       "      <td>-0.0</td>\n",
       "    </tr>\n",
       "    <tr>\n",
       "      <td>2019-11-20</td>\n",
       "      <td>-0.0</td>\n",
       "      <td>NaN</td>\n",
       "      <td>-0.0</td>\n",
       "      <td>-0.0</td>\n",
       "      <td>0.0</td>\n",
       "      <td>-0.0</td>\n",
       "    </tr>\n",
       "    <tr>\n",
       "      <td>2019-11-21</td>\n",
       "      <td>-0.0</td>\n",
       "      <td>NaN</td>\n",
       "      <td>-0.0</td>\n",
       "      <td>-0.0</td>\n",
       "      <td>0.0</td>\n",
       "      <td>-0.0</td>\n",
       "    </tr>\n",
       "    <tr>\n",
       "      <td>2019-11-22</td>\n",
       "      <td>-0.0</td>\n",
       "      <td>NaN</td>\n",
       "      <td>-0.0</td>\n",
       "      <td>-0.0</td>\n",
       "      <td>0.0</td>\n",
       "      <td>-0.0</td>\n",
       "    </tr>\n",
       "    <tr>\n",
       "      <td>2019-11-25</td>\n",
       "      <td>-0.0</td>\n",
       "      <td>NaN</td>\n",
       "      <td>-0.0</td>\n",
       "      <td>-0.0</td>\n",
       "      <td>0.0</td>\n",
       "      <td>-0.0</td>\n",
       "    </tr>\n",
       "  </tbody>\n",
       "</table>\n",
       "</div>"
      ],
      "text/plain": [
       "ticker       MY  ID   BR   MX   RU   SA\n",
       "tdate                                  \n",
       "2019-11-19 -0.0 NaN -0.0 -0.0  0.0 -0.0\n",
       "2019-11-20 -0.0 NaN -0.0 -0.0  0.0 -0.0\n",
       "2019-11-21 -0.0 NaN -0.0 -0.0  0.0 -0.0\n",
       "2019-11-22 -0.0 NaN -0.0 -0.0  0.0 -0.0\n",
       "2019-11-25 -0.0 NaN -0.0 -0.0  0.0 -0.0"
      ]
     },
     "execution_count": 17,
     "metadata": {},
     "output_type": "execute_result"
    }
   ],
   "source": [
    "TSRV.tail()"
   ]
  },
  {
   "cell_type": "code",
   "execution_count": null,
   "metadata": {},
   "outputs": [],
   "source": []
  },
  {
   "cell_type": "code",
   "execution_count": null,
   "metadata": {},
   "outputs": [],
   "source": [
    "\n",
    "TSRV = pd.concat([TSRVrun1, TSRVrun2], axis=1)\n",
    "CSRV = pd.concat([CSRVrun1, CSRVrun2], axis=1)\n",
    "\n",
    "TSRV = TSRV[emss.ret.columns]\n",
    "CSRV = CSRV[emss.ret.columns]\n",
    "\n",
    "emss.TSRV = TSRV.loc[emss.ret.index].fillna(method='ffill').dropna(how='all').fillna(0) # add fillna(0) for 'ID'\n",
    "emss.CSRV = CSRV.loc[emss.ret.index].fillna(method='ffill').dropna(how='all').fillna(0) # add fillna(0) for 'ID'\n",
    "\n",
    "# Align dates with each other\n",
    "if emss.TSRV.index[0] > emss.CSRV.index[0]:\n",
    "    emss.CSRV = emss.CSRV.loc[emss.TSRV.index[0]:]\n",
    "else:\n",
    "    emss.TSRV = emss.TSRV.loc[emss.CSRV.index[0]:]"
   ]
  },
  {
   "cell_type": "code",
   "execution_count": null,
   "metadata": {},
   "outputs": [],
   "source": []
  },
  {
   "cell_type": "code",
   "execution_count": null,
   "metadata": {},
   "outputs": [],
   "source": [
    "emss.calculate_signal(CS=0.35, short=0.2, day1=24, fundwgt=1, statwgt=1)\n",
    "emss.set_portfolio_parameter(cs_strategy_type=\"notional\")\n",
    "emss.make_portfolio()"
   ]
  },
  {
   "cell_type": "code",
   "execution_count": null,
   "metadata": {},
   "outputs": [],
   "source": []
  },
  {
   "cell_type": "code",
   "execution_count": null,
   "metadata": {},
   "outputs": [],
   "source": []
  },
  {
   "cell_type": "code",
   "execution_count": null,
   "metadata": {},
   "outputs": [],
   "source": []
  },
  {
   "cell_type": "code",
   "execution_count": null,
   "metadata": {},
   "outputs": [],
   "source": []
  }
 ],
 "metadata": {
  "kernelspec": {
   "display_name": "Python 3",
   "language": "python",
   "name": "python3"
  },
  "language_info": {
   "codemirror_mode": {
    "name": "ipython",
    "version": 3
   },
   "file_extension": ".py",
   "mimetype": "text/x-python",
   "name": "python",
   "nbconvert_exporter": "python",
   "pygments_lexer": "ipython3",
   "version": "3.7.3"
  }
 },
 "nbformat": 4,
 "nbformat_minor": 2
}
