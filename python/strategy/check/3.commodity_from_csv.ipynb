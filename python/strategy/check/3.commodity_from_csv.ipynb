{
 "cells": [
  {
   "cell_type": "code",
   "execution_count": 1,
   "metadata": {},
   "outputs": [
    {
     "name": "stderr",
     "output_type": "stream",
     "text": [
      "C:\\ProgramData\\Anaconda3\\lib\\site-packages\\statsmodels\\tools\\_testing.py:19: FutureWarning: pandas.util.testing is deprecated. Use the functions in the public API at pandas.testing instead.\n",
      "  import pandas.util.testing as tm\n"
     ]
    },
    {
     "data": {
      "text/html": [
       "        <script type=\"text/javascript\">\n",
       "        window.PlotlyConfig = {MathJaxConfig: 'local'};\n",
       "        if (window.MathJax) {MathJax.Hub.Config({SVG: {font: \"STIX-Web\"}});}\n",
       "        if (typeof require !== 'undefined') {\n",
       "        require.undef(\"plotly\");\n",
       "        requirejs.config({\n",
       "            paths: {\n",
       "                'plotly': ['https://cdn.plot.ly/plotly-latest.min']\n",
       "            }\n",
       "        });\n",
       "        require(['plotly'], function(Plotly) {\n",
       "            window._Plotly = Plotly;\n",
       "        });\n",
       "        }\n",
       "        </script>\n",
       "        "
      ]
     },
     "metadata": {},
     "output_type": "display_data"
    },
    {
     "data": {
      "text/html": [
       "        <script type=\"text/javascript\">\n",
       "        window.PlotlyConfig = {MathJaxConfig: 'local'};\n",
       "        if (window.MathJax) {MathJax.Hub.Config({SVG: {font: \"STIX-Web\"}});}\n",
       "        if (typeof require !== 'undefined') {\n",
       "        require.undef(\"plotly\");\n",
       "        requirejs.config({\n",
       "            paths: {\n",
       "                'plotly': ['https://cdn.plot.ly/plotly-latest.min']\n",
       "            }\n",
       "        });\n",
       "        require(['plotly'], function(Plotly) {\n",
       "            window._Plotly = Plotly;\n",
       "        });\n",
       "        }\n",
       "        </script>\n",
       "        "
      ]
     },
     "metadata": {},
     "output_type": "display_data"
    }
   ],
   "source": [
    "import os\n",
    "import sys\n",
    "import numpy as np\n",
    "import pandas as pd\n",
    "pd.set_option('display.max_columns', 50)\n",
    "\n",
    "from matplotlib import pyplot as plt\n",
    "import seaborn as sns\n",
    "%matplotlib inline\n",
    "\n",
    "import plotly\n",
    "import plotly.graph_objs as go\n",
    "import cufflinks as cf\n",
    "cf.set_config_file(offline=True)"
   ]
  },
  {
   "cell_type": "code",
   "execution_count": 2,
   "metadata": {},
   "outputs": [
    {
     "data": {
      "text/html": [
       "        <script type=\"text/javascript\">\n",
       "        window.PlotlyConfig = {MathJaxConfig: 'local'};\n",
       "        if (window.MathJax) {MathJax.Hub.Config({SVG: {font: \"STIX-Web\"}});}\n",
       "        if (typeof require !== 'undefined') {\n",
       "        require.undef(\"plotly\");\n",
       "        requirejs.config({\n",
       "            paths: {\n",
       "                'plotly': ['https://cdn.plot.ly/plotly-latest.min']\n",
       "            }\n",
       "        });\n",
       "        require(['plotly'], function(Plotly) {\n",
       "            window._Plotly = Plotly;\n",
       "        });\n",
       "        }\n",
       "        </script>\n",
       "        "
      ]
     },
     "metadata": {},
     "output_type": "display_data"
    }
   ],
   "source": [
    "import os\n",
    "import sys\n",
    "import numpy as np\n",
    "import pandas as pd\n",
    "pd.set_option('display.max_columns', 50)\n",
    "\n",
    "from matplotlib import pyplot as plt\n",
    "import seaborn as sns\n",
    "%matplotlib inline\n",
    "\n",
    "import plotly\n",
    "import plotly.graph_objs as go\n",
    "import cufflinks as cf\n",
    "cf.set_config_file(offline=True)"
   ]
  },
  {
   "cell_type": "code",
   "execution_count": 3,
   "metadata": {},
   "outputs": [],
   "source": [
    "base_path = os.path.abspath('../..')\n",
    "data_path = os.path.join(base_path, 'data')\n",
    "database_path = os.path.join(data_path, 'database')\n",
    "data_path = os.path.join(base_path, 'data')\n",
    "\n",
    "strategy_path = os.path.join(base_path, 'strategy')\n",
    "check_path = os.path.join(strategy_path, 'check')\n",
    "r_signal_path = os.path.join(check_path, 'signal')\n",
    "sys.path.append(strategy_path)"
   ]
  },
  {
   "cell_type": "code",
   "execution_count": 4,
   "metadata": {},
   "outputs": [],
   "source": [
    "from strategy import CommodityStrategy, EquityStrategy, IRStrategy, EmergingStrategy\n",
    "from tester import Tester"
   ]
  },
  {
   "cell_type": "code",
   "execution_count": 5,
   "metadata": {},
   "outputs": [],
   "source": [
    "from CPM import CPM\n",
    "from CVA import CVA\n",
    "from CVA2 import CVA2\n",
    "from CSS import CSS\n",
    "from CVO import CVO\n",
    "from CCA3 import CCA3\n",
    "from CVA3 import CVA3"
   ]
  },
  {
   "cell_type": "code",
   "execution_count": 6,
   "metadata": {},
   "outputs": [
    {
     "ename": "FileNotFoundError",
     "evalue": "[Errno 2] No such file or directory: 'C:\\\\Users\\\\jungyoon.choi\\\\Desktop\\\\jungyoon\\\\project\\\\risk_premia\\\\python\\\\data\\\\fut1return-com.CSV'",
     "output_type": "error",
     "traceback": [
      "\u001b[1;31m---------------------------------------------------------------------------\u001b[0m",
      "\u001b[1;31mFileNotFoundError\u001b[0m                         Traceback (most recent call last)",
      "\u001b[1;32m<ipython-input-6-f4e03241dbb3>\u001b[0m in \u001b[0;36m<module>\u001b[1;34m\u001b[0m\n\u001b[0;32m      3\u001b[0m \u001b[0mcindex2_path\u001b[0m \u001b[1;33m=\u001b[0m \u001b[0mos\u001b[0m\u001b[1;33m.\u001b[0m\u001b[0mpath\u001b[0m\u001b[1;33m.\u001b[0m\u001b[0mjoin\u001b[0m\u001b[1;33m(\u001b[0m\u001b[0mdata_path\u001b[0m\u001b[1;33m,\u001b[0m \u001b[1;34m'BCOM.csv'\u001b[0m\u001b[1;33m)\u001b[0m\u001b[1;33m\u001b[0m\u001b[1;33m\u001b[0m\u001b[0m\n\u001b[0;32m      4\u001b[0m \u001b[1;33m\u001b[0m\u001b[0m\n\u001b[1;32m----> 5\u001b[1;33m \u001b[0mcindex\u001b[0m \u001b[1;33m=\u001b[0m \u001b[0mpd\u001b[0m\u001b[1;33m.\u001b[0m\u001b[0mread_csv\u001b[0m\u001b[1;33m(\u001b[0m\u001b[0mcindex_path\u001b[0m\u001b[1;33m,\u001b[0m \u001b[0mheader\u001b[0m\u001b[1;33m=\u001b[0m\u001b[1;36m0\u001b[0m\u001b[1;33m,\u001b[0m \u001b[0mindex_col\u001b[0m\u001b[1;33m=\u001b[0m\u001b[1;36m0\u001b[0m\u001b[1;33m,\u001b[0m \u001b[0mparse_dates\u001b[0m\u001b[1;33m=\u001b[0m\u001b[1;32mTrue\u001b[0m\u001b[1;33m)\u001b[0m\u001b[1;33m\u001b[0m\u001b[1;33m\u001b[0m\u001b[0m\n\u001b[0m\u001b[0;32m      6\u001b[0m \u001b[0mcindex2\u001b[0m \u001b[1;33m=\u001b[0m \u001b[0mpd\u001b[0m\u001b[1;33m.\u001b[0m\u001b[0mread_csv\u001b[0m\u001b[1;33m(\u001b[0m\u001b[0mcindex2_path\u001b[0m\u001b[1;33m,\u001b[0m \u001b[0mheader\u001b[0m\u001b[1;33m=\u001b[0m\u001b[1;36m0\u001b[0m\u001b[1;33m,\u001b[0m \u001b[0mindex_col\u001b[0m\u001b[1;33m=\u001b[0m\u001b[1;36m0\u001b[0m\u001b[1;33m,\u001b[0m \u001b[0mparse_dates\u001b[0m\u001b[1;33m=\u001b[0m\u001b[1;32mTrue\u001b[0m\u001b[1;33m)\u001b[0m\u001b[1;33m\u001b[0m\u001b[1;33m\u001b[0m\u001b[0m\n\u001b[0;32m      7\u001b[0m \u001b[1;33m\u001b[0m\u001b[0m\n",
      "\u001b[1;32mC:\\ProgramData\\Anaconda3\\lib\\site-packages\\pandas\\io\\parsers.py\u001b[0m in \u001b[0;36mread_csv\u001b[1;34m(filepath_or_buffer, sep, delimiter, header, names, index_col, usecols, squeeze, prefix, mangle_dupe_cols, dtype, engine, converters, true_values, false_values, skipinitialspace, skiprows, skipfooter, nrows, na_values, keep_default_na, na_filter, verbose, skip_blank_lines, parse_dates, infer_datetime_format, keep_date_col, date_parser, dayfirst, cache_dates, iterator, chunksize, compression, thousands, decimal, lineterminator, quotechar, quoting, doublequote, escapechar, comment, encoding, dialect, error_bad_lines, warn_bad_lines, delim_whitespace, low_memory, memory_map, float_precision)\u001b[0m\n\u001b[0;32m    684\u001b[0m     )\n\u001b[0;32m    685\u001b[0m \u001b[1;33m\u001b[0m\u001b[0m\n\u001b[1;32m--> 686\u001b[1;33m     \u001b[1;32mreturn\u001b[0m \u001b[0m_read\u001b[0m\u001b[1;33m(\u001b[0m\u001b[0mfilepath_or_buffer\u001b[0m\u001b[1;33m,\u001b[0m \u001b[0mkwds\u001b[0m\u001b[1;33m)\u001b[0m\u001b[1;33m\u001b[0m\u001b[1;33m\u001b[0m\u001b[0m\n\u001b[0m\u001b[0;32m    687\u001b[0m \u001b[1;33m\u001b[0m\u001b[0m\n\u001b[0;32m    688\u001b[0m \u001b[1;33m\u001b[0m\u001b[0m\n",
      "\u001b[1;32mC:\\ProgramData\\Anaconda3\\lib\\site-packages\\pandas\\io\\parsers.py\u001b[0m in \u001b[0;36m_read\u001b[1;34m(filepath_or_buffer, kwds)\u001b[0m\n\u001b[0;32m    450\u001b[0m \u001b[1;33m\u001b[0m\u001b[0m\n\u001b[0;32m    451\u001b[0m     \u001b[1;31m# Create the parser.\u001b[0m\u001b[1;33m\u001b[0m\u001b[1;33m\u001b[0m\u001b[1;33m\u001b[0m\u001b[0m\n\u001b[1;32m--> 452\u001b[1;33m     \u001b[0mparser\u001b[0m \u001b[1;33m=\u001b[0m \u001b[0mTextFileReader\u001b[0m\u001b[1;33m(\u001b[0m\u001b[0mfp_or_buf\u001b[0m\u001b[1;33m,\u001b[0m \u001b[1;33m**\u001b[0m\u001b[0mkwds\u001b[0m\u001b[1;33m)\u001b[0m\u001b[1;33m\u001b[0m\u001b[1;33m\u001b[0m\u001b[0m\n\u001b[0m\u001b[0;32m    453\u001b[0m \u001b[1;33m\u001b[0m\u001b[0m\n\u001b[0;32m    454\u001b[0m     \u001b[1;32mif\u001b[0m \u001b[0mchunksize\u001b[0m \u001b[1;32mor\u001b[0m \u001b[0miterator\u001b[0m\u001b[1;33m:\u001b[0m\u001b[1;33m\u001b[0m\u001b[1;33m\u001b[0m\u001b[0m\n",
      "\u001b[1;32mC:\\ProgramData\\Anaconda3\\lib\\site-packages\\pandas\\io\\parsers.py\u001b[0m in \u001b[0;36m__init__\u001b[1;34m(self, f, engine, **kwds)\u001b[0m\n\u001b[0;32m    934\u001b[0m             \u001b[0mself\u001b[0m\u001b[1;33m.\u001b[0m\u001b[0moptions\u001b[0m\u001b[1;33m[\u001b[0m\u001b[1;34m\"has_index_names\"\u001b[0m\u001b[1;33m]\u001b[0m \u001b[1;33m=\u001b[0m \u001b[0mkwds\u001b[0m\u001b[1;33m[\u001b[0m\u001b[1;34m\"has_index_names\"\u001b[0m\u001b[1;33m]\u001b[0m\u001b[1;33m\u001b[0m\u001b[1;33m\u001b[0m\u001b[0m\n\u001b[0;32m    935\u001b[0m \u001b[1;33m\u001b[0m\u001b[0m\n\u001b[1;32m--> 936\u001b[1;33m         \u001b[0mself\u001b[0m\u001b[1;33m.\u001b[0m\u001b[0m_make_engine\u001b[0m\u001b[1;33m(\u001b[0m\u001b[0mself\u001b[0m\u001b[1;33m.\u001b[0m\u001b[0mengine\u001b[0m\u001b[1;33m)\u001b[0m\u001b[1;33m\u001b[0m\u001b[1;33m\u001b[0m\u001b[0m\n\u001b[0m\u001b[0;32m    937\u001b[0m \u001b[1;33m\u001b[0m\u001b[0m\n\u001b[0;32m    938\u001b[0m     \u001b[1;32mdef\u001b[0m \u001b[0mclose\u001b[0m\u001b[1;33m(\u001b[0m\u001b[0mself\u001b[0m\u001b[1;33m)\u001b[0m\u001b[1;33m:\u001b[0m\u001b[1;33m\u001b[0m\u001b[1;33m\u001b[0m\u001b[0m\n",
      "\u001b[1;32mC:\\ProgramData\\Anaconda3\\lib\\site-packages\\pandas\\io\\parsers.py\u001b[0m in \u001b[0;36m_make_engine\u001b[1;34m(self, engine)\u001b[0m\n\u001b[0;32m   1166\u001b[0m     \u001b[1;32mdef\u001b[0m \u001b[0m_make_engine\u001b[0m\u001b[1;33m(\u001b[0m\u001b[0mself\u001b[0m\u001b[1;33m,\u001b[0m \u001b[0mengine\u001b[0m\u001b[1;33m=\u001b[0m\u001b[1;34m\"c\"\u001b[0m\u001b[1;33m)\u001b[0m\u001b[1;33m:\u001b[0m\u001b[1;33m\u001b[0m\u001b[1;33m\u001b[0m\u001b[0m\n\u001b[0;32m   1167\u001b[0m         \u001b[1;32mif\u001b[0m \u001b[0mengine\u001b[0m \u001b[1;33m==\u001b[0m \u001b[1;34m\"c\"\u001b[0m\u001b[1;33m:\u001b[0m\u001b[1;33m\u001b[0m\u001b[1;33m\u001b[0m\u001b[0m\n\u001b[1;32m-> 1168\u001b[1;33m             \u001b[0mself\u001b[0m\u001b[1;33m.\u001b[0m\u001b[0m_engine\u001b[0m \u001b[1;33m=\u001b[0m \u001b[0mCParserWrapper\u001b[0m\u001b[1;33m(\u001b[0m\u001b[0mself\u001b[0m\u001b[1;33m.\u001b[0m\u001b[0mf\u001b[0m\u001b[1;33m,\u001b[0m \u001b[1;33m**\u001b[0m\u001b[0mself\u001b[0m\u001b[1;33m.\u001b[0m\u001b[0moptions\u001b[0m\u001b[1;33m)\u001b[0m\u001b[1;33m\u001b[0m\u001b[1;33m\u001b[0m\u001b[0m\n\u001b[0m\u001b[0;32m   1169\u001b[0m         \u001b[1;32melse\u001b[0m\u001b[1;33m:\u001b[0m\u001b[1;33m\u001b[0m\u001b[1;33m\u001b[0m\u001b[0m\n\u001b[0;32m   1170\u001b[0m             \u001b[1;32mif\u001b[0m \u001b[0mengine\u001b[0m \u001b[1;33m==\u001b[0m \u001b[1;34m\"python\"\u001b[0m\u001b[1;33m:\u001b[0m\u001b[1;33m\u001b[0m\u001b[1;33m\u001b[0m\u001b[0m\n",
      "\u001b[1;32mC:\\ProgramData\\Anaconda3\\lib\\site-packages\\pandas\\io\\parsers.py\u001b[0m in \u001b[0;36m__init__\u001b[1;34m(self, src, **kwds)\u001b[0m\n\u001b[0;32m   1996\u001b[0m         \u001b[0mkwds\u001b[0m\u001b[1;33m[\u001b[0m\u001b[1;34m\"usecols\"\u001b[0m\u001b[1;33m]\u001b[0m \u001b[1;33m=\u001b[0m \u001b[0mself\u001b[0m\u001b[1;33m.\u001b[0m\u001b[0musecols\u001b[0m\u001b[1;33m\u001b[0m\u001b[1;33m\u001b[0m\u001b[0m\n\u001b[0;32m   1997\u001b[0m \u001b[1;33m\u001b[0m\u001b[0m\n\u001b[1;32m-> 1998\u001b[1;33m         \u001b[0mself\u001b[0m\u001b[1;33m.\u001b[0m\u001b[0m_reader\u001b[0m \u001b[1;33m=\u001b[0m \u001b[0mparsers\u001b[0m\u001b[1;33m.\u001b[0m\u001b[0mTextReader\u001b[0m\u001b[1;33m(\u001b[0m\u001b[0msrc\u001b[0m\u001b[1;33m,\u001b[0m \u001b[1;33m**\u001b[0m\u001b[0mkwds\u001b[0m\u001b[1;33m)\u001b[0m\u001b[1;33m\u001b[0m\u001b[1;33m\u001b[0m\u001b[0m\n\u001b[0m\u001b[0;32m   1999\u001b[0m         \u001b[0mself\u001b[0m\u001b[1;33m.\u001b[0m\u001b[0munnamed_cols\u001b[0m \u001b[1;33m=\u001b[0m \u001b[0mself\u001b[0m\u001b[1;33m.\u001b[0m\u001b[0m_reader\u001b[0m\u001b[1;33m.\u001b[0m\u001b[0munnamed_cols\u001b[0m\u001b[1;33m\u001b[0m\u001b[1;33m\u001b[0m\u001b[0m\n\u001b[0;32m   2000\u001b[0m \u001b[1;33m\u001b[0m\u001b[0m\n",
      "\u001b[1;32mpandas\\_libs\\parsers.pyx\u001b[0m in \u001b[0;36mpandas._libs.parsers.TextReader.__cinit__\u001b[1;34m()\u001b[0m\n",
      "\u001b[1;32mpandas\\_libs\\parsers.pyx\u001b[0m in \u001b[0;36mpandas._libs.parsers.TextReader._setup_parser_source\u001b[1;34m()\u001b[0m\n",
      "\u001b[1;31mFileNotFoundError\u001b[0m: [Errno 2] No such file or directory: 'C:\\\\Users\\\\jungyoon.choi\\\\Desktop\\\\jungyoon\\\\project\\\\risk_premia\\\\python\\\\data\\\\fut1return-com.CSV'"
     ]
    }
   ],
   "source": [
    "# Comdty data\n",
    "cindex_path = os.path.join(data_path, 'fut1return-com.CSV')\n",
    "cindex2_path = os.path.join(data_path, 'BCOM.csv')\n",
    "\n",
    "cindex = pd.read_csv(cindex_path, header=0, index_col=0, parse_dates=True)\n",
    "cindex2 = pd.read_csv(cindex2_path, header=0, index_col=0, parse_dates=True)\n",
    "\n",
    "CRet = cindex.pct_change(1).iloc[1:]\n",
    "CRet2 = cindex2.pct_change(1).iloc[1:]\n",
    "Cindex = (1. + CRet).cumprod()\n",
    "Cindex = Cindex / Cindex.iloc[0]\n"
   ]
  },
  {
   "cell_type": "markdown",
   "metadata": {},
   "source": [
    "# 1. CPM"
   ]
  },
  {
   "cell_type": "code",
   "execution_count": null,
   "metadata": {},
   "outputs": [],
   "source": [
    "cpm = CPM(strategy_name=\"CPM\", asset_type=\"COMMODITY\")\n",
    "# cpm.load_index_and_return(from_db=True, save_file=True)\n",
    "\n",
    "cpm.index = Cindex.copy()\n",
    "cpm.ret = CRet.copy()\n",
    "cpm.set_rebalance_period(ts_freq='week', cs_freq='week', rebalance_weekday=1)  # rebalance_day: monday = 0, sunday = 6 \n",
    "cpm.calculate_signal(CS=0.35, minobs=52, longlen=52, shortlen=17)\n",
    "cpm.set_portfolio_parameter(cs_strategy_type='vol')\n",
    "cpm.make_portfolio()"
   ]
  },
  {
   "cell_type": "code",
   "execution_count": null,
   "metadata": {},
   "outputs": [],
   "source": [
    "start_date = '2001-01-01'\n",
    "end_date = '2018-05-09'\n",
    "\n",
    "# get r results\n",
    "cpm_comp_df = pd.read_csv('./past/cpm.csv', header=0, index_col=0, parse_dates=True)\n",
    "cpm_lag_comp_df = pd.read_csv('./past/cpm_lag.csv', header=0, index_col=0, parse_dates=True)"
   ]
  },
  {
   "cell_type": "code",
   "execution_count": null,
   "metadata": {},
   "outputs": [],
   "source": [
    "tester = Tester(cpm)\n",
    "tester.set_period(start=start_date, end=end_date)\n",
    "tester.run(save_file=False)"
   ]
  },
  {
   "cell_type": "code",
   "execution_count": null,
   "metadata": {},
   "outputs": [],
   "source": [
    "to_plot = (1.+ cpm_lag_comp_df).loc[start_date:].cumprod()\n",
    "to_plot['TS_python'] = tester.strategy.TS_result\n",
    "to_plot['CS_python'] = tester.strategy.CS_result\n",
    "to_plot.iplot()"
   ]
  },
  {
   "cell_type": "markdown",
   "metadata": {},
   "source": [
    "# 2. CVA"
   ]
  },
  {
   "cell_type": "code",
   "execution_count": null,
   "metadata": {},
   "outputs": [],
   "source": [
    "strategy_name = 'CVA'\n",
    "cva = CVA(strategy_name=\"CVA\", asset_type=\"COMMODITY\")\n",
    "# cva.load_index_and_return(from_db=False, save_file=False)\n",
    "cva.index = Cindex.copy()\n",
    "cva.ret = CRet.copy()\n",
    "\n",
    "cva.set_rebalance_period(ts_freq='week', cs_freq='week', rebalance_weekday=1)  # rebalance_day: monday = 0, sunday = 6\n",
    "cva.calculate_signal(CS=0.35, nopos=0.6, lookback_period=63)\n",
    "##############  R SIGNAL 비교#############\n",
    "TSRV = cva.TSRV\n",
    "CSRV = cva.CSRV\n",
    "\n",
    "\n",
    "R_TSRV =  pd.read_csv(os.path.join(r_signal_path, f'{strategy_name}_TSRV.csv'),\n",
    "                      index_col = 'Unnamed: 0')\n",
    "\n",
    "(R_TSRV- TSRV).abs().sum(1).iplot(title = f\"{strategy_name}_TSRV\")\n",
    "\n",
    "R_CSRV =  pd.read_csv(os.path.join(r_signal_path, f'{strategy_name}_CSRV.csv'),\n",
    "                      index_col = 'Unnamed: 0')\n",
    "\n",
    "(R_CSRV- CSRV).abs().sum(1).iplot(title = f\"{strategy_name}_CSRV\")\n",
    "###################################\n",
    "cva.set_portfolio_parameter(cs_strategy_type='vol', min_vol=0.15)\n",
    "cva.make_portfolio()"
   ]
  },
  {
   "cell_type": "code",
   "execution_count": null,
   "metadata": {},
   "outputs": [],
   "source": [
    "start_date = '2001-01-01'\n",
    "end_date = '2018-05-09'\n",
    "\n",
    "# get r results\n",
    "cva_comp_df = pd.read_csv('./past/cva.csv', header=0, index_col=0, parse_dates=True)\n",
    "cva_lag_comp_df = pd.read_csv('./past/cva_lag.csv', header=0, index_col=0, parse_dates=True)"
   ]
  },
  {
   "cell_type": "code",
   "execution_count": null,
   "metadata": {},
   "outputs": [],
   "source": [
    "tester = Tester(cva)\n",
    "tester.set_period(start=start_date, end=end_date)\n",
    "tester.run(save_file=False)"
   ]
  },
  {
   "cell_type": "code",
   "execution_count": null,
   "metadata": {},
   "outputs": [],
   "source": [
    "to_plot = (1.+ cva_lag_comp_df).loc[start_date:].cumprod()\n",
    "to_plot['TS_python'] = tester.strategy.TS_result\n",
    "to_plot['CS_python'] = tester.strategy.CS_result\n",
    "to_plot.iplot()"
   ]
  },
  {
   "cell_type": "markdown",
   "metadata": {},
   "source": [
    "# 3. CVO"
   ]
  },
  {
   "cell_type": "code",
   "execution_count": null,
   "metadata": {},
   "outputs": [],
   "source": [
    "cvo = CVO(strategy_name=\"CVO\", asset_type=\"COMMODITY\")\n",
    "cvo.index = Cindex.copy()\n",
    "cvo.ret = CRet.copy()\n",
    "\n",
    "# cvo.load_index_and_return(from_db=False, save_file=False)\n",
    "cvo.set_rebalance_period(ts_freq='week', cs_freq='week', rebalance_weekday=1)  # rebalance_day: monday = 0, sunday = 6\n",
    "cvo.calculate_signal(CS=0.35, nopos=0.4, minobs=52)\n",
    "cvo.set_portfolio_parameter(cs_strategy_type='vol')\n",
    "cvo.make_portfolio()"
   ]
  },
  {
   "cell_type": "code",
   "execution_count": null,
   "metadata": {},
   "outputs": [],
   "source": [
    "start_date = '2001-01-01'\n",
    "end_date = '2018-05-09'\n",
    "\n",
    "# get r results\n",
    "cvo_comp_df = pd.read_csv('./past/cvo.csv', header=0, index_col=0, parse_dates=True)\n",
    "cvo_lag_comp_df = pd.read_csv('./past/cvo_lag.csv', header=0, index_col=0, parse_dates=True)"
   ]
  },
  {
   "cell_type": "code",
   "execution_count": null,
   "metadata": {},
   "outputs": [],
   "source": [
    "tester = Tester(cvo)\n",
    "tester.set_period(start=start_date, end=end_date)\n",
    "tester.run(save_file=False)"
   ]
  },
  {
   "cell_type": "code",
   "execution_count": null,
   "metadata": {},
   "outputs": [],
   "source": [
    "to_plot = (1.+ cvo_lag_comp_df).loc[start_date:].cumprod()\n",
    "to_plot['TS_python'] = tester.strategy.TS_result\n",
    "to_plot['CS_python'] = tester.strategy.CS_result\n",
    "to_plot.iplot()"
   ]
  },
  {
   "cell_type": "markdown",
   "metadata": {},
   "source": [
    "# 4. CCA3"
   ]
  },
  {
   "cell_type": "code",
   "execution_count": null,
   "metadata": {},
   "outputs": [],
   "source": [
    "cca3 = CCA3(strategy_name=\"CCA3\", asset_type=\"COMMODITY\")\n",
    "cca3.index = Cindex.copy()\n",
    "cca3.ret = CRet.copy()\n",
    "# cca3.load_index_and_return(from_db=False, save_file=False)\n",
    "\n",
    "\n",
    "carry_com = pd.read_csv(os.path.join(data_path, \"carry-com.csv\"), index_col=0, parse_dates=True)\n",
    "carry_com.index.name = 'tdate'\n",
    "carry_com.columns.name = 'ticker'\n",
    "\n",
    "carry_com2 = pd.read_csv(os.path.join(data_path, \"carry-com2.csv\"), index_col=0, parse_dates=True)\n",
    "carry_com2.index.name = 'tdate'\n",
    "carry_com2.columns.name = 'ticker'\n",
    "\n",
    "cca3.carry1 = carry_com\n",
    "cca3.carry2 = carry_com2\n",
    "\n",
    "# cca3.load_strategy_data(origin1='carry-com', origin2='carry-com2')\n",
    "cca3.set_rebalance_period(ts_freq='month', cs_freq='month', rebalance_weekday=1)\n",
    "cca3.calculate_signal(CS=0.35, nopos=0.4, minobs=60)\n",
    "cca3.set_portfolio_parameter(cs_strategy_type='vol', min_vol=0.15)\n",
    "cca3.make_portfolio()"
   ]
  },
  {
   "cell_type": "code",
   "execution_count": null,
   "metadata": {},
   "outputs": [],
   "source": [
    "start_date = '2001-01-01'\n",
    "end_date = '2018-05-09'\n",
    "\n",
    "# get r results\n",
    "cca3_comp_df = pd.read_csv('./past/cca3.csv', header=0, index_col=0, parse_dates=True)\n",
    "cca3_lag_comp_df = pd.read_csv('./past/cca3_lag.csv', header=0, index_col=0, parse_dates=True)"
   ]
  },
  {
   "cell_type": "code",
   "execution_count": null,
   "metadata": {},
   "outputs": [],
   "source": [
    "tester = Tester(cca3)\n",
    "tester.set_period(start=start_date, end=end_date)\n",
    "tester.run(save_file=False)"
   ]
  },
  {
   "cell_type": "code",
   "execution_count": null,
   "metadata": {},
   "outputs": [],
   "source": [
    "to_plot = (1.+ cca3_lag_comp_df).loc[start_date:].cumprod()\n",
    "to_plot['TS_python'] = tester.strategy.TS_result\n",
    "to_plot['CS_python'] = tester.strategy.CS_result\n",
    "to_plot.iplot()"
   ]
  },
  {
   "cell_type": "markdown",
   "metadata": {},
   "source": [
    "# 5. CVA3"
   ]
  },
  {
   "cell_type": "code",
   "execution_count": null,
   "metadata": {},
   "outputs": [],
   "source": [
    "cva3 = CVA3(strategy_name=\"CVA3\", asset_type=\"COMMODITY\")\n",
    "cva3.index = Cindex.copy()\n",
    "cva3.ret = CRet.copy()\n",
    "# cva3.load_index_and_return(from_db=False, save_file=False)\n",
    "\n",
    "cva3.set_rebalance_period(ts_freq='month', cs_freq='month')  # rebalance_day: monday = 0, sunday = 6\n",
    "\n",
    "fx = pd.read_csv(os.path.join(data_path, \"fx.csv\"), index_col=0, parse_dates=True)\n",
    "fx.index.name = 'tdate'\n",
    "fx.columns.name = 'ticker'\n",
    "\n",
    "fut1price = pd.read_csv(os.path.join(data_path, \"fut1price-com.csv\"), index_col=0, parse_dates=True)\n",
    "fut1price.index.name = 'tdate'\n",
    "fut1price.columns.name = 'ticker'\n",
    "\n",
    "#cva3.load_strategy_data1(table='bloom', origin='fx')\n",
    "#cva3.load_strategy_data2(table='past', origin='fut1price-com')\n",
    "cva3.fx = fx\n",
    "cva3.fut1price = fut1price\n",
    "\n",
    "cva3.calculate_signal(CS=0.35, nopos=0.4, minobs=60, minobs1=12, SMA=1, LMA=12, Lwindow=54)\n",
    "cva3.set_portfolio_parameter(cs_strategy_type='vol', min_vol=0.15)\n",
    "cva3.make_portfolio()"
   ]
  },
  {
   "cell_type": "code",
   "execution_count": null,
   "metadata": {},
   "outputs": [],
   "source": [
    "start_date = '2001-01-01'\n",
    "end_date = '2018-05-09'\n",
    "\n",
    "# get r results\n",
    "cva3_comp_df = pd.read_csv('./past/cva3.csv', header=0, index_col=0, parse_dates=True)\n",
    "cva3_lag_comp_df = pd.read_csv('./past/cva3_lag.csv', header=0, index_col=0, parse_dates=True)"
   ]
  },
  {
   "cell_type": "code",
   "execution_count": null,
   "metadata": {},
   "outputs": [],
   "source": [
    "tester = Tester(cva3)\n",
    "tester.set_period(start=start_date, end=end_date)\n",
    "tester.run(save_file=False)"
   ]
  },
  {
   "cell_type": "code",
   "execution_count": null,
   "metadata": {},
   "outputs": [],
   "source": [
    "to_plot = (1.+ cva3_lag_comp_df).loc[start_date:].cumprod()\n",
    "to_plot['TS_python'] = tester.strategy.TS_result\n",
    "to_plot['CS_python'] = tester.strategy.CS_result\n",
    "to_plot.iplot()"
   ]
  },
  {
   "cell_type": "markdown",
   "metadata": {},
   "source": [
    "# 6. CVA2"
   ]
  },
  {
   "cell_type": "code",
   "execution_count": null,
   "metadata": {},
   "outputs": [],
   "source": [
    "cva2 = CVA2(strategy_name=\"CVA2\", asset_type=\"COMMODITY\")\n",
    "# cva2.load_index_and_return(from_db=False, save_file=False)\n",
    "cva2.index = Cindex.copy()\n",
    "cva2.ret = CRet.copy()\n",
    "\n",
    "cva2.set_rebalance_period(ts_freq='week', cs_freq='week')\n",
    "# cva2.load_strategy_data(table='bloom', origin='commo pos')\n",
    "\n",
    "commopos = pd.read_csv(os.path.join(data_path, \"commo pos.csv\"), index_col=0, parse_dates=True)\n",
    "commopos.index.name = 'tdate'\n",
    "commopos.columns.name = 'ticker'\n",
    "\n",
    "cva2.commopos = commopos\n",
    "cva2.calculate_signal(CS=0.35, nopos=0.4, minobs1=12)\n",
    "cva2.set_portfolio_parameter(cs_strategy_type='vol')\n",
    "cva2.make_portfolio()"
   ]
  },
  {
   "cell_type": "code",
   "execution_count": null,
   "metadata": {},
   "outputs": [],
   "source": [
    "start_date = '2001-01-01'\n",
    "end_date = '2018-05-09'\n",
    "\n",
    "# get r results\n",
    "cva2_comp_df = pd.read_csv('./past/cva2.csv', header=0, index_col=0, parse_dates=True)\n",
    "cva2_lag_comp_df = pd.read_csv('./past/cva2_lag.csv', header=0, index_col=0, parse_dates=True)"
   ]
  },
  {
   "cell_type": "code",
   "execution_count": null,
   "metadata": {},
   "outputs": [],
   "source": [
    "tester = Tester(cva2)\n",
    "tester.set_period(start=start_date, end=end_date)\n",
    "tester.run(save_file=False)"
   ]
  },
  {
   "cell_type": "code",
   "execution_count": null,
   "metadata": {},
   "outputs": [],
   "source": [
    "to_plot = (1.+ cva2_lag_comp_df).loc[start_date:].cumprod()\n",
    "to_plot['TS_python'] = tester.strategy.TS_result\n",
    "to_plot['CS_python'] = tester.strategy.CS_result\n",
    "to_plot.iplot()"
   ]
  },
  {
   "cell_type": "markdown",
   "metadata": {},
   "source": [
    "# 7. CSS"
   ]
  },
  {
   "cell_type": "code",
   "execution_count": null,
   "metadata": {},
   "outputs": [],
   "source": [
    "strategy_name = 'CSS'\n",
    "css = CSS(strategy_name=strategy_name, asset_type=\"COMMODITY\")\n",
    "# css.load_index_and_return(from_db=False, save_file=False)\n",
    "css.index = Cindex.copy()\n",
    "css.ret = CRet.copy()\n",
    "\n",
    "fx = pd.read_csv(os.path.join(data_path, \"fx.csv\"), index_col=0, parse_dates=True)\n",
    "fx.index.name = 'tdate'\n",
    "fx.columns.name = 'ticker'\n",
    "\n",
    "carry_com = pd.read_csv(os.path.join(data_path, \"carry-com.csv\"), index_col=0, parse_dates=True)\n",
    "carry_com.index.name = 'tdate'\n",
    "carry_com.columns.name = 'ticker'\n",
    "\n",
    "carry_com2 = pd.read_csv(os.path.join(data_path, \"carry-com2.csv\"), index_col=0, parse_dates=True)\n",
    "carry_com2.index.name = 'tdate'\n",
    "carry_com2.columns.name = 'ticker'\n",
    "\n",
    "seasonal = pd.read_csv(os.path.join(data_path, \"seasonal.csv\"), index_col=0, parse_dates=True)\n",
    "seasonal.index.name = 'tdate'\n",
    "seasonal.columns.name = 'ticker'\n",
    "\n",
    "css.fx = fx\n",
    "css.carry_com = carry_com\n",
    "css.seasonal = seasonal\n",
    "\n",
    "# css.load_strategy_data1(table='bloom', origin1='fx', origin2='carry-com', origin3='carry-com2')\n",
    "# css.load_strategy_data2(table='past', origin='seasonal')\n",
    "css.set_rebalance_period(ts_freq='month', cs_freq='month', rebalance_weekday=1)  # rebalance_day: monday = 0, sunday = 6\n",
    "css.calculate_signal(CS=0.35)\n",
    "##############  R SIGNAL 비교#############\n",
    "TSRV = css.TSRV\n",
    "CSRV = css.CSRV\n",
    "\n",
    "\n",
    "R_TSRV =  pd.read_csv(os.path.join(r_signal_path, f'{strategy_name}_TSRV.csv'),\n",
    "                      index_col = 'Unnamed: 0')\n",
    "\n",
    "(R_TSRV- TSRV).abs().sum(1).iplot(title = f\"{strategy_name}_TSRV\")\n",
    "\n",
    "R_CSRV =  pd.read_csv(os.path.join(r_signal_path, f'{strategy_name}_CSRV.csv'),\n",
    "                      index_col = 'Unnamed: 0')\n",
    "\n",
    "(R_CSRV- CSRV).abs().sum(1).iplot(title = f\"{strategy_name}_CSRV\")\n",
    "###################################\n",
    "\n",
    "css.set_portfolio_parameter(cs_strategy_type='vol')\n",
    "\n",
    "\n",
    "css.make_portfolio()"
   ]
  },
  {
   "cell_type": "code",
   "execution_count": null,
   "metadata": {},
   "outputs": [],
   "source": [
    "start_date = '2001-01-01'\n",
    "end_date = '2018-05-09'\n",
    "\n",
    "# get r results\n",
    "css_comp_df = pd.read_csv('./past/css.csv', header=0, index_col=0, parse_dates=True)\n",
    "css_lag_comp_df = pd.read_csv('./past/css_lag.csv', header=0, index_col=0, parse_dates=True)"
   ]
  },
  {
   "cell_type": "code",
   "execution_count": null,
   "metadata": {},
   "outputs": [],
   "source": [
    "tester = Tester(css)\n",
    "tester.set_period(start=start_date, end=end_date)\n",
    "tester.run(save_file=False)"
   ]
  },
  {
   "cell_type": "code",
   "execution_count": null,
   "metadata": {},
   "outputs": [],
   "source": [
    "to_plot = (1.+ css_lag_comp_df).loc[start_date:].cumprod()\n",
    "to_plot['TS_python'] = tester.strategy.TS_result\n",
    "to_plot['CS_python'] = tester.strategy.CS_result\n",
    "to_plot.iplot()"
   ]
  }
 ],
 "metadata": {
  "kernelspec": {
   "display_name": "Python 3",
   "language": "python",
   "name": "python3"
  },
  "language_info": {
   "codemirror_mode": {
    "name": "ipython",
    "version": 3
   },
   "file_extension": ".py",
   "mimetype": "text/x-python",
   "name": "python",
   "nbconvert_exporter": "python",
   "pygments_lexer": "ipython3",
   "version": "3.7.3"
  }
 },
 "nbformat": 4,
 "nbformat_minor": 4
}
